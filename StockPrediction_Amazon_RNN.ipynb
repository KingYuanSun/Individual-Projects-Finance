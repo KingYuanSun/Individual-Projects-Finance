{
  "nbformat": 4,
  "nbformat_minor": 0,
  "metadata": {
    "kernelspec": {
      "name": "python3",
      "display_name": "Python 3"
    },
    "language_info": {
      "codemirror_mode": {
        "name": "ipython",
        "version": 3
      },
      "file_extension": ".py",
      "mimetype": "text/x-python",
      "name": "python",
      "nbconvert_exporter": "python",
      "pygments_lexer": "ipython3",
      "version": "3.6.1"
    },
    "colab": {
      "name": "Copy of COLAB - stock-prediction.ipynb",
      "provenance": [],
      "toc_visible": true,
      "include_colab_link": true
    },
    "accelerator": "GPU"
  },
  "cells": [
    {
      "cell_type": "markdown",
      "metadata": {
        "id": "view-in-github",
        "colab_type": "text"
      },
      "source": [
        "<a href=\"https://colab.research.google.com/github/KingYuanSun/Individual-Projects-Finance/blob/master/StockPrediction_Amazon_RNN.ipynb\" target=\"_parent\"><img src=\"https://colab.research.google.com/assets/colab-badge.svg\" alt=\"Open In Colab\"/></a>"
      ]
    },
    {
      "cell_type": "markdown",
      "metadata": {
        "id": "_C1o_GkUBYfJ",
        "colab_type": "text"
      },
      "source": [
        "Adapted by Carlos Toxtli http://www.carlostoxtli.com/#colab-stock-1\n",
        "\n",
        "Credits: https://github.com/Kulbear/stock-prediction"
      ]
    },
    {
      "cell_type": "code",
      "metadata": {
        "id": "Ps7rLFaH5TRI",
        "colab_type": "code",
        "colab": {
          "base_uri": "https://localhost:8080/",
          "height": 122
        },
        "outputId": "1b067fcb-4bef-4b7a-f757-8b0efeb52462"
      },
      "source": [
        "!git clone https://github.com/Kulbear/stock-prediction\n",
        "%cd stock-prediction"
      ],
      "execution_count": 204,
      "outputs": [
        {
          "output_type": "stream",
          "text": [
            "Cloning into 'stock-prediction'...\n",
            "remote: Enumerating objects: 34, done.\u001b[K\n",
            "Unpacking objects:   2% (1/34)   \rUnpacking objects:   5% (2/34)   \rUnpacking objects:   8% (3/34)   \rUnpacking objects:  11% (4/34)   \rUnpacking objects:  14% (5/34)   \rUnpacking objects:  17% (6/34)   \rUnpacking objects:  20% (7/34)   \rUnpacking objects:  23% (8/34)   \rUnpacking objects:  26% (9/34)   \rUnpacking objects:  29% (10/34)   \rUnpacking objects:  32% (11/34)   \rUnpacking objects:  35% (12/34)   \rUnpacking objects:  38% (13/34)   \rUnpacking objects:  41% (14/34)   \rUnpacking objects:  44% (15/34)   \rUnpacking objects:  47% (16/34)   \rUnpacking objects:  50% (17/34)   \rUnpacking objects:  52% (18/34)   \rUnpacking objects:  55% (19/34)   \rUnpacking objects:  58% (20/34)   \rremote: Total 34 (delta 0), reused 0 (delta 0), pack-reused 34\u001b[K\n",
            "Unpacking objects:  61% (21/34)   \rUnpacking objects:  64% (22/34)   \rUnpacking objects:  67% (23/34)   \rUnpacking objects:  70% (24/34)   \rUnpacking objects:  73% (25/34)   \rUnpacking objects:  76% (26/34)   \rUnpacking objects:  79% (27/34)   \rUnpacking objects:  82% (28/34)   \rUnpacking objects:  85% (29/34)   \rUnpacking objects:  88% (30/34)   \rUnpacking objects:  91% (31/34)   \rUnpacking objects:  94% (32/34)   \rUnpacking objects:  97% (33/34)   \rUnpacking objects: 100% (34/34)   \rUnpacking objects: 100% (34/34), done.\n",
            "/content/stock-prediction/stock-prediction/stock-prediction/stock-prediction/stock-prediction/stock-prediction/stock-prediction/stock-prediction/stock-prediction/stock-prediction/stock-prediction/stock-prediction/stock-prediction/stock-prediction/stock-prediction\n"
          ],
          "name": "stdout"
        }
      ]
    },
    {
      "cell_type": "markdown",
      "metadata": {
        "id": "fuIY308aBUdK",
        "colab_type": "text"
      },
      "source": [
        "# Stock Prediction with Recurrent Neural Network\n",
        "\n",
        "Deep learning is involved a lot in the modern quantitive financial field. There are many different neural networks can be applied to stock price prediction problems. The recurrent neural network, to be specific, the Long Short Term Memory(LSTM) network outperforms others architecture since it can take advantage of predicting time series (or sequentially) involved result with a specific configuration.\n",
        "\n",
        "We will make a really simple LSTM with Keras to predict the stock price in the Chinese stock."
      ]
    },
    {
      "cell_type": "code",
      "metadata": {
        "id": "OpV1YvtYBUdL",
        "colab_type": "code",
        "colab": {}
      },
      "source": [
        "import time\n",
        "import math\n",
        "from keras.models import Sequential\n",
        "from keras.layers.core import Dense, Dropout, Activation\n",
        "from keras.layers.recurrent import LSTM\n",
        "import numpy as np\n",
        "import pandas as pd\n",
        "import sklearn.preprocessing as prep"
      ],
      "execution_count": 205,
      "outputs": []
    },
    {
      "cell_type": "markdown",
      "metadata": {
        "id": "nR4Dzh4fBUdP",
        "colab_type": "text"
      },
      "source": [
        "## Import Data\n",
        "\n",
        "I have introduced how we get this dataset both in README.md and in another notebook."
      ]
    },
    {
      "cell_type": "code",
      "metadata": {
        "id": "VZHc3wx6BUdQ",
        "colab_type": "code",
        "colab": {
          "base_uri": "https://localhost:8080/",
          "height": 204
        },
        "outputId": "20ca8e32-64b2-48e4-d256-9a571218872d"
      },
      "source": [
        "df = pd.read_csv('000002-from-1995-01-01.csv')\n",
        "df.head()"
      ],
      "execution_count": 206,
      "outputs": [
        {
          "output_type": "execute_result",
          "data": {
            "text/html": [
              "<div>\n",
              "<style scoped>\n",
              "    .dataframe tbody tr th:only-of-type {\n",
              "        vertical-align: middle;\n",
              "    }\n",
              "\n",
              "    .dataframe tbody tr th {\n",
              "        vertical-align: top;\n",
              "    }\n",
              "\n",
              "    .dataframe thead th {\n",
              "        text-align: right;\n",
              "    }\n",
              "</style>\n",
              "<table border=\"1\" class=\"dataframe\">\n",
              "  <thead>\n",
              "    <tr style=\"text-align: right;\">\n",
              "      <th></th>\n",
              "      <th>open</th>\n",
              "      <th>high</th>\n",
              "      <th>low</th>\n",
              "      <th>volume</th>\n",
              "      <th>amount</th>\n",
              "      <th>close</th>\n",
              "    </tr>\n",
              "  </thead>\n",
              "  <tbody>\n",
              "    <tr>\n",
              "      <th>0</th>\n",
              "      <td>20.64</td>\n",
              "      <td>20.64</td>\n",
              "      <td>20.37</td>\n",
              "      <td>16362363.0</td>\n",
              "      <td>3.350027e+08</td>\n",
              "      <td>20.56</td>\n",
              "    </tr>\n",
              "    <tr>\n",
              "      <th>1</th>\n",
              "      <td>20.92</td>\n",
              "      <td>20.92</td>\n",
              "      <td>20.60</td>\n",
              "      <td>21850597.0</td>\n",
              "      <td>4.520071e+08</td>\n",
              "      <td>20.64</td>\n",
              "    </tr>\n",
              "    <tr>\n",
              "      <th>2</th>\n",
              "      <td>21.00</td>\n",
              "      <td>21.15</td>\n",
              "      <td>20.72</td>\n",
              "      <td>26910139.0</td>\n",
              "      <td>5.628396e+08</td>\n",
              "      <td>20.94</td>\n",
              "    </tr>\n",
              "    <tr>\n",
              "      <th>3</th>\n",
              "      <td>20.70</td>\n",
              "      <td>21.57</td>\n",
              "      <td>20.70</td>\n",
              "      <td>64585536.0</td>\n",
              "      <td>1.363421e+09</td>\n",
              "      <td>21.02</td>\n",
              "    </tr>\n",
              "    <tr>\n",
              "      <th>4</th>\n",
              "      <td>20.60</td>\n",
              "      <td>20.70</td>\n",
              "      <td>20.20</td>\n",
              "      <td>45886018.0</td>\n",
              "      <td>9.382043e+08</td>\n",
              "      <td>20.70</td>\n",
              "    </tr>\n",
              "  </tbody>\n",
              "</table>\n",
              "</div>"
            ],
            "text/plain": [
              "    open   high    low      volume        amount  close\n",
              "0  20.64  20.64  20.37  16362363.0  3.350027e+08  20.56\n",
              "1  20.92  20.92  20.60  21850597.0  4.520071e+08  20.64\n",
              "2  21.00  21.15  20.72  26910139.0  5.628396e+08  20.94\n",
              "3  20.70  21.57  20.70  64585536.0  1.363421e+09  21.02\n",
              "4  20.60  20.70  20.20  45886018.0  9.382043e+08  20.70"
            ]
          },
          "metadata": {
            "tags": []
          },
          "execution_count": 206
        }
      ]
    },
    {
      "cell_type": "code",
      "metadata": {
        "id": "S6KCB0z3EC2C",
        "colab_type": "code",
        "colab": {
          "base_uri": "https://localhost:8080/",
          "height": 768
        },
        "outputId": "5f4f22f1-a8fe-42ec-e31f-8aa299f4cb9e"
      },
      "source": [
        "!pip install yfinance\n",
        "import yfinance as yf\n",
        "tickers = ['AMZN']\n",
        "# ohlc = yf.download(tickers, start=\"2001-1-1\", end=\"2007-07-01\")\n",
        "ohlc = yf.download(tickers, start=\"2010-1-1\", end=\"2019-02-01\")\n",
        "#print (ohlc)\n",
        "print(list(ohlc.columns.values))\n",
        "# ohlc.head()\n",
        "ohlc_reversed = ohlc.sort_values(['Date'], ascending=[False])\n",
        "print (ohlc_reversed)\n",
        "\n",
        "print (df)\n",
        "\n",
        "df = ohlc_reversed\n"
      ],
      "execution_count": 207,
      "outputs": [
        {
          "output_type": "stream",
          "text": [
            "Requirement already satisfied: yfinance in /usr/local/lib/python3.6/dist-packages (0.1.54)\n",
            "Requirement already satisfied: pandas>=0.24 in /usr/local/lib/python3.6/dist-packages (from yfinance) (1.0.5)\n",
            "Requirement already satisfied: multitasking>=0.0.7 in /usr/local/lib/python3.6/dist-packages (from yfinance) (0.0.9)\n",
            "Requirement already satisfied: numpy>=1.15 in /usr/local/lib/python3.6/dist-packages (from yfinance) (1.18.5)\n",
            "Requirement already satisfied: requests>=2.20 in /usr/local/lib/python3.6/dist-packages (from yfinance) (2.23.0)\n",
            "Requirement already satisfied: pytz>=2017.2 in /usr/local/lib/python3.6/dist-packages (from pandas>=0.24->yfinance) (2018.9)\n",
            "Requirement already satisfied: python-dateutil>=2.6.1 in /usr/local/lib/python3.6/dist-packages (from pandas>=0.24->yfinance) (2.8.1)\n",
            "Requirement already satisfied: certifi>=2017.4.17 in /usr/local/lib/python3.6/dist-packages (from requests>=2.20->yfinance) (2020.6.20)\n",
            "Requirement already satisfied: chardet<4,>=3.0.2 in /usr/local/lib/python3.6/dist-packages (from requests>=2.20->yfinance) (3.0.4)\n",
            "Requirement already satisfied: urllib3!=1.25.0,!=1.25.1,<1.26,>=1.21.1 in /usr/local/lib/python3.6/dist-packages (from requests>=2.20->yfinance) (1.24.3)\n",
            "Requirement already satisfied: idna<3,>=2.5 in /usr/local/lib/python3.6/dist-packages (from requests>=2.20->yfinance) (2.10)\n",
            "Requirement already satisfied: six>=1.5 in /usr/local/lib/python3.6/dist-packages (from python-dateutil>=2.6.1->pandas>=0.24->yfinance) (1.15.0)\n",
            "[*********************100%***********************]  1 of 1 completed\n",
            "['Open', 'High', 'Low', 'Close', 'Adj Close', 'Volume']\n",
            "                   Open         High  ...    Adj Close    Volume\n",
            "Date                                  ...                       \n",
            "2019-01-31  1692.849976  1736.410034  ...  1718.729980  10910300\n",
            "2019-01-30  1623.000000  1676.949951  ...  1670.430054   5783800\n",
            "2019-01-29  1631.270020  1632.380005  ...  1593.880005   4632800\n",
            "2019-01-28  1643.589966  1645.000000  ...  1637.890015   4837700\n",
            "2019-01-25  1670.500000  1683.479980  ...  1670.569946   4945900\n",
            "...                 ...          ...  ...          ...       ...\n",
            "2010-01-08   130.559998   133.679993  ...   133.520004   9830500\n",
            "2010-01-07   132.009995   132.320007  ...   130.000000  11030200\n",
            "2010-01-06   134.600006   134.729996  ...   132.250000   7178800\n",
            "2010-01-05   133.429993   135.479996  ...   134.690002   8851900\n",
            "2010-01-04   136.250000   136.610001  ...   133.899994   7599900\n",
            "\n",
            "[2285 rows x 6 columns]\n",
            "       open   high    low      volume        amount  close\n",
            "0     20.64  20.64  20.37  16362363.0  3.350027e+08  20.56\n",
            "1     20.92  20.92  20.60  21850597.0  4.520071e+08  20.64\n",
            "2     21.00  21.15  20.72  26910139.0  5.628396e+08  20.94\n",
            "3     20.70  21.57  20.70  64585536.0  1.363421e+09  21.02\n",
            "4     20.60  20.70  20.20  45886018.0  9.382043e+08  20.70\n",
            "...     ...    ...    ...         ...           ...    ...\n",
            "5180   6.15   6.15   6.00    279500.0  1.688290e+06   6.02\n",
            "5181   6.08   6.18   6.02    462600.0  2.827351e+06   6.18\n",
            "5182   6.26   6.35   6.12    560400.0  3.499405e+06   6.15\n",
            "5183   6.20   6.31   6.06    544600.0  3.385705e+06   6.26\n",
            "5184   6.03   6.19   5.85    378800.0  2.283170e+06   6.17\n",
            "\n",
            "[5185 rows x 6 columns]\n"
          ],
          "name": "stdout"
        }
      ]
    },
    {
      "cell_type": "markdown",
      "metadata": {
        "id": "rzVasIq0BUdU",
        "colab_type": "text"
      },
      "source": [
        "## Preprocess Data\n",
        "\n",
        "We can see from the table above that the scales of our features vary a lot. It will be beneficial to normalize your training data before you feed data into your model. \"Having different features with widely different scales fed to your model will cause the network to weight the features not equally. This can cause a falsely prioritisation of some features over the others in the representation.\" Read [here](http://stackoverflow.com/a/43526354/6670143) for more detailed explanation."
      ]
    },
    {
      "cell_type": "code",
      "metadata": {
        "id": "XaxyI3UaBUdb",
        "colab_type": "code",
        "colab": {}
      },
      "source": [
        "def standard_scaler(X_train, X_test):\n",
        "    train_samples, train_nx, train_ny = X_train.shape\n",
        "    test_samples, test_nx, test_ny = X_test.shape\n",
        "    \n",
        "    X_train = X_train.reshape((train_samples, train_nx * train_ny))\n",
        "    X_test = X_test.reshape((test_samples, test_nx * test_ny))\n",
        "    \n",
        "    preprocessor = prep.StandardScaler().fit(X_train)\n",
        "    X_train = preprocessor.transform(X_train)\n",
        "    X_test = preprocessor.transform(X_test)\n",
        "    \n",
        "    X_train = X_train.reshape((train_samples, train_nx, train_ny))\n",
        "    X_test = X_test.reshape((test_samples, test_nx, test_ny))\n",
        "    \n",
        "    return X_train, X_test"
      ],
      "execution_count": 208,
      "outputs": []
    },
    {
      "cell_type": "markdown",
      "metadata": {
        "id": "J49KcuxkBUdg",
        "colab_type": "text"
      },
      "source": [
        "Split the data to X_train, y_train, X_test, y_test"
      ]
    },
    {
      "cell_type": "code",
      "metadata": {
        "id": "WLM8-3-aBUdg",
        "colab_type": "code",
        "colab": {}
      },
      "source": [
        "def preprocess_data(stock, seq_len):\n",
        "    amount_of_features = len(stock.columns)\n",
        "    data = stock.values\n",
        "    \n",
        "    sequence_length = seq_len + 1\n",
        "    result = []\n",
        "    ## Probably here add another column as the label.\n",
        "    for index in range(len(data) - sequence_length):\n",
        "        result.append(data[index : index + sequence_length])\n",
        "        \n",
        "    result = np.array(result)\n",
        "    row = round(0.9 * result.shape[0])\n",
        "    train = result[: int(row), :]\n",
        "\n",
        "    # print (result)\n",
        "    # print (row)\n",
        "    print (train[:, : -1])\n",
        "    print (train[:, -1][: ,-1]) \n",
        "\n",
        "    print (result[int(row) :, -1][ : ,-1]) \n",
        "\n",
        "    train, result = standard_scaler(train, result)\n",
        "    \n",
        "    X_train = train[:, : -1]\n",
        "    y_train = train[:, -1][: ,-1]\n",
        "    X_test = result[int(row) :, : -1]\n",
        "    y_test = result[int(row) :, -1][ : ,-1]\n",
        "\n",
        "    X_train = np.reshape(X_train, (X_train.shape[0], X_train.shape[1], amount_of_features))\n",
        "    X_test = np.reshape(X_test, (X_test.shape[0], X_test.shape[1], amount_of_features)) \n",
        "\n",
        " \n",
        "\n",
        "    return [X_train, y_train, X_test, y_test]"
      ],
      "execution_count": 209,
      "outputs": []
    },
    {
      "cell_type": "markdown",
      "metadata": {
        "id": "-Ig_EdoKBUdj",
        "colab_type": "text"
      },
      "source": [
        "## Build the LSTM Network\n",
        "\n",
        "Here we will build a simple RNN with 2 LSTM layers.\n",
        "The architecture is:\n",
        "    \n",
        "    LSTM --> Dropout --> LSTM --> Dropout --> Fully-Conneted(Dense)"
      ]
    },
    {
      "cell_type": "code",
      "metadata": {
        "id": "r3iZMtQ1BUdk",
        "colab_type": "code",
        "colab": {}
      },
      "source": [
        "def build_model(layers):\n",
        "\n",
        "    model = Sequential()\n",
        "    model.add(LSTM(512, input_shape=(X_train.shape[1], X_train.shape[2]), return_sequences=True))\n",
        "    model.add(Dropout(0.4))\n",
        "    model.add(LSTM(256, return_sequences=True))\n",
        "    model.add(Dropout(0.3))\n",
        "    model.add(LSTM(128, return_sequences=True))\n",
        "    model.add(Dropout(0.2))\n",
        "    model.add(LSTM(64, return_sequences=True))\n",
        "    model.add(Dropout(0.2))\n",
        "    model.add(LSTM(32))\n",
        "    model.add(Dense(1, activation='linear'))\n",
        "\n",
        "    start = time.time()\n",
        "    model.compile(loss='mean_squared_error', optimizer='adam', metrics=['accuracy'])\n",
        "    model.summary() \n",
        "    print(\"Compilation Time : \", time.time() - start)\n",
        "    return model"
      ],
      "execution_count": 210,
      "outputs": []
    },
    {
      "cell_type": "code",
      "metadata": {
        "id": "LBMidPNzBUdm",
        "colab_type": "code",
        "colab": {
          "base_uri": "https://localhost:8080/",
          "height": 1000
        },
        "outputId": "fc7557c1-48b4-4c35-be1a-a736e00a417e"
      },
      "source": [
        "window = 20\n",
        "X_train, y_train, X_test, y_test = preprocess_data(df[:: -1], window)\n",
        "print(\"X_train\", X_train.shape)\n",
        "print(\"y_train\", y_train.shape)\n",
        "print(\"X_test\", X_test.shape)\n",
        "print(\"y_test\", y_test.shape)\n",
        "# print (X_train)\n",
        "# print (y_train)\n",
        "# print (X_test)\n",
        "# print (y_test)"
      ],
      "execution_count": 211,
      "outputs": [
        {
          "output_type": "stream",
          "text": [
            "[[[1.36250000e+02 1.36610001e+02 1.33139999e+02 1.33899994e+02\n",
            "   1.33899994e+02 7.59990000e+06]\n",
            "  [1.33429993e+02 1.35479996e+02 1.31809998e+02 1.34690002e+02\n",
            "   1.34690002e+02 8.85190000e+06]\n",
            "  [1.34600006e+02 1.34729996e+02 1.31649994e+02 1.32250000e+02\n",
            "   1.32250000e+02 7.17880000e+06]\n",
            "  ...\n",
            "  [1.24430000e+02 1.27199997e+02 1.22800003e+02 1.26029999e+02\n",
            "   1.26029999e+02 2.72931000e+07]\n",
            "  [1.29770004e+02 1.31850006e+02 1.24139999e+02 1.25410004e+02\n",
            "   1.25410004e+02 2.94713000e+07]\n",
            "  [1.23180000e+02 1.24860001e+02 1.13820000e+02 1.18870003e+02\n",
            "   1.18870003e+02 3.77744000e+07]]\n",
            "\n",
            " [[1.33429993e+02 1.35479996e+02 1.31809998e+02 1.34690002e+02\n",
            "   1.34690002e+02 8.85190000e+06]\n",
            "  [1.34600006e+02 1.34729996e+02 1.31649994e+02 1.32250000e+02\n",
            "   1.32250000e+02 7.17880000e+06]\n",
            "  [1.32009995e+02 1.32320007e+02 1.28800003e+02 1.30000000e+02\n",
            "   1.30000000e+02 1.10302000e+07]\n",
            "  ...\n",
            "  [1.29770004e+02 1.31850006e+02 1.24139999e+02 1.25410004e+02\n",
            "   1.25410004e+02 2.94713000e+07]\n",
            "  [1.23180000e+02 1.24860001e+02 1.13820000e+02 1.18870003e+02\n",
            "   1.18870003e+02 3.77744000e+07]\n",
            "  [1.18790001e+02 1.18980003e+02 1.14400002e+02 1.18120003e+02\n",
            "   1.18120003e+02 2.30797000e+07]]\n",
            "\n",
            " [[1.34600006e+02 1.34729996e+02 1.31649994e+02 1.32250000e+02\n",
            "   1.32250000e+02 7.17880000e+06]\n",
            "  [1.32009995e+02 1.32320007e+02 1.28800003e+02 1.30000000e+02\n",
            "   1.30000000e+02 1.10302000e+07]\n",
            "  [1.30559998e+02 1.33679993e+02 1.29029999e+02 1.33520004e+02\n",
            "   1.33520004e+02 9.83050000e+06]\n",
            "  ...\n",
            "  [1.23180000e+02 1.24860001e+02 1.13820000e+02 1.18870003e+02\n",
            "   1.18870003e+02 3.77744000e+07]\n",
            "  [1.18790001e+02 1.18980003e+02 1.14400002e+02 1.18120003e+02\n",
            "   1.18120003e+02 2.30797000e+07]\n",
            "  [1.17120003e+02 1.19610001e+02 1.16559998e+02 1.19099998e+02\n",
            "   1.19099998e+02 1.24059000e+07]]\n",
            "\n",
            " ...\n",
            "\n",
            " [[1.47739001e+03 1.49800000e+03 1.41400000e+03 1.42994995e+03\n",
            "   1.42994995e+03 1.11257000e+07]\n",
            "  [1.40262000e+03 1.45897998e+03 1.32071997e+03 1.39000000e+03\n",
            "   1.39000000e+03 1.14950000e+07]\n",
            "  [1.36145996e+03 1.44398999e+03 1.35179004e+03 1.44283997e+03\n",
            "   1.44283997e+03 1.10668000e+07]\n",
            "  ...\n",
            "  [1.51951001e+03 1.52869995e+03 1.51200000e+03 1.51244995e+03\n",
            "   1.51244995e+03 4.51500000e+06]\n",
            "  [1.51359998e+03 1.51848999e+03 1.46500000e+03 1.49344995e+03\n",
            "   1.49344995e+03 6.83520000e+06]\n",
            "  [1.46909998e+03 1.50105005e+03 1.45501001e+03 1.50025000e+03\n",
            "   1.50025000e+03 6.58760000e+06]]\n",
            "\n",
            " [[1.40262000e+03 1.45897998e+03 1.32071997e+03 1.39000000e+03\n",
            "   1.39000000e+03 1.14950000e+07]\n",
            "  [1.36145996e+03 1.44398999e+03 1.35179004e+03 1.44283997e+03\n",
            "   1.44283997e+03 1.10668000e+07]\n",
            "  [1.44900000e+03 1.46098999e+03 1.41515002e+03 1.41678003e+03\n",
            "   1.41678003e+03 7.16270000e+06]\n",
            "  ...\n",
            "  [1.51359998e+03 1.51848999e+03 1.46500000e+03 1.49344995e+03\n",
            "   1.49344995e+03 6.83520000e+06]\n",
            "  [1.46909998e+03 1.50105005e+03 1.45501001e+03 1.50025000e+03\n",
            "   1.50025000e+03 6.58760000e+06]\n",
            "  [1.49423999e+03 1.52538000e+03 1.48100000e+03 1.52360999e+03\n",
            "   1.52360999e+03 5.23390000e+06]]\n",
            "\n",
            " [[1.36145996e+03 1.44398999e+03 1.35179004e+03 1.44283997e+03\n",
            "   1.44283997e+03 1.10668000e+07]\n",
            "  [1.44900000e+03 1.46098999e+03 1.41515002e+03 1.41678003e+03\n",
            "   1.41678003e+03 7.16270000e+06]\n",
            "  [1.42968005e+03 1.43375000e+03 1.34993994e+03 1.35050000e+03\n",
            "   1.35050000e+03 8.57860000e+06]\n",
            "  ...\n",
            "  [1.46909998e+03 1.50105005e+03 1.45501001e+03 1.50025000e+03\n",
            "   1.50025000e+03 6.58760000e+06]\n",
            "  [1.49423999e+03 1.52538000e+03 1.48100000e+03 1.52360999e+03\n",
            "   1.52360999e+03 5.23390000e+06]\n",
            "  [1.53319995e+03 1.54213000e+03 1.52800000e+03 1.53764001e+03\n",
            "   1.53764001e+03 4.56170000e+06]]]\n",
            "[23079700. 12405900. 12784000. ...  5233900.  4561700.  4174100.]\n",
            "[ 3862600.  4534300.  5174200.  6531900.  4259400.  4069700.  5425000.\n",
            "  6580800.  4581600.  4750800.  6320600.  8006000.  5624700.  6999600.\n",
            " 13705300. 12581100. 10463600. 10231200.  6982300.  6413500.  5882300.\n",
            "  4208200.  4254100.  3582500.  3135000.  3685300.  2808600.  5114400.\n",
            "  5227500.  6523700.  5541600.  4465400.  7494700.  6587300.  8801100.\n",
            " 13053200.  5464100.  4572100.  4360300.  4251900.  3443600.  3801900.\n",
            "  3067900.  3637300.  2817500.  2263900.  2509500.  5077500.  2570600.\n",
            "  2147600.  2642600.  2925200.  2115600.  3361900.  3430000.  2698400.\n",
            "  3846500.  2907400.  3166300.  3313400.  3187700.  4782200.  5473200.\n",
            "  3765700.  2955100.  2335500.  2259200.  3327500.  3174400.  4777600.\n",
            "  3107700.  4290100.  4332600.  4941100.  4075100.  7511200.  4386600.\n",
            "  4872200.  4529700.  4543500.  3185700.  2177300.  2983100.  2650300.\n",
            "  3012000.  3002900.  3209800.  4532700.  4383200.  5466200.  5682900.\n",
            "  4861900.  4676900.  3884400.  3888500.  4278700.  3738200.  9924400.\n",
            "  9681000.  6562300.  5738700.  4153100.  4354700.  3460500.  3391800.\n",
            "  3377500.  3963000.  4860400.  3639900.  5531500.  3986100.  7700700.\n",
            "  3957100.  4104300.  2862000.  3105600.  3080500.  3563000.  2800900.\n",
            "  3569000.  3100700.  6531800.  7277300.  4204400.  5721100.  8220600.\n",
            "  7488700.  4892600.  4544800.  5033600.  4414000.  3621500.  3642000.\n",
            "  7050200.  4268700.  4056800.  3154900.  6855900.  4213700.  4538400.\n",
            "  4313500.  4329400.  4085100.  3460500.  5400700.  5253100.  7257000.\n",
            "  6822300.  7393200.  4772900. 10988900. 13935900.  9444600.  6437200.\n",
            "  5859900.  5295200.  5874000.  5907200.  4500000.  6723900.  6928400.\n",
            " 10285700. 14963800. 13866100. 12460100.  9390200.  8135500.  6955500.\n",
            "  5624700.  4257400.  8192200.  6534900.  5902200.  6806200.  5933300.\n",
            "  6486900.  8427300.  6066100.  7790000. 10878800.  5716800.  2707600.\n",
            "  6257700.  5783200.  8458700.  6613200.  5761800.  6862300.  8694500.\n",
            "  8789400.  7576100.  7494800.  6244700.  6598000.  5271300.  6367200.\n",
            "  8829800.  6523000.  8792200.  9991800. 13640300.  7220000. 10411800.\n",
            "  9722000.  8829000.  6954500.  7983100.  6975600.  9182600.  7993200.\n",
            "  8881400.  6348800.  6507700.  4686200.  6005900.  5998500.  6366900.\n",
            "  4208900.  6020500.  6416800.  5225200.  4089900.  4945900.  4837700.\n",
            "  4632800.  5783800.]\n",
            "X_train (2038, 20, 6)\n",
            "y_train (2038,)\n",
            "X_test (226, 20, 6)\n",
            "y_test (226,)\n"
          ],
          "name": "stdout"
        }
      ]
    },
    {
      "cell_type": "code",
      "metadata": {
        "id": "FIIi_bzbBUdp",
        "colab_type": "code",
        "colab": {
          "base_uri": "https://localhost:8080/",
          "height": 510
        },
        "outputId": "ff40aeb7-6020-4030-c2ae-e0e696108d03"
      },
      "source": [
        "model = build_model([X_train.shape[2], window, 100, 1])"
      ],
      "execution_count": 212,
      "outputs": [
        {
          "output_type": "stream",
          "text": [
            "Model: \"sequential_13\"\n",
            "_________________________________________________________________\n",
            "Layer (type)                 Output Shape              Param #   \n",
            "=================================================================\n",
            "lstm_65 (LSTM)               (None, 20, 512)           1062912   \n",
            "_________________________________________________________________\n",
            "dropout_52 (Dropout)         (None, 20, 512)           0         \n",
            "_________________________________________________________________\n",
            "lstm_66 (LSTM)               (None, 20, 256)           787456    \n",
            "_________________________________________________________________\n",
            "dropout_53 (Dropout)         (None, 20, 256)           0         \n",
            "_________________________________________________________________\n",
            "lstm_67 (LSTM)               (None, 20, 128)           197120    \n",
            "_________________________________________________________________\n",
            "dropout_54 (Dropout)         (None, 20, 128)           0         \n",
            "_________________________________________________________________\n",
            "lstm_68 (LSTM)               (None, 20, 64)            49408     \n",
            "_________________________________________________________________\n",
            "dropout_55 (Dropout)         (None, 20, 64)            0         \n",
            "_________________________________________________________________\n",
            "lstm_69 (LSTM)               (None, 32)                12416     \n",
            "_________________________________________________________________\n",
            "dense_13 (Dense)             (None, 1)                 33        \n",
            "=================================================================\n",
            "Total params: 2,109,345\n",
            "Trainable params: 2,109,345\n",
            "Non-trainable params: 0\n",
            "_________________________________________________________________\n",
            "Compilation Time :  0.013121604919433594\n"
          ],
          "name": "stdout"
        }
      ]
    },
    {
      "cell_type": "markdown",
      "metadata": {
        "id": "CDvJll2VBUdr",
        "colab_type": "text"
      },
      "source": [
        "## Training the Network\n",
        "\n",
        "You can play with the hyperparameters here. The training process can take a significant time if you are using a average GPU or CPU(worse!)."
      ]
    },
    {
      "cell_type": "code",
      "metadata": {
        "id": "PfB-fgI_BUds",
        "colab_type": "code",
        "colab": {
          "base_uri": "https://localhost:8080/",
          "height": 34
        },
        "outputId": "376f9382-bbdd-4baa-cd1a-433b6bbf5b87"
      },
      "source": [
        "model.fit(\n",
        "    X_train,\n",
        "    y_train,\n",
        "    batch_size=768,\n",
        "    epochs=200,\n",
        "    validation_split=0.1,\n",
        "    verbose=0)"
      ],
      "execution_count": 213,
      "outputs": [
        {
          "output_type": "execute_result",
          "data": {
            "text/plain": [
              "<tensorflow.python.keras.callbacks.History at 0x7f635030b2e8>"
            ]
          },
          "metadata": {
            "tags": []
          },
          "execution_count": 213
        }
      ]
    },
    {
      "cell_type": "code",
      "metadata": {
        "id": "1j73jgmmBUdv",
        "colab_type": "code",
        "colab": {
          "base_uri": "https://localhost:8080/",
          "height": 51
        },
        "outputId": "7f36b25f-77b2-49b7-efdf-60c1ddab3390"
      },
      "source": [
        "trainScore = model.evaluate(X_train, y_train, verbose=0)\n",
        "print('Train Score: %.2f MSE (%.2f RMSE)' % (trainScore[0], math.sqrt(trainScore[0])))\n",
        "\n",
        "testScore = model.evaluate(X_test, y_test, verbose=0)\n",
        "print('Test Score: %.2f MSE (%.2f RMSE)' % (testScore[0], math.sqrt(testScore[0])))"
      ],
      "execution_count": 214,
      "outputs": [
        {
          "output_type": "stream",
          "text": [
            "Train Score: 0.35 MSE (0.59 RMSE)\n",
            "Test Score: 0.73 MSE (0.86 RMSE)\n"
          ],
          "name": "stdout"
        }
      ]
    },
    {
      "cell_type": "markdown",
      "metadata": {
        "id": "j-awbWzPBUdx",
        "colab_type": "text"
      },
      "source": [
        "## Visualize the Prediction"
      ]
    },
    {
      "cell_type": "code",
      "metadata": {
        "id": "dZfWoXLJBUdy",
        "colab_type": "code",
        "colab": {}
      },
      "source": [
        "diff = []\n",
        "ratio = []\n",
        "pred = model.predict(X_test)\n",
        "for u in range(len(y_test)):\n",
        "    pr = pred[u][0]\n",
        "    ratio.append((y_test[u] / pr) - 1)\n",
        "    diff.append(abs(y_test[u] - pr))"
      ],
      "execution_count": 215,
      "outputs": []
    },
    {
      "cell_type": "code",
      "metadata": {
        "id": "mZhqCOJrBUd0",
        "colab_type": "code",
        "colab": {}
      },
      "source": [
        "# TODO: Scale it back"
      ],
      "execution_count": 216,
      "outputs": []
    },
    {
      "cell_type": "code",
      "metadata": {
        "id": "5FPS2nypBUd3",
        "colab_type": "code",
        "colab": {
          "base_uri": "https://localhost:8080/",
          "height": 266
        },
        "outputId": "96a35689-1550-4b6a-835b-e9bc1336a639"
      },
      "source": [
        "# if using within a jupyter notebook\n",
        "%matplotlib inline \n",
        "\n",
        "import matplotlib\n",
        "import matplotlib.pyplot as plt2\n",
        "\n",
        "plt2.plot(pred, color='red', label='Prediction')\n",
        "plt2.plot(y_test, color='blue', label='Ground Truth')\n",
        "plt2.legend(loc='upper left')\n",
        "plt2.show()"
      ],
      "execution_count": 217,
      "outputs": [
        {
          "output_type": "display_data",
          "data": {
            "image/png": "[encoded data removed]",
            "text/plain": [
              "<Figure size 432x288 with 1 Axes>"
            ]
          },
          "metadata": {
            "tags": [],
            "needs_background": "light"
          }
        }
      ]
    }
  ]
}