{
  "nbformat": 4,
  "nbformat_minor": 0,
  "metadata": {
    "kernelspec": {
      "name": "python3",
      "display_name": "Python 3"
    },
    "language_info": {
      "codemirror_mode": {
        "name": "ipython",
        "version": 3
      },
      "file_extension": ".py",
      "mimetype": "text/x-python",
      "name": "python",
      "nbconvert_exporter": "python",
      "pygments_lexer": "ipython3",
      "version": "3.6.1"
    },
    "colab": {
      "name": "Copy of COLAB - stock-prediction.ipynb",
      "provenance": [],
      "toc_visible": true,
      "include_colab_link": true
    },
    "accelerator": "GPU"
  },
  "cells": [
    {
      "cell_type": "markdown",
      "metadata": {
        "id": "view-in-github",
        "colab_type": "text"
      },
      "source": [
        "<a href=\"https://colab.research.google.com/github/KingYuanSun/Individual-Projects-Finance/blob/master/StockPrediction_Amazon_RNN.ipynb\" target=\"_parent\"><img src=\"https://colab.research.google.com/assets/colab-badge.svg\" alt=\"Open In Colab\"/></a>"
      ]
    },
    {
      "cell_type": "markdown",
      "metadata": {
        "id": "_C1o_GkUBYfJ",
        "colab_type": "text"
      },
      "source": [
        "Adapted by Carlos Toxtli http://www.carlostoxtli.com/#colab-stock-1\n",
        "\n",
        "Credits: https://github.com/Kulbear/stock-prediction"
      ]
    },
    {
      "cell_type": "code",
      "metadata": {
        "id": "Ps7rLFaH5TRI",
        "colab_type": "code",
        "colab": {
          "base_uri": "https://localhost:8080/",
          "height": 122
        },
        "outputId": "9f6a25d7-891c-442f-e584-6a220486a873"
      },
      "source": [
        "!git clone https://github.com/Kulbear/stock-prediction\n",
        "%cd stock-prediction"
      ],
      "execution_count": 353,
      "outputs": [
        {
          "output_type": "stream",
          "text": [
            "Cloning into 'stock-prediction'...\n",
            "remote: Enumerating objects: 34, done.\u001b[K\n",
            "remote: Total 34 (delta 0), reused 0 (delta 0), pack-reused 34\n",
            "Unpacking objects: 100% (34/34), done.\n",
            "/content/stock-prediction/stock-prediction/stock-prediction/stock-prediction/stock-prediction/stock-prediction/stock-prediction/stock-prediction/stock-prediction/stock-prediction/stock-prediction/stock-prediction/stock-prediction/stock-prediction/stock-prediction/stock-prediction/stock-prediction/stock-prediction/stock-prediction/stock-prediction/stock-prediction/stock-prediction/stock-prediction/stock-prediction/stock-prediction/stock-prediction\n"
          ],
          "name": "stdout"
        }
      ]
    },
    {
      "cell_type": "markdown",
      "metadata": {
        "id": "fuIY308aBUdK",
        "colab_type": "text"
      },
      "source": [
        "# Stock Prediction with Recurrent Neural Network\n",
        "\n",
        "Deep learning is involved a lot in the modern quantitive financial field. There are many different neural networks can be applied to stock price prediction problems. The recurrent neural network, to be specific, the Long Short Term Memory(LSTM) network outperforms others architecture since it can take advantage of predicting time series (or sequentially) involved result with a specific configuration.\n",
        "\n",
        "We will make a really simple LSTM with Keras to predict the stock price in the Chinese stock."
      ]
    },
    {
      "cell_type": "code",
      "metadata": {
        "id": "OpV1YvtYBUdL",
        "colab_type": "code",
        "colab": {}
      },
      "source": [
        "import time\n",
        "import math\n",
        "from keras.models import Sequential\n",
        "from keras.layers.core import Dense, Dropout, Activation\n",
        "from keras.layers.recurrent import LSTM\n",
        "import numpy as np\n",
        "import pandas as pd\n",
        "import sklearn.preprocessing as prep"
      ],
      "execution_count": 354,
      "outputs": []
    },
    {
      "cell_type": "markdown",
      "metadata": {
        "id": "nR4Dzh4fBUdP",
        "colab_type": "text"
      },
      "source": [
        "## Import Data\n",
        "\n",
        "I have introduced how we get this dataset both in README.md and in another notebook."
      ]
    },
    {
      "cell_type": "code",
      "metadata": {
        "id": "VZHc3wx6BUdQ",
        "colab_type": "code",
        "colab": {
          "base_uri": "https://localhost:8080/",
          "height": 204
        },
        "outputId": "513dfec2-7216-4a3a-d714-078ca14a3406"
      },
      "source": [
        "df = pd.read_csv('000002-from-1995-01-01.csv')\n",
        "df.head()"
      ],
      "execution_count": 355,
      "outputs": [
        {
          "output_type": "execute_result",
          "data": {
            "text/html": [
              "<div>\n",
              "<style scoped>\n",
              "    .dataframe tbody tr th:only-of-type {\n",
              "        vertical-align: middle;\n",
              "    }\n",
              "\n",
              "    .dataframe tbody tr th {\n",
              "        vertical-align: top;\n",
              "    }\n",
              "\n",
              "    .dataframe thead th {\n",
              "        text-align: right;\n",
              "    }\n",
              "</style>\n",
              "<table border=\"1\" class=\"dataframe\">\n",
              "  <thead>\n",
              "    <tr style=\"text-align: right;\">\n",
              "      <th></th>\n",
              "      <th>open</th>\n",
              "      <th>high</th>\n",
              "      <th>low</th>\n",
              "      <th>volume</th>\n",
              "      <th>amount</th>\n",
              "      <th>close</th>\n",
              "    </tr>\n",
              "  </thead>\n",
              "  <tbody>\n",
              "    <tr>\n",
              "      <th>0</th>\n",
              "      <td>20.64</td>\n",
              "      <td>20.64</td>\n",
              "      <td>20.37</td>\n",
              "      <td>16362363.0</td>\n",
              "      <td>3.350027e+08</td>\n",
              "      <td>20.56</td>\n",
              "    </tr>\n",
              "    <tr>\n",
              "      <th>1</th>\n",
              "      <td>20.92</td>\n",
              "      <td>20.92</td>\n",
              "      <td>20.60</td>\n",
              "      <td>21850597.0</td>\n",
              "      <td>4.520071e+08</td>\n",
              "      <td>20.64</td>\n",
              "    </tr>\n",
              "    <tr>\n",
              "      <th>2</th>\n",
              "      <td>21.00</td>\n",
              "      <td>21.15</td>\n",
              "      <td>20.72</td>\n",
              "      <td>26910139.0</td>\n",
              "      <td>5.628396e+08</td>\n",
              "      <td>20.94</td>\n",
              "    </tr>\n",
              "    <tr>\n",
              "      <th>3</th>\n",
              "      <td>20.70</td>\n",
              "      <td>21.57</td>\n",
              "      <td>20.70</td>\n",
              "      <td>64585536.0</td>\n",
              "      <td>1.363421e+09</td>\n",
              "      <td>21.02</td>\n",
              "    </tr>\n",
              "    <tr>\n",
              "      <th>4</th>\n",
              "      <td>20.60</td>\n",
              "      <td>20.70</td>\n",
              "      <td>20.20</td>\n",
              "      <td>45886018.0</td>\n",
              "      <td>9.382043e+08</td>\n",
              "      <td>20.70</td>\n",
              "    </tr>\n",
              "  </tbody>\n",
              "</table>\n",
              "</div>"
            ],
            "text/plain": [
              "    open   high    low      volume        amount  close\n",
              "0  20.64  20.64  20.37  16362363.0  3.350027e+08  20.56\n",
              "1  20.92  20.92  20.60  21850597.0  4.520071e+08  20.64\n",
              "2  21.00  21.15  20.72  26910139.0  5.628396e+08  20.94\n",
              "3  20.70  21.57  20.70  64585536.0  1.363421e+09  21.02\n",
              "4  20.60  20.70  20.20  45886018.0  9.382043e+08  20.70"
            ]
          },
          "metadata": {
            "tags": []
          },
          "execution_count": 355
        }
      ]
    },
    {
      "cell_type": "code",
      "metadata": {
        "id": "S6KCB0z3EC2C",
        "colab_type": "code",
        "colab": {
          "base_uri": "https://localhost:8080/",
          "height": 768
        },
        "outputId": "343d62c0-2d19-4af9-d79f-4679c255c77d"
      },
      "source": [
        "!pip install yfinance\n",
        "import yfinance as yf\n",
        "tickers = ['AMZN']\n",
        "ohlc = yf.download(tickers, start=\"2001-1-1\", end=\"2007-05-31\") ## Probably Only works for stable stocks, not high potential stocks.\n",
        "#ohlc = yf.download(tickers, start=\"2008-1-1\", end=\"2013-05-31\")\n",
        "#print (ohlc)\n",
        "print(list(ohlc.columns.values))\n",
        "# ohlc.head()\n",
        "ohlc_reversed = ohlc.sort_values(['Date'], ascending=[False])\n",
        "ohlc_reversed = ohlc_reversed.reindex(columns=['Open', 'High', 'Low', 'Volume','Adj Close', 'Close'])\n",
        "ohlc_reversed.drop('Adj Close', axis=1, inplace=True)\n",
        "print (ohlc_reversed)\n",
        "\n",
        "print (df)\n",
        "\n",
        "df = ohlc_reversed\n"
      ],
      "execution_count": 356,
      "outputs": [
        {
          "output_type": "stream",
          "text": [
            "Requirement already satisfied: yfinance in /usr/local/lib/python3.6/dist-packages (0.1.54)\n",
            "Requirement already satisfied: pandas>=0.24 in /usr/local/lib/python3.6/dist-packages (from yfinance) (1.0.5)\n",
            "Requirement already satisfied: multitasking>=0.0.7 in /usr/local/lib/python3.6/dist-packages (from yfinance) (0.0.9)\n",
            "Requirement already satisfied: requests>=2.20 in /usr/local/lib/python3.6/dist-packages (from yfinance) (2.23.0)\n",
            "Requirement already satisfied: numpy>=1.15 in /usr/local/lib/python3.6/dist-packages (from yfinance) (1.18.5)\n",
            "Requirement already satisfied: python-dateutil>=2.6.1 in /usr/local/lib/python3.6/dist-packages (from pandas>=0.24->yfinance) (2.8.1)\n",
            "Requirement already satisfied: pytz>=2017.2 in /usr/local/lib/python3.6/dist-packages (from pandas>=0.24->yfinance) (2018.9)\n",
            "Requirement already satisfied: certifi>=2017.4.17 in /usr/local/lib/python3.6/dist-packages (from requests>=2.20->yfinance) (2020.6.20)\n",
            "Requirement already satisfied: chardet<4,>=3.0.2 in /usr/local/lib/python3.6/dist-packages (from requests>=2.20->yfinance) (3.0.4)\n",
            "Requirement already satisfied: idna<3,>=2.5 in /usr/local/lib/python3.6/dist-packages (from requests>=2.20->yfinance) (2.10)\n",
            "Requirement already satisfied: urllib3!=1.25.0,!=1.25.1,<1.26,>=1.21.1 in /usr/local/lib/python3.6/dist-packages (from requests>=2.20->yfinance) (1.24.3)\n",
            "Requirement already satisfied: six>=1.5 in /usr/local/lib/python3.6/dist-packages (from python-dateutil>=2.6.1->pandas>=0.24->yfinance) (1.15.0)\n",
            "[*********************100%***********************]  1 of 1 completed\n",
            "['Open', 'High', 'Low', 'Close', 'Adj Close', 'Volume']\n",
            "                 Open       High        Low    Volume      Close\n",
            "Date                                                            \n",
            "2007-05-30  69.059998  70.080002  68.860001  10576100  69.860001\n",
            "2007-05-29  68.430000  69.779999  67.720001  11730800  69.629997\n",
            "2007-05-25  69.690002  69.699997  68.250000   9987200  68.550003\n",
            "2007-05-24  69.040001  70.419998  67.709999  23824600  69.349998\n",
            "2007-05-23  69.209999  73.309998  68.790001  42582500  69.000000\n",
            "...               ...        ...        ...       ...        ...\n",
            "2001-01-08  14.437500  15.562500  13.750000  10444700  14.937500\n",
            "2001-01-05  15.500000  15.875000  13.562500   8798800  14.562500\n",
            "2001-01-04  17.000000  17.562500  15.437500  10620500  15.500000\n",
            "2001-01-03  13.625000  17.875000  13.562500  14680400  17.562500\n",
            "2001-01-02  15.812500  16.000000  13.625000   9203500  13.875000\n",
            "\n",
            "[1609 rows x 5 columns]\n",
            "       open   high    low      volume        amount  close\n",
            "0     20.64  20.64  20.37  16362363.0  3.350027e+08  20.56\n",
            "1     20.92  20.92  20.60  21850597.0  4.520071e+08  20.64\n",
            "2     21.00  21.15  20.72  26910139.0  5.628396e+08  20.94\n",
            "3     20.70  21.57  20.70  64585536.0  1.363421e+09  21.02\n",
            "4     20.60  20.70  20.20  45886018.0  9.382043e+08  20.70\n",
            "...     ...    ...    ...         ...           ...    ...\n",
            "5180   6.15   6.15   6.00    279500.0  1.688290e+06   6.02\n",
            "5181   6.08   6.18   6.02    462600.0  2.827351e+06   6.18\n",
            "5182   6.26   6.35   6.12    560400.0  3.499405e+06   6.15\n",
            "5183   6.20   6.31   6.06    544600.0  3.385705e+06   6.26\n",
            "5184   6.03   6.19   5.85    378800.0  2.283170e+06   6.17\n",
            "\n",
            "[5185 rows x 6 columns]\n"
          ],
          "name": "stdout"
        }
      ]
    },
    {
      "cell_type": "markdown",
      "metadata": {
        "id": "rzVasIq0BUdU",
        "colab_type": "text"
      },
      "source": [
        "## Preprocess Data\n",
        "\n",
        "We can see from the table above that the scales of our features vary a lot. It will be beneficial to normalize your training data before you feed data into your model. \"Having different features with widely different scales fed to your model will cause the network to weight the features not equally. This can cause a falsely prioritisation of some features over the others in the representation.\" Read [here](http://stackoverflow.com/a/43526354/6670143) for more detailed explanation."
      ]
    },
    {
      "cell_type": "code",
      "metadata": {
        "id": "XaxyI3UaBUdb",
        "colab_type": "code",
        "colab": {}
      },
      "source": [
        "def standard_scaler(X_train, X_test):\n",
        "    train_samples, train_nx, train_ny = X_train.shape\n",
        "    test_samples, test_nx, test_ny = X_test.shape\n",
        "    \n",
        "    X_train = X_train.reshape((train_samples, train_nx * train_ny))\n",
        "    X_test = X_test.reshape((test_samples, test_nx * test_ny))\n",
        "    \n",
        "    preprocessor = prep.StandardScaler().fit(X_train)\n",
        "    X_train = preprocessor.transform(X_train)\n",
        "    X_test = preprocessor.transform(X_test)\n",
        "    \n",
        "    X_train = X_train.reshape((train_samples, train_nx, train_ny))\n",
        "    X_test = X_test.reshape((test_samples, test_nx, test_ny))\n",
        "    \n",
        "    return X_train, X_test"
      ],
      "execution_count": 357,
      "outputs": []
    },
    {
      "cell_type": "markdown",
      "metadata": {
        "id": "J49KcuxkBUdg",
        "colab_type": "text"
      },
      "source": [
        "Split the data to X_train, y_train, X_test, y_test"
      ]
    },
    {
      "cell_type": "code",
      "metadata": {
        "id": "WLM8-3-aBUdg",
        "colab_type": "code",
        "colab": {}
      },
      "source": [
        "def preprocess_data(stock, seq_len):\n",
        "    amount_of_features = len(stock.columns)\n",
        "    data = stock.values\n",
        "    \n",
        "    sequence_length = seq_len + 1\n",
        "    result = []\n",
        "    ## Probably here add another column as the label.\n",
        "    for index in range(len(data) - sequence_length):\n",
        "        result.append(data[index : index + sequence_length])\n",
        "        \n",
        "    result = np.array(result)\n",
        "    row = round(0.9 * result.shape[0])\n",
        "    train = result[: int(row), :]\n",
        "\n",
        "    # print (result)\n",
        "    # print (row)\n",
        "    print (train[:, : -1])\n",
        "    print (train[:, -1][: ,-1]) \n",
        "\n",
        "    print (result[int(row) :, -1][ : ,-1]) \n",
        "\n",
        "    train, result = standard_scaler(train, result)\n",
        "    \n",
        "    X_train = train[:, : -1]\n",
        "    y_train = train[:, -1][: ,-1]\n",
        "    X_test = result[int(row) :, : -1]\n",
        "    y_test = result[int(row) :, -1][ : ,-1]\n",
        "\n",
        "    X_train = np.reshape(X_train, (X_train.shape[0], X_train.shape[1], amount_of_features))\n",
        "    X_test = np.reshape(X_test, (X_test.shape[0], X_test.shape[1], amount_of_features)) \n",
        "\n",
        " \n",
        "\n",
        "    return [X_train, y_train, X_test, y_test]"
      ],
      "execution_count": 358,
      "outputs": []
    },
    {
      "cell_type": "markdown",
      "metadata": {
        "id": "-Ig_EdoKBUdj",
        "colab_type": "text"
      },
      "source": [
        "## Build the LSTM Network\n",
        "\n",
        "Here we will build a simple RNN with 2 LSTM layers.\n",
        "The architecture is:\n",
        "    \n",
        "    LSTM --> Dropout --> LSTM --> Dropout --> Fully-Conneted(Dense)"
      ]
    },
    {
      "cell_type": "code",
      "metadata": {
        "id": "r3iZMtQ1BUdk",
        "colab_type": "code",
        "colab": {}
      },
      "source": [
        "def build_model(layers):\n",
        "\n",
        "    model = Sequential()\n",
        "    model.add(LSTM(512, input_shape=(X_train.shape[1], X_train.shape[2]), return_sequences=True))\n",
        "    model.add(Dropout(0.4))\n",
        "    model.add(LSTM(256, return_sequences=True))\n",
        "    model.add(Dropout(0.3))\n",
        "    model.add(LSTM(128, return_sequences=True))\n",
        "    model.add(Dropout(0.2))\n",
        "    model.add(LSTM(64, return_sequences=True))\n",
        "    model.add(Dropout(0.2))\n",
        "    model.add(LSTM(32))\n",
        "    model.add(Dense(1, activation='linear'))\n",
        "\n",
        "    start = time.time()\n",
        "    model.compile(loss='mean_squared_error', optimizer='adam', metrics=['accuracy'])\n",
        "    model.summary() \n",
        "    print(\"Compilation Time : \", time.time() - start)\n",
        "    return model"
      ],
      "execution_count": 359,
      "outputs": []
    },
    {
      "cell_type": "code",
      "metadata": {
        "id": "LBMidPNzBUdm",
        "colab_type": "code",
        "colab": {
          "base_uri": "https://localhost:8080/",
          "height": 1000
        },
        "outputId": "5c57563d-8add-4349-ef32-bff8550b6428"
      },
      "source": [
        "window = 15\n",
        "X_train, y_train, X_test, y_test = preprocess_data(df[:: -1], window)\n",
        "print(\"X_train\", X_train.shape)\n",
        "print(\"y_train\", y_train.shape)\n",
        "print(\"X_test\", X_test.shape)\n",
        "print(\"y_test\", y_test.shape)\n",
        "# print (X_train)\n",
        "# print (y_train)\n",
        "# print (X_test)\n",
        "# print (y_test)"
      ],
      "execution_count": 360,
      "outputs": [
        {
          "output_type": "stream",
          "text": [
            "[[[1.58125000e+01 1.60000000e+01 1.36250000e+01 9.20350000e+06\n",
            "   1.38750000e+01]\n",
            "  [1.36250000e+01 1.78750000e+01 1.35625000e+01 1.46804000e+07\n",
            "   1.75625000e+01]\n",
            "  [1.70000000e+01 1.75625000e+01 1.54375000e+01 1.06205000e+07\n",
            "   1.55000000e+01]\n",
            "  ...\n",
            "  [2.03750000e+01 2.03750000e+01 1.86875000e+01 6.17750000e+06\n",
            "   1.99375000e+01]\n",
            "  [1.95000000e+01 1.99375000e+01 1.85000000e+01 4.39860000e+06\n",
            "   1.85000000e+01]\n",
            "  [1.83750000e+01 1.93125000e+01 1.82500000e+01 4.74430000e+06\n",
            "   1.89531250e+01]]\n",
            "\n",
            " [[1.36250000e+01 1.78750000e+01 1.35625000e+01 1.46804000e+07\n",
            "   1.75625000e+01]\n",
            "  [1.70000000e+01 1.75625000e+01 1.54375000e+01 1.06205000e+07\n",
            "   1.55000000e+01]\n",
            "  [1.55000000e+01 1.58750000e+01 1.35625000e+01 8.79880000e+06\n",
            "   1.45625000e+01]\n",
            "  ...\n",
            "  [1.95000000e+01 1.99375000e+01 1.85000000e+01 4.39860000e+06\n",
            "   1.85000000e+01]\n",
            "  [1.83750000e+01 1.93125000e+01 1.82500000e+01 4.74430000e+06\n",
            "   1.89531250e+01]\n",
            "  [1.91875000e+01 2.23750000e+01 1.90000000e+01 1.38481000e+07\n",
            "   2.18750000e+01]]\n",
            "\n",
            " [[1.70000000e+01 1.75625000e+01 1.54375000e+01 1.06205000e+07\n",
            "   1.55000000e+01]\n",
            "  [1.55000000e+01 1.58750000e+01 1.35625000e+01 8.79880000e+06\n",
            "   1.45625000e+01]\n",
            "  [1.44375000e+01 1.55625000e+01 1.37500000e+01 1.04447000e+07\n",
            "   1.49375000e+01]\n",
            "  ...\n",
            "  [1.83750000e+01 1.93125000e+01 1.82500000e+01 4.74430000e+06\n",
            "   1.89531250e+01]\n",
            "  [1.91875000e+01 2.23750000e+01 1.90000000e+01 1.38481000e+07\n",
            "   2.18750000e+01]\n",
            "  [2.16875000e+01 2.17500000e+01 1.90000000e+01 7.06640000e+06\n",
            "   1.90000000e+01]]\n",
            "\n",
            " ...\n",
            "\n",
            " [[3.17299995e+01 3.19599991e+01 3.13700008e+01 4.37040000e+06\n",
            "   3.16700001e+01]\n",
            "  [3.15400009e+01 3.18700008e+01 3.11800003e+01 3.70570000e+06\n",
            "   3.16499996e+01]\n",
            "  [3.18999996e+01 3.27400017e+01 3.15799999e+01 1.02737000e+07\n",
            "   3.25200005e+01]\n",
            "  ...\n",
            "  [3.20099983e+01 3.23400002e+01 3.15400009e+01 5.22720000e+06\n",
            "   3.21199989e+01]\n",
            "  [3.19799995e+01 3.20299988e+01 3.08299999e+01 6.81500000e+06\n",
            "   3.08700008e+01]\n",
            "  [3.08999996e+01 3.20000000e+01 3.05799999e+01 8.03400000e+06\n",
            "   3.17000008e+01]]\n",
            "\n",
            " [[3.15400009e+01 3.18700008e+01 3.11800003e+01 3.70570000e+06\n",
            "   3.16499996e+01]\n",
            "  [3.18999996e+01 3.27400017e+01 3.15799999e+01 1.02737000e+07\n",
            "   3.25200005e+01]\n",
            "  [3.24500008e+01 3.26699982e+01 3.18799992e+01 5.12310000e+06\n",
            "   3.20800018e+01]\n",
            "  ...\n",
            "  [3.19799995e+01 3.20299988e+01 3.08299999e+01 6.81500000e+06\n",
            "   3.08700008e+01]\n",
            "  [3.08999996e+01 3.20000000e+01 3.05799999e+01 8.03400000e+06\n",
            "   3.17000008e+01]\n",
            "  [3.17500000e+01 3.28300018e+01 3.12999992e+01 7.06480000e+06\n",
            "   3.27599983e+01]]\n",
            "\n",
            " [[3.18999996e+01 3.27400017e+01 3.15799999e+01 1.02737000e+07\n",
            "   3.25200005e+01]\n",
            "  [3.24500008e+01 3.26699982e+01 3.18799992e+01 5.12310000e+06\n",
            "   3.20800018e+01]\n",
            "  [3.22400017e+01 3.22999992e+01 3.08199997e+01 8.57200000e+06\n",
            "   3.15799999e+01]\n",
            "  ...\n",
            "  [3.08999996e+01 3.20000000e+01 3.05799999e+01 8.03400000e+06\n",
            "   3.17000008e+01]\n",
            "  [3.17500000e+01 3.28300018e+01 3.12999992e+01 7.06480000e+06\n",
            "   3.27599983e+01]\n",
            "  [3.26800003e+01 3.34000015e+01 3.24000015e+01 8.45590000e+06\n",
            "   3.33199997e+01]]]\n",
            "[21.875      19.         19.5        ... 32.75999832 33.31999969\n",
            " 32.59000015]\n",
            "[33.38000107 32.61999893 32.90999985 33.54999924 33.31999969 32.59999847\n",
            " 32.47000122 32.31000137 32.54000092 32.56999969 32.88000107 33.63000107\n",
            " 37.68000031 38.29999924 38.24000168 38.15000153 38.09000015 37.56000137\n",
            " 37.45000076 37.45999908 38.20999908 38.77000046 39.47000122 38.84000015\n",
            " 39.25999832 39.99000168 41.50999832 42.59999847 42.84000015 42.54999924\n",
            " 42.43999863 42.54000092 42.95999908 42.40999985 40.84999847 40.91999817\n",
            " 40.63000107 40.34000015 39.40999985 39.09999847 38.97999954 38.90000153\n",
            " 38.11999893 38.45999908 38.68999863 38.45999908 38.5        39.02000046\n",
            " 40.00999832 39.25999832 39.41999817 40.00999832 39.88999939 40.24000168\n",
            " 39.79999924 40.29000092 40.20999908 39.45999908 38.70000076 38.90000153\n",
            " 38.36999893 37.5        37.77999878 37.15000153 37.40000153 38.20000076\n",
            " 38.65999985 37.88000107 36.97999954 37.02000046 36.95000076 36.43000031\n",
            " 37.25999832 37.08000183 36.84999847 37.43000031 37.04999924 37.66999817\n",
            " 38.70000076 37.38999939 37.15999985 38.27000046 38.97999954 39.09999847\n",
            " 38.72000122 38.84999847 39.31000137 40.13999939 40.06000137 40.33000183\n",
            " 41.50999832 41.25999832 41.         40.77999878 40.88000107 38.83000183\n",
            " 39.13999939 38.84999847 37.68999863 37.04999924 38.58000183 38.36000061\n",
            " 38.09999847 38.84000015 38.81000137 37.81999969 38.08000183 37.77999878\n",
            " 37.84999847 38.45000076 38.58000183 39.79999924 39.49000168 38.97999954\n",
            " 39.00999832 39.36999893 39.34000015 39.81000137 39.79000092 40.41999817\n",
            " 41.18999863 41.52999878 41.68000031 41.65999985 41.86000061 41.68000031\n",
            " 42.27000046 42.40999985 45.20000076 45.06999969 44.99000168 44.63999939\n",
            " 44.95000076 44.77000046 44.75       56.81000137 62.77999878 62.59999847\n",
            " 61.33000183 62.04000092 61.18000031 62.18999863 63.22999954 60.81999969\n",
            " 61.83000183 62.84999847 60.91999817 61.56000137 61.70000076 60.58000183\n",
            " 63.22000122 62.16999817 63.29999924 68.30000305 68.87999725 69.\n",
            " 69.34999847 68.55000305 69.62999725]\n",
            "X_train (1434, 15, 5)\n",
            "y_train (1434,)\n",
            "X_test (159, 15, 5)\n",
            "y_test (159,)\n"
          ],
          "name": "stdout"
        }
      ]
    },
    {
      "cell_type": "code",
      "metadata": {
        "id": "FIIi_bzbBUdp",
        "colab_type": "code",
        "colab": {
          "base_uri": "https://localhost:8080/",
          "height": 510
        },
        "outputId": "e4e9d9b9-a2a1-4939-8d8a-e45d05e12f8c"
      },
      "source": [
        "model = build_model([X_train.shape[2], window, 100, 1])"
      ],
      "execution_count": 361,
      "outputs": [
        {
          "output_type": "stream",
          "text": [
            "Model: \"sequential_25\"\n",
            "_________________________________________________________________\n",
            "Layer (type)                 Output Shape              Param #   \n",
            "=================================================================\n",
            "lstm_125 (LSTM)              (None, 15, 512)           1060864   \n",
            "_________________________________________________________________\n",
            "dropout_100 (Dropout)        (None, 15, 512)           0         \n",
            "_________________________________________________________________\n",
            "lstm_126 (LSTM)              (None, 15, 256)           787456    \n",
            "_________________________________________________________________\n",
            "dropout_101 (Dropout)        (None, 15, 256)           0         \n",
            "_________________________________________________________________\n",
            "lstm_127 (LSTM)              (None, 15, 128)           197120    \n",
            "_________________________________________________________________\n",
            "dropout_102 (Dropout)        (None, 15, 128)           0         \n",
            "_________________________________________________________________\n",
            "lstm_128 (LSTM)              (None, 15, 64)            49408     \n",
            "_________________________________________________________________\n",
            "dropout_103 (Dropout)        (None, 15, 64)            0         \n",
            "_________________________________________________________________\n",
            "lstm_129 (LSTM)              (None, 32)                12416     \n",
            "_________________________________________________________________\n",
            "dense_25 (Dense)             (None, 1)                 33        \n",
            "=================================================================\n",
            "Total params: 2,107,297\n",
            "Trainable params: 2,107,297\n",
            "Non-trainable params: 0\n",
            "_________________________________________________________________\n",
            "Compilation Time :  0.010877370834350586\n"
          ],
          "name": "stdout"
        }
      ]
    },
    {
      "cell_type": "markdown",
      "metadata": {
        "id": "CDvJll2VBUdr",
        "colab_type": "text"
      },
      "source": [
        "## Training the Network\n",
        "\n",
        "You can play with the hyperparameters here. The training process can take a significant time if you are using a average GPU or CPU(worse!)."
      ]
    },
    {
      "cell_type": "code",
      "metadata": {
        "id": "PfB-fgI_BUds",
        "colab_type": "code",
        "colab": {
          "base_uri": "https://localhost:8080/",
          "height": 34
        },
        "outputId": "9211649f-3844-4c01-9151-2fa3a608b78b"
      },
      "source": [
        "model.fit(\n",
        "    X_train,\n",
        "    y_train,\n",
        "    batch_size=768,\n",
        "    epochs=300,\n",
        "    validation_split=0.1,\n",
        "    verbose=0)"
      ],
      "execution_count": 362,
      "outputs": [
        {
          "output_type": "execute_result",
          "data": {
            "text/plain": [
              "<tensorflow.python.keras.callbacks.History at 0x7f481ec953c8>"
            ]
          },
          "metadata": {
            "tags": []
          },
          "execution_count": 362
        }
      ]
    },
    {
      "cell_type": "code",
      "metadata": {
        "id": "1j73jgmmBUdv",
        "colab_type": "code",
        "colab": {
          "base_uri": "https://localhost:8080/",
          "height": 51
        },
        "outputId": "da196b99-c509-41a6-8c69-478fd199f985"
      },
      "source": [
        "trainScore = model.evaluate(X_train, y_train, verbose=0)\n",
        "print('Train Score: %.2f MSE (%.2f RMSE)' % (trainScore[0], math.sqrt(trainScore[0])))\n",
        "\n",
        "testScore = model.evaluate(X_test, y_test, verbose=0)\n",
        "print('Test Score: %.2f MSE (%.2f RMSE)' % (testScore[0], math.sqrt(testScore[0])))"
      ],
      "execution_count": 363,
      "outputs": [
        {
          "output_type": "stream",
          "text": [
            "Train Score: 0.01 MSE (0.08 RMSE)\n",
            "Test Score: 0.04 MSE (0.19 RMSE)\n"
          ],
          "name": "stdout"
        }
      ]
    },
    {
      "cell_type": "markdown",
      "metadata": {
        "id": "j-awbWzPBUdx",
        "colab_type": "text"
      },
      "source": [
        "## Visualize the Prediction"
      ]
    },
    {
      "cell_type": "code",
      "metadata": {
        "id": "dZfWoXLJBUdy",
        "colab_type": "code",
        "colab": {
          "base_uri": "https://localhost:8080/",
          "height": 1000
        },
        "outputId": "1f67afc2-cd49-4b40-f923-d6bbc92c81a5"
      },
      "source": [
        "diff = []\n",
        "ratio = []\n",
        "pred = model.predict(X_test)\n",
        "for u in range(len(y_test)):\n",
        "    pr = pred[u][0]\n",
        "    ratio.append((y_test[u] / pr) - 1)\n",
        "    diff.append(abs(y_test[u] - pr))\n",
        "\n",
        "print (pred)\n",
        "print (y_test)"
      ],
      "execution_count": 364,
      "outputs": [
        {
          "output_type": "stream",
          "text": [
            "[[0.1406599 ]\n",
            " [0.18085553]\n",
            " [0.18398438]\n",
            " [0.16408226]\n",
            " [0.14303578]\n",
            " [0.14429365]\n",
            " [0.14708588]\n",
            " [0.13690965]\n",
            " [0.12206028]\n",
            " [0.1110168 ]\n",
            " [0.1100563 ]\n",
            " [0.11649729]\n",
            " [0.18585262]\n",
            " [0.49234205]\n",
            " [0.650491  ]\n",
            " [0.65947086]\n",
            " [0.633935  ]\n",
            " [0.6044782 ]\n",
            " [0.5741662 ]\n",
            " [0.5444056 ]\n",
            " [0.51650274]\n",
            " [0.49837512]\n",
            " [0.49186173]\n",
            " [0.5072059 ]\n",
            " [0.54698646]\n",
            " [0.5886635 ]\n",
            " [0.62000597]\n",
            " [0.684879  ]\n",
            " [0.8124631 ]\n",
            " [0.920543  ]\n",
            " [0.9102515 ]\n",
            " [0.8485264 ]\n",
            " [0.8052044 ]\n",
            " [0.8075993 ]\n",
            " [0.8277537 ]\n",
            " [0.7820414 ]\n",
            " [0.7410167 ]\n",
            " [0.7380315 ]\n",
            " [0.7589454 ]\n",
            " [0.73648936]\n",
            " [0.68458056]\n",
            " [0.6724326 ]\n",
            " [0.66264325]\n",
            " [0.6275083 ]\n",
            " [0.60240513]\n",
            " [0.6051515 ]\n",
            " [0.6145482 ]\n",
            " [0.62273234]\n",
            " [0.6382529 ]\n",
            " [0.68460494]\n",
            " [0.71828425]\n",
            " [0.6912274 ]\n",
            " [0.6742636 ]\n",
            " [0.68010944]\n",
            " [0.6912893 ]\n",
            " [0.6824513 ]\n",
            " [0.676372  ]\n",
            " [0.6747265 ]\n",
            " [0.6673571 ]\n",
            " [0.6104145 ]\n",
            " [0.6104687 ]\n",
            " [0.62794167]\n",
            " [0.6076406 ]\n",
            " [0.5778088 ]\n",
            " [0.54590523]\n",
            " [0.5342185 ]\n",
            " [0.54994965]\n",
            " [0.5830543 ]\n",
            " [0.602699  ]\n",
            " [0.557388  ]\n",
            " [0.510243  ]\n",
            " [0.49276316]\n",
            " [0.49058953]\n",
            " [0.4954383 ]\n",
            " [0.5008509 ]\n",
            " [0.5062112 ]\n",
            " [0.49550545]\n",
            " [0.49077463]\n",
            " [0.49766293]\n",
            " [0.5537179 ]\n",
            " [0.589045  ]\n",
            " [0.53569883]\n",
            " [0.4940138 ]\n",
            " [0.50122684]\n",
            " [0.5385985 ]\n",
            " [0.5696162 ]\n",
            " [0.5797438 ]\n",
            " [0.579503  ]\n",
            " [0.5860349 ]\n",
            " [0.62241936]\n",
            " [0.6692166 ]\n",
            " [0.7094678 ]\n",
            " [0.76397747]\n",
            " [0.7995561 ]\n",
            " [0.7828387 ]\n",
            " [0.7396473 ]\n",
            " [0.67302585]\n",
            " [0.6203215 ]\n",
            " [0.60701466]\n",
            " [0.6089834 ]\n",
            " [0.57614696]\n",
            " [0.5689793 ]\n",
            " [0.6180987 ]\n",
            " [0.62890846]\n",
            " [0.60916924]\n",
            " [0.58998567]\n",
            " [0.5586385 ]\n",
            " [0.5200296 ]\n",
            " [0.52001715]\n",
            " [0.54700595]\n",
            " [0.5934834 ]\n",
            " [0.6181452 ]\n",
            " [0.6373248 ]\n",
            " [0.65389794]\n",
            " [0.6632357 ]\n",
            " [0.64175445]\n",
            " [0.6143454 ]\n",
            " [0.60560894]\n",
            " [0.6367487 ]\n",
            " [0.68821317]\n",
            " [0.72893745]\n",
            " [0.76545006]\n",
            " [0.78580976]\n",
            " [0.78889257]\n",
            " [0.778519  ]\n",
            " [0.76929116]\n",
            " [0.7613133 ]\n",
            " [0.7771561 ]\n",
            " [0.8168671 ]\n",
            " [0.938159  ]\n",
            " [1.0985355 ]\n",
            " [1.1148347 ]\n",
            " [1.0324259 ]\n",
            " [0.97045237]\n",
            " [0.93947285]\n",
            " [0.9411675 ]\n",
            " [1.4340968 ]\n",
            " [1.7964611 ]\n",
            " [1.9287813 ]\n",
            " [2.0389702 ]\n",
            " [2.1234543 ]\n",
            " [2.1747043 ]\n",
            " [2.1999876 ]\n",
            " [2.2112875 ]\n",
            " [2.2062829 ]\n",
            " [2.19242   ]\n",
            " [2.1742969 ]\n",
            " [2.151081  ]\n",
            " [2.1222744 ]\n",
            " [2.0884566 ]\n",
            " [2.0457768 ]\n",
            " [1.9921181 ]\n",
            " [1.9771179 ]\n",
            " [1.9622523 ]\n",
            " [1.9884177 ]\n",
            " [2.096825  ]\n",
            " [2.1471033 ]\n",
            " [2.2016115 ]\n",
            " [2.2244852 ]]\n",
            "[0.18227665 0.1272334  0.14823675 0.19458878 0.17793104 0.12578487\n",
            " 0.1163698  0.10478179 0.12143954 0.1236122  0.14606409 0.20038292\n",
            " 0.49370459 0.53860809 0.53426276 0.52774448 0.52339888 0.48501366\n",
            " 0.47704685 0.47777098 0.53208982 0.57264798 0.62334562 0.57771772\n",
            " 0.60813613 0.66100671 0.77109264 0.85003603 0.86741818 0.84641483\n",
            " 0.83844803 0.8456907  0.87610912 0.83627536 0.72329208 0.72836181\n",
            " 0.70735874 0.68635539 0.61900001 0.59654812 0.58785719 0.58206332\n",
            " 0.52557154 0.55019609 0.56685384 0.55019609 0.55309317 0.59075426\n",
            " 0.66245497 0.60813613 0.61972414 0.66245497 0.65376403 0.67911299\n",
            " 0.64724576 0.68273419 0.67694005 0.62262121 0.56757824 0.58206332\n",
            " 0.54367782 0.48066805 0.50094699 0.45531937 0.47342565 0.53136569\n",
            " 0.56468117 0.50818967 0.44300695 0.44590403 0.44083429 0.4031732\n",
            " 0.4632859  0.45024963 0.43359161 0.47559831 0.44807669 0.49298019\n",
            " 0.56757824 0.47270124 0.4560435  0.53643542 0.58785719 0.59654812\n",
            " 0.56902678 0.57844185 0.61175761 0.67187031 0.66607645 0.68563126\n",
            " 0.77109264 0.75298637 0.73415596 0.71822234 0.72546502 0.57699359\n",
            " 0.5994452  0.57844185 0.49442872 0.44807669 0.55888731 0.54295369\n",
            " 0.52412301 0.57771772 0.57554505 0.50384406 0.52267475 0.50094699\n",
            " 0.50601673 0.54947196 0.55888731 0.64724576 0.62479415 0.58785719\n",
            " 0.59002985 0.61610294 0.61393027 0.64797017 0.64652163 0.69214926\n",
            " 0.74791663 0.77254118 0.78340506 0.78195652 0.7964416  0.78340506\n",
            " 0.82613589 0.83627536 1.0383415  1.02892616 1.02313229 0.99778334\n",
            " 1.02023522 1.00719868 1.00575014 1.87919715 2.31157491 2.29853837\n",
            " 2.20655871 2.25798048 2.19569483 2.26884408 2.34416627 2.16962175\n",
            " 2.24277127 2.31664464 2.17686415 2.22321645 2.23335593 2.15223987\n",
            " 2.34344214 2.26739554 2.349236   2.71136186 2.75336801 2.76205922\n",
            " 2.7874079  2.72946814 2.80768685]\n"
          ],
          "name": "stdout"
        }
      ]
    },
    {
      "cell_type": "code",
      "metadata": {
        "id": "mZhqCOJrBUd0",
        "colab_type": "code",
        "colab": {}
      },
      "source": [
        "# TODO: Scale it back"
      ],
      "execution_count": 365,
      "outputs": []
    },
    {
      "cell_type": "code",
      "metadata": {
        "id": "5FPS2nypBUd3",
        "colab_type": "code",
        "colab": {
          "base_uri": "https://localhost:8080/",
          "height": 265
        },
        "outputId": "65dbdda4-386a-405b-9ec3-8f4ed3b5063d"
      },
      "source": [
        "# if using within a jupyter notebook\n",
        "%matplotlib inline \n",
        "\n",
        "import matplotlib\n",
        "import matplotlib.pyplot as plt2\n",
        "\n",
        "plt2.plot(pred, color='red', label='Prediction')\n",
        "plt2.plot(y_test, color='blue', label='Ground Truth')\n",
        "plt2.legend(loc='upper left')\n",
        "plt2.show()"
      ],
      "execution_count": 366,
      "outputs": [
        {
          "output_type": "display_data",
          "data": {
            "image/png": "[encoded data removed]",
            "text/plain": [
              "<Figure size 432x288 with 1 Axes>"
            ]
          },
          "metadata": {
            "tags": [],
            "needs_background": "light"
          }
        }
      ]
    }
  ]
}