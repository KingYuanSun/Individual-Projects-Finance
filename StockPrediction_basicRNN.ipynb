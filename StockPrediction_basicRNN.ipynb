{
  "nbformat": 4,
  "nbformat_minor": 0,
  "metadata": {
    "kernelspec": {
      "name": "python3",
      "display_name": "Python 3"
    },
    "language_info": {
      "codemirror_mode": {
        "name": "ipython",
        "version": 3
      },
      "file_extension": ".py",
      "mimetype": "text/x-python",
      "name": "python",
      "nbconvert_exporter": "python",
      "pygments_lexer": "ipython3",
      "version": "3.6.1"
    },
    "colab": {
      "name": "Copy of COLAB - stock-prediction.ipynb",
      "provenance": [],
      "toc_visible": true,
      "include_colab_link": true
    },
    "accelerator": "GPU"
  },
  "cells": [
    {
      "cell_type": "markdown",
      "metadata": {
        "id": "view-in-github",
        "colab_type": "text"
      },
      "source": [
        "<a href=\"https://colab.research.google.com/github/KingYuanSun/Individual-Projects-Finance/blob/master/StockPrediction_basicRNN.ipynb\" target=\"_parent\"><img src=\"https://colab.research.google.com/assets/colab-badge.svg\" alt=\"Open In Colab\"/></a>"
      ]
    },
    {
      "cell_type": "markdown",
      "metadata": {
        "id": "_C1o_GkUBYfJ",
        "colab_type": "text"
      },
      "source": [
        "Adapted by Carlos Toxtli http://www.carlostoxtli.com/#colab-stock-1\n",
        "\n",
        "Credits: https://github.com/Kulbear/stock-prediction"
      ]
    },
    {
      "cell_type": "code",
      "metadata": {
        "id": "Ps7rLFaH5TRI",
        "colab_type": "code",
        "colab": {
          "base_uri": "https://localhost:8080/",
          "height": 102
        },
        "outputId": "a2882624-e945-47b0-b75c-efe1800e2ded"
      },
      "source": [
        "!git clone https://github.com/Kulbear/stock-prediction\n",
        "%cd stock-prediction"
      ],
      "execution_count": 1,
      "outputs": [
        {
          "output_type": "stream",
          "text": [
            "Cloning into 'stock-prediction'...\n",
            "remote: Enumerating objects: 34, done.\u001b[K\n",
            "remote: Total 34 (delta 0), reused 0 (delta 0), pack-reused 34\u001b[K\n",
            "Unpacking objects: 100% (34/34), done.\n",
            "/content/stock-prediction\n"
          ],
          "name": "stdout"
        }
      ]
    },
    {
      "cell_type": "markdown",
      "metadata": {
        "id": "fuIY308aBUdK",
        "colab_type": "text"
      },
      "source": [
        "# Stock Prediction with Recurrent Neural Network\n",
        "\n",
        "Deep learning is involved a lot in the modern quantitive financial field. There are many different neural networks can be applied to stock price prediction problems. The recurrent neural network, to be specific, the Long Short Term Memory(LSTM) network outperforms others architecture since it can take advantage of predicting time series (or sequentially) involved result with a specific configuration.\n",
        "\n",
        "We will make a really simple LSTM with Keras to predict the stock price in the Chinese stock."
      ]
    },
    {
      "cell_type": "code",
      "metadata": {
        "id": "OpV1YvtYBUdL",
        "colab_type": "code",
        "colab": {}
      },
      "source": [
        "import time\n",
        "import math\n",
        "from keras.models import Sequential\n",
        "from keras.layers.core import Dense, Dropout, Activation\n",
        "from keras.layers.recurrent import LSTM\n",
        "import numpy as np\n",
        "import pandas as pd\n",
        "import sklearn.preprocessing as prep"
      ],
      "execution_count": 2,
      "outputs": []
    },
    {
      "cell_type": "markdown",
      "metadata": {
        "id": "nR4Dzh4fBUdP",
        "colab_type": "text"
      },
      "source": [
        "## Import Data\n",
        "\n",
        "I have introduced how we get this dataset both in README.md and in another notebook."
      ]
    },
    {
      "cell_type": "code",
      "metadata": {
        "id": "VZHc3wx6BUdQ",
        "colab_type": "code",
        "colab": {
          "base_uri": "https://localhost:8080/",
          "height": 204
        },
        "outputId": "0a66368c-1ebd-49d0-d295-4b35efc58142"
      },
      "source": [
        "df = pd.read_csv('000002-from-1995-01-01.csv')\n",
        "df.head()"
      ],
      "execution_count": 3,
      "outputs": [
        {
          "output_type": "execute_result",
          "data": {
            "text/html": [
              "<div>\n",
              "<style scoped>\n",
              "    .dataframe tbody tr th:only-of-type {\n",
              "        vertical-align: middle;\n",
              "    }\n",
              "\n",
              "    .dataframe tbody tr th {\n",
              "        vertical-align: top;\n",
              "    }\n",
              "\n",
              "    .dataframe thead th {\n",
              "        text-align: right;\n",
              "    }\n",
              "</style>\n",
              "<table border=\"1\" class=\"dataframe\">\n",
              "  <thead>\n",
              "    <tr style=\"text-align: right;\">\n",
              "      <th></th>\n",
              "      <th>open</th>\n",
              "      <th>high</th>\n",
              "      <th>low</th>\n",
              "      <th>volume</th>\n",
              "      <th>amount</th>\n",
              "      <th>close</th>\n",
              "    </tr>\n",
              "  </thead>\n",
              "  <tbody>\n",
              "    <tr>\n",
              "      <th>0</th>\n",
              "      <td>20.64</td>\n",
              "      <td>20.64</td>\n",
              "      <td>20.37</td>\n",
              "      <td>16362363.0</td>\n",
              "      <td>3.350027e+08</td>\n",
              "      <td>20.56</td>\n",
              "    </tr>\n",
              "    <tr>\n",
              "      <th>1</th>\n",
              "      <td>20.92</td>\n",
              "      <td>20.92</td>\n",
              "      <td>20.60</td>\n",
              "      <td>21850597.0</td>\n",
              "      <td>4.520071e+08</td>\n",
              "      <td>20.64</td>\n",
              "    </tr>\n",
              "    <tr>\n",
              "      <th>2</th>\n",
              "      <td>21.00</td>\n",
              "      <td>21.15</td>\n",
              "      <td>20.72</td>\n",
              "      <td>26910139.0</td>\n",
              "      <td>5.628396e+08</td>\n",
              "      <td>20.94</td>\n",
              "    </tr>\n",
              "    <tr>\n",
              "      <th>3</th>\n",
              "      <td>20.70</td>\n",
              "      <td>21.57</td>\n",
              "      <td>20.70</td>\n",
              "      <td>64585536.0</td>\n",
              "      <td>1.363421e+09</td>\n",
              "      <td>21.02</td>\n",
              "    </tr>\n",
              "    <tr>\n",
              "      <th>4</th>\n",
              "      <td>20.60</td>\n",
              "      <td>20.70</td>\n",
              "      <td>20.20</td>\n",
              "      <td>45886018.0</td>\n",
              "      <td>9.382043e+08</td>\n",
              "      <td>20.70</td>\n",
              "    </tr>\n",
              "  </tbody>\n",
              "</table>\n",
              "</div>"
            ],
            "text/plain": [
              "    open   high    low      volume        amount  close\n",
              "0  20.64  20.64  20.37  16362363.0  3.350027e+08  20.56\n",
              "1  20.92  20.92  20.60  21850597.0  4.520071e+08  20.64\n",
              "2  21.00  21.15  20.72  26910139.0  5.628396e+08  20.94\n",
              "3  20.70  21.57  20.70  64585536.0  1.363421e+09  21.02\n",
              "4  20.60  20.70  20.20  45886018.0  9.382043e+08  20.70"
            ]
          },
          "metadata": {
            "tags": []
          },
          "execution_count": 3
        }
      ]
    },
    {
      "cell_type": "markdown",
      "metadata": {
        "id": "rzVasIq0BUdU",
        "colab_type": "text"
      },
      "source": [
        "## Preprocess Data\n",
        "\n",
        "We can see from the table above that the scales of our features vary a lot. It will be beneficial to normalize your training data before you feed data into your model. \"Having different features with widely different scales fed to your model will cause the network to weight the features not equally. This can cause a falsely prioritisation of some features over the others in the representation.\" Read [here](http://stackoverflow.com/a/43526354/6670143) for more detailed explanation."
      ]
    },
    {
      "cell_type": "code",
      "metadata": {
        "id": "XaxyI3UaBUdb",
        "colab_type": "code",
        "colab": {}
      },
      "source": [
        "def standard_scaler(X_train, X_test):\n",
        "    train_samples, train_nx, train_ny = X_train.shape\n",
        "    test_samples, test_nx, test_ny = X_test.shape\n",
        "    \n",
        "    X_train = X_train.reshape((train_samples, train_nx * train_ny))\n",
        "    X_test = X_test.reshape((test_samples, test_nx * test_ny))\n",
        "    \n",
        "    preprocessor = prep.StandardScaler().fit(X_train)\n",
        "    X_train = preprocessor.transform(X_train)\n",
        "    X_test = preprocessor.transform(X_test)\n",
        "    \n",
        "    X_train = X_train.reshape((train_samples, train_nx, train_ny))\n",
        "    X_test = X_test.reshape((test_samples, test_nx, test_ny))\n",
        "    \n",
        "    return X_train, X_test"
      ],
      "execution_count": 4,
      "outputs": []
    },
    {
      "cell_type": "code",
      "metadata": {
        "id": "KPLR2HDzH7zB",
        "colab_type": "code",
        "colab": {}
      },
      "source": [
        "def recover_scaler(train_orig, test_orig, X_train, X_test, predictions_for_inverse_transform):\n",
        "\n",
        "    train_orig_samples, train_orig_nx, train_orig_ny = train_orig.shape\n",
        "    \n",
        "    train_orig = train_orig.reshape((train_orig_samples, train_orig_nx * train_orig_ny))\n",
        "\n",
        "    preprocessor = prep.StandardScaler().fit(train_orig)\n",
        "\n",
        "\n",
        "    train_samples, train_nx, train_ny = X_train.shape\n",
        "    test_samples, test_nx, test_ny = X_test.shape\n",
        "    predictions_for_inverse_transform_samples, predictions_for_inverse_transform_nx, predictions_for_inverse_transform_ny = predictions_for_inverse_transform.shape\n",
        "    \n",
        "    \n",
        "    X_train = X_train.reshape((train_samples, train_nx * train_ny))\n",
        "    X_test = X_test.reshape((test_samples, test_nx * test_ny))\n",
        "    predictions_for_inverse_transform = predictions_for_inverse_transform.reshape((predictions_for_inverse_transform_samples, predictions_for_inverse_transform_nx * predictions_for_inverse_transform_ny))\n",
        "    \n",
        "    # print (X_test)\n",
        "    # print (predictions_for_inverse_transform)\n",
        "\n",
        "    X_train = preprocessor.inverse_transform(X_train)\n",
        "    X_test = preprocessor.inverse_transform(X_test)\n",
        "    predictions_for_inverse_transform = preprocessor.inverse_transform(predictions_for_inverse_transform)    \n",
        "\n",
        "    X_train = X_train.reshape((train_samples, train_nx, train_ny))\n",
        "    X_test = X_test.reshape((test_samples, test_nx, test_ny))\n",
        "    predictions_for_inverse_transform = predictions_for_inverse_transform.reshape((predictions_for_inverse_transform_samples, predictions_for_inverse_transform_nx, predictions_for_inverse_transform_ny))\n",
        "\n",
        "    return X_train, X_test, predictions_for_inverse_transform"
      ],
      "execution_count": 5,
      "outputs": []
    },
    {
      "cell_type": "markdown",
      "metadata": {
        "id": "J49KcuxkBUdg",
        "colab_type": "text"
      },
      "source": [
        "Split the data to X_train, y_train, X_test, y_test"
      ]
    },
    {
      "cell_type": "code",
      "metadata": {
        "id": "WLM8-3-aBUdg",
        "colab_type": "code",
        "colab": {}
      },
      "source": [
        "def preprocess_data(stock, seq_len):\n",
        "    amount_of_features = len(stock.columns)\n",
        "    data = stock.values\n",
        "    \n",
        "    sequence_length = seq_len + 1\n",
        "    result = []\n",
        "    ## Probably here add another column as the label.\n",
        "    for index in range(len(data) - sequence_length):\n",
        "        result.append(data[index : index + sequence_length])\n",
        "\n",
        "        # print (index)\n",
        "\n",
        "        # print (result)\n",
        "    \n",
        "        \n",
        "    result = np.array(result)\n",
        "    row = round(0.9 * result.shape[0])\n",
        "    train = result[: int(row), :]\n",
        "\n",
        "    print (train)\n",
        "    print (result)\n",
        "    # # print (row)\n",
        "    # print (\"X_train\")\n",
        "    # print (train[:, : -1])\n",
        "    # print (\"y_train\")\n",
        "    # print (train[:, -1][: ,-1]) \n",
        "\n",
        "    # print (\"X_test\")\n",
        "    # print (result[int(row) :, : -1]) \n",
        "    # print (\"y_test\")\n",
        "    print (result[int(row) :, -1][ : ,-1]) \n",
        "\n",
        "    # trainFit = StandardScaler().fit(train)\n",
        "    # resultFit = StandardScaler().fit(result)\n",
        "    # train = trainFit.transform(train)\n",
        "    # result = resultFit.transform(result)\n",
        "\n",
        "    train_standard, result_standard = standard_scaler(train, result)\n",
        "\n",
        "    \n",
        "    X_train = train_standard[:, : -1]\n",
        "    y_train = train_standard[:, -1][: ,-1]\n",
        "    X_test = result_standard[int(row) :, : -1]\n",
        "    y_test = result_standard[int(row) :, -1][ : ,-1]\n",
        "\n",
        "    print (y_test)\n",
        "\n",
        "\n",
        "\n",
        "    X_train = np.reshape(X_train, (X_train.shape[0], X_train.shape[1], amount_of_features))\n",
        "    X_test = np.reshape(X_test, (X_test.shape[0], X_test.shape[1], amount_of_features)) \n",
        "\n",
        " \n",
        "\n",
        "    return [X_train, y_train, X_test, y_test, train, result,train_standard,result_standard]"
      ],
      "execution_count": 6,
      "outputs": []
    },
    {
      "cell_type": "markdown",
      "metadata": {
        "id": "-Ig_EdoKBUdj",
        "colab_type": "text"
      },
      "source": [
        "## Build the LSTM Network\n",
        "\n",
        "Here we will build a simple RNN with 2 LSTM layers.\n",
        "The architecture is:\n",
        "    \n",
        "    LSTM --> Dropout --> LSTM --> Dropout --> Fully-Conneted(Dense)"
      ]
    },
    {
      "cell_type": "code",
      "metadata": {
        "id": "r3iZMtQ1BUdk",
        "colab_type": "code",
        "colab": {}
      },
      "source": [
        "def build_model(layers):\n",
        "\n",
        "    model = Sequential()\n",
        "    model.add(LSTM(512, input_shape=(X_train.shape[1], X_train.shape[2]), return_sequences=True))\n",
        "    model.add(Dropout(0.4))\n",
        "    model.add(LSTM(256, return_sequences=True))\n",
        "    model.add(Dropout(0.3))\n",
        "    model.add(LSTM(128, return_sequences=True))\n",
        "    model.add(Dropout(0.2))\n",
        "    model.add(LSTM(64, return_sequences=True))\n",
        "    model.add(Dropout(0.2))\n",
        "    model.add(LSTM(32))\n",
        "    model.add(Dense(1, activation='linear'))\n",
        "\n",
        "    start = time.time()\n",
        "    model.compile(loss='mean_squared_error', optimizer='adam', metrics=['accuracy'])\n",
        "    model.summary() \n",
        "    print(\"Compilation Time : \", time.time() - start)\n",
        "    return model"
      ],
      "execution_count": 7,
      "outputs": []
    },
    {
      "cell_type": "code",
      "metadata": {
        "id": "LBMidPNzBUdm",
        "colab_type": "code",
        "colab": {
          "base_uri": "https://localhost:8080/",
          "height": 1000
        },
        "outputId": "9779f1c4-7d4f-454e-bacd-d866f38b4bde"
      },
      "source": [
        "window = 20\n",
        "X_train, y_train, X_test, y_test, train_orig, result_orig, train_for_inverse_transform,result_for_inverse_transform = preprocess_data(df[:: -1], window)\n",
        "print(\"X_train\", X_train.shape)\n",
        "print(\"y_train\", y_train.shape)\n",
        "print(\"X_test\", X_test.shape)\n",
        "print(\"y_test\", y_test.shape)\n",
        "# print (X_train)\n",
        "# print (y_train)\n",
        "# print (X_test)\n",
        "# print (y_test)"
      ],
      "execution_count": 8,
      "outputs": [
        {
          "output_type": "stream",
          "text": [
            "[[[6.03000000e+00 6.19000000e+00 5.85000000e+00 3.78800000e+05\n",
            "   2.28317000e+06 6.17000000e+00]\n",
            "  [6.20000000e+00 6.31000000e+00 6.06000000e+00 5.44600000e+05\n",
            "   3.38570500e+06 6.26000000e+00]\n",
            "  [6.26000000e+00 6.35000000e+00 6.12000000e+00 5.60400000e+05\n",
            "   3.49940500e+06 6.15000000e+00]\n",
            "  ...\n",
            "  [5.55000000e+00 5.62000000e+00 5.50000000e+00 1.50900000e+05\n",
            "   8.41633000e+05 5.57000000e+00]\n",
            "  [5.50000000e+00 5.60000000e+00 5.45000000e+00 1.57300000e+05\n",
            "   8.70136000e+05 5.55000000e+00]\n",
            "  [5.60000000e+00 5.61000000e+00 5.52000000e+00 8.88000000e+04\n",
            "   4.94768000e+05 5.56000000e+00]]\n",
            "\n",
            " [[6.20000000e+00 6.31000000e+00 6.06000000e+00 5.44600000e+05\n",
            "   3.38570500e+06 6.26000000e+00]\n",
            "  [6.26000000e+00 6.35000000e+00 6.12000000e+00 5.60400000e+05\n",
            "   3.49940500e+06 6.15000000e+00]\n",
            "  [6.08000000e+00 6.18000000e+00 6.02000000e+00 4.62600000e+05\n",
            "   2.82735100e+06 6.18000000e+00]\n",
            "  ...\n",
            "  [5.50000000e+00 5.60000000e+00 5.45000000e+00 1.57300000e+05\n",
            "   8.70136000e+05 5.55000000e+00]\n",
            "  [5.60000000e+00 5.61000000e+00 5.52000000e+00 8.88000000e+04\n",
            "   4.94768000e+05 5.56000000e+00]\n",
            "  [5.62000000e+00 5.62000000e+00 5.52000000e+00 4.28000000e+04\n",
            "   2.37492000e+05 5.55000000e+00]]\n",
            "\n",
            " [[6.26000000e+00 6.35000000e+00 6.12000000e+00 5.60400000e+05\n",
            "   3.49940500e+06 6.15000000e+00]\n",
            "  [6.08000000e+00 6.18000000e+00 6.02000000e+00 4.62600000e+05\n",
            "   2.82735100e+06 6.18000000e+00]\n",
            "  [6.15000000e+00 6.15000000e+00 6.00000000e+00 2.79500000e+05\n",
            "   1.68829000e+06 6.02000000e+00]\n",
            "  ...\n",
            "  [5.60000000e+00 5.61000000e+00 5.52000000e+00 8.88000000e+04\n",
            "   4.94768000e+05 5.56000000e+00]\n",
            "  [5.62000000e+00 5.62000000e+00 5.52000000e+00 4.28000000e+04\n",
            "   2.37492000e+05 5.55000000e+00]\n",
            "  [5.55000000e+00 5.60000000e+00 5.49000000e+00 9.31000000e+04\n",
            "   5.16998000e+05 5.52000000e+00]]\n",
            "\n",
            " ...\n",
            "\n",
            " [[8.85000000e+00 8.93000000e+00 8.67000000e+00 7.31638640e+07\n",
            "   6.43863936e+08 8.70000000e+00]\n",
            "  [8.69000000e+00 8.75000000e+00 8.47000000e+00 7.05071760e+07\n",
            "   6.06426560e+08 8.61000000e+00]\n",
            "  [8.53000000e+00 9.02000000e+00 8.51000000e+00 1.02544984e+08\n",
            "   9.11236800e+08 8.89000000e+00]\n",
            "  ...\n",
            "  [9.44000000e+00 9.68000000e+00 9.44000000e+00 7.01998160e+07\n",
            "   6.74648768e+08 9.61000000e+00]\n",
            "  [9.61000000e+00 9.61000000e+00 9.50000000e+00 5.17427680e+07\n",
            "   4.93666048e+08 9.56000000e+00]\n",
            "  [9.61000000e+00 9.63000000e+00 9.40000000e+00 5.31308320e+07\n",
            "   5.06251136e+08 9.55000000e+00]]\n",
            "\n",
            " [[8.69000000e+00 8.75000000e+00 8.47000000e+00 7.05071760e+07\n",
            "   6.06426560e+08 8.61000000e+00]\n",
            "  [8.53000000e+00 9.02000000e+00 8.51000000e+00 1.02544984e+08\n",
            "   9.11236800e+08 8.89000000e+00]\n",
            "  [8.90000000e+00 8.99000000e+00 8.88000000e+00 5.15900960e+07\n",
            "   4.60833376e+08 8.94000000e+00]\n",
            "  ...\n",
            "  [9.61000000e+00 9.61000000e+00 9.50000000e+00 5.17427680e+07\n",
            "   4.93666048e+08 9.56000000e+00]\n",
            "  [9.61000000e+00 9.63000000e+00 9.40000000e+00 5.31308320e+07\n",
            "   5.06251136e+08 9.55000000e+00]\n",
            "  [9.54000000e+00 9.57000000e+00 9.35000000e+00 6.26639720e+07\n",
            "   5.91453888e+08 9.36000000e+00]]\n",
            "\n",
            " [[8.53000000e+00 9.02000000e+00 8.51000000e+00 1.02544984e+08\n",
            "   9.11236800e+08 8.89000000e+00]\n",
            "  [8.90000000e+00 8.99000000e+00 8.88000000e+00 5.15900960e+07\n",
            "   4.60833376e+08 8.94000000e+00]\n",
            "  [8.90000000e+00 9.21000000e+00 8.88000000e+00 8.75266560e+07\n",
            "   7.98481792e+08 9.18000000e+00]\n",
            "  ...\n",
            "  [9.61000000e+00 9.63000000e+00 9.40000000e+00 5.31308320e+07\n",
            "   5.06251136e+08 9.55000000e+00]\n",
            "  [9.54000000e+00 9.57000000e+00 9.35000000e+00 6.26639720e+07\n",
            "   5.91453888e+08 9.36000000e+00]\n",
            "  [9.35000000e+00 9.50000000e+00 9.35000000e+00 4.18079000e+07\n",
            "   3.93850784e+08 9.40000000e+00]]]\n",
            "[[[6.03000000e+00 6.19000000e+00 5.85000000e+00 3.78800000e+05\n",
            "   2.28317000e+06 6.17000000e+00]\n",
            "  [6.20000000e+00 6.31000000e+00 6.06000000e+00 5.44600000e+05\n",
            "   3.38570500e+06 6.26000000e+00]\n",
            "  [6.26000000e+00 6.35000000e+00 6.12000000e+00 5.60400000e+05\n",
            "   3.49940500e+06 6.15000000e+00]\n",
            "  ...\n",
            "  [5.55000000e+00 5.62000000e+00 5.50000000e+00 1.50900000e+05\n",
            "   8.41633000e+05 5.57000000e+00]\n",
            "  [5.50000000e+00 5.60000000e+00 5.45000000e+00 1.57300000e+05\n",
            "   8.70136000e+05 5.55000000e+00]\n",
            "  [5.60000000e+00 5.61000000e+00 5.52000000e+00 8.88000000e+04\n",
            "   4.94768000e+05 5.56000000e+00]]\n",
            "\n",
            " [[6.20000000e+00 6.31000000e+00 6.06000000e+00 5.44600000e+05\n",
            "   3.38570500e+06 6.26000000e+00]\n",
            "  [6.26000000e+00 6.35000000e+00 6.12000000e+00 5.60400000e+05\n",
            "   3.49940500e+06 6.15000000e+00]\n",
            "  [6.08000000e+00 6.18000000e+00 6.02000000e+00 4.62600000e+05\n",
            "   2.82735100e+06 6.18000000e+00]\n",
            "  ...\n",
            "  [5.50000000e+00 5.60000000e+00 5.45000000e+00 1.57300000e+05\n",
            "   8.70136000e+05 5.55000000e+00]\n",
            "  [5.60000000e+00 5.61000000e+00 5.52000000e+00 8.88000000e+04\n",
            "   4.94768000e+05 5.56000000e+00]\n",
            "  [5.62000000e+00 5.62000000e+00 5.52000000e+00 4.28000000e+04\n",
            "   2.37492000e+05 5.55000000e+00]]\n",
            "\n",
            " [[6.26000000e+00 6.35000000e+00 6.12000000e+00 5.60400000e+05\n",
            "   3.49940500e+06 6.15000000e+00]\n",
            "  [6.08000000e+00 6.18000000e+00 6.02000000e+00 4.62600000e+05\n",
            "   2.82735100e+06 6.18000000e+00]\n",
            "  [6.15000000e+00 6.15000000e+00 6.00000000e+00 2.79500000e+05\n",
            "   1.68829000e+06 6.02000000e+00]\n",
            "  ...\n",
            "  [5.60000000e+00 5.61000000e+00 5.52000000e+00 8.88000000e+04\n",
            "   4.94768000e+05 5.56000000e+00]\n",
            "  [5.62000000e+00 5.62000000e+00 5.52000000e+00 4.28000000e+04\n",
            "   2.37492000e+05 5.55000000e+00]\n",
            "  [5.55000000e+00 5.60000000e+00 5.49000000e+00 9.31000000e+04\n",
            "   5.16998000e+05 5.52000000e+00]]\n",
            "\n",
            " ...\n",
            "\n",
            " [[2.06500000e+01 2.08800000e+01 2.05100000e+01 4.19235140e+07\n",
            "   8.69278705e+08 2.07100000e+01]\n",
            "  [2.08100000e+01 2.24000000e+01 2.07200000e+01 1.20994029e+08\n",
            "   2.61043416e+09 2.15700000e+01]\n",
            "  [2.13600000e+01 2.15700000e+01 2.10000000e+01 5.06426690e+07\n",
            "   1.07788089e+09 2.12900000e+01]\n",
            "  ...\n",
            "  [2.07200000e+01 2.07500000e+01 2.05100000e+01 2.74599400e+07\n",
            "   5.65963441e+08 2.06000000e+01]\n",
            "  [2.06000000e+01 2.07000000e+01 2.02000000e+01 4.58860180e+07\n",
            "   9.38204314e+08 2.07000000e+01]\n",
            "  [2.07000000e+01 2.15700000e+01 2.07000000e+01 6.45855360e+07\n",
            "   1.36342114e+09 2.10200000e+01]]\n",
            "\n",
            " [[2.08100000e+01 2.24000000e+01 2.07200000e+01 1.20994029e+08\n",
            "   2.61043416e+09 2.15700000e+01]\n",
            "  [2.13600000e+01 2.15700000e+01 2.10000000e+01 5.06426690e+07\n",
            "   1.07788089e+09 2.12900000e+01]\n",
            "  [2.14100000e+01 2.16800000e+01 2.11300000e+01 5.16623920e+07\n",
            "   1.10185384e+09 2.12700000e+01]\n",
            "  ...\n",
            "  [2.06000000e+01 2.07000000e+01 2.02000000e+01 4.58860180e+07\n",
            "   9.38204314e+08 2.07000000e+01]\n",
            "  [2.07000000e+01 2.15700000e+01 2.07000000e+01 6.45855360e+07\n",
            "   1.36342114e+09 2.10200000e+01]\n",
            "  [2.10000000e+01 2.11500000e+01 2.07200000e+01 2.69101390e+07\n",
            "   5.62839617e+08 2.09400000e+01]]\n",
            "\n",
            " [[2.13600000e+01 2.15700000e+01 2.10000000e+01 5.06426690e+07\n",
            "   1.07788089e+09 2.12900000e+01]\n",
            "  [2.14100000e+01 2.16800000e+01 2.11300000e+01 5.16623920e+07\n",
            "   1.10185384e+09 2.12700000e+01]\n",
            "  [2.20000000e+01 2.22800000e+01 2.15000000e+01 7.89146550e+07\n",
            "   1.71909162e+09 2.15400000e+01]\n",
            "  ...\n",
            "  [2.07000000e+01 2.15700000e+01 2.07000000e+01 6.45855360e+07\n",
            "   1.36342114e+09 2.10200000e+01]\n",
            "  [2.10000000e+01 2.11500000e+01 2.07200000e+01 2.69101390e+07\n",
            "   5.62839617e+08 2.09400000e+01]\n",
            "  [2.09200000e+01 2.09200000e+01 2.06000000e+01 2.18505970e+07\n",
            "   4.52007098e+08 2.06400000e+01]]]\n",
            "[ 9.38  9.4   9.21  9.33  9.35  9.16  9.16  9.16  9.02  9.12  9.17  9.25\n",
            "  9.5   9.67  9.83  9.62  9.46  9.44  9.44  9.25  9.21  9.27  9.23  9.28\n",
            "  9.22  9.33  9.44  9.39  9.33  9.22  9.18  9.44  9.47  9.57  9.64  9.51\n",
            "  9.41  9.31  9.35  9.35  9.22  9.2   9.1   9.09  8.78  9.02  9.22  9.18\n",
            "  9.4   9.3   9.39  9.29  9.33  9.4   9.58  9.6   9.71  9.51  9.67  9.47\n",
            "  9.29  9.19  9.24  9.37 10.15 10.08 10.1  10.27 10.9  10.64 10.93 11.2\n",
            " 11.69 11.46 12.3  11.42 11.95 12.03 11.69 11.3  11.53 11.93 11.62 11.48\n",
            " 11.72 11.75 11.03 11.22 11.78 12.43 12.64 13.9  14.91 14.36 14.23 13.59\n",
            " 13.45 13.12 13.07 13.1  13.77 13.52 12.17 12.35 13.05 13.58 13.92 13.7\n",
            " 13.18 13.   13.01 13.12 12.88 12.96 12.8  12.7  12.16 12.18 12.42 12.41\n",
            " 12.47 12.76 12.64 12.77 12.4  12.85 12.75 12.77 12.2  12.22 11.9  11.94\n",
            " 12.22 12.02 11.93 12.22 12.23 12.49 12.63 13.14 12.87 13.14 13.36 13.05\n",
            " 12.78 12.95 13.35 14.24 13.82 13.72 13.59 13.45 13.72 13.82 14.64 14.32\n",
            " 14.37 14.12 13.9  14.3  14.67 14.21 14.48 14.88 14.76 14.42 14.7  14.19\n",
            " 14.24 14.6  14.55 13.77 13.56 13.61 13.8  14.07 13.92 14.7  14.59 14.16\n",
            " 13.84 14.16 14.05 14.15 14.49 15.02 15.77 15.4  14.35 14.35 14.88 14.8\n",
            " 15.05 14.99 15.57 16.08 15.66 15.52 15.32 15.48 14.95 14.38 14.58 14.18\n",
            " 13.55 14.27 14.38 14.2  13.43 13.69 14.52 14.25 14.21 13.7  14.88 14.54\n",
            " 13.26 14.55 14.97 15.1  14.55 14.71 14.7  15.07 15.35 14.51 14.7  15.16\n",
            " 15.41 14.2  14.62 14.6  14.08 14.18 14.61 14.79 14.45 14.34 14.6  15.07\n",
            " 15.57 14.93 14.88 14.95 14.76 14.22 14.5  14.28 13.91 13.19 13.   13.25\n",
            " 13.18 13.58 13.8  14.23 14.22 13.6  13.68 13.76 13.54 13.47 13.19 13.02\n",
            " 13.43 13.1  13.12 13.18 13.26 13.15 13.09 12.9  12.85 12.6  12.73 13.07\n",
            " 13.23 13.48 13.47 13.28 13.52 13.65 13.53 13.55 13.23 13.35 13.74 13.67\n",
            " 13.69 13.66 13.62 13.67 13.56 13.66 14.08 14.12 14.21 14.4  14.27 14.17\n",
            " 14.09 13.9  14.   14.   14.67 14.5  14.49 14.37 14.5  14.56 14.5  14.26\n",
            " 15.07 16.58 18.24 19.15 18.98 18.02 17.77 19.55 19.54 19.9  20.08 21.08\n",
            " 20.19 22.21 24.43 21.99 19.79 19.8  18.82 18.75 18.27 18.12 18.32 17.96\n",
            " 17.89 17.43 17.11 17.08 17.02 17.39 17.7  17.78 17.42 17.92 17.14 17.17\n",
            " 17.61 17.88 19.67 20.95 21.87 21.97 21.2  20.71 22.78 25.06 27.57 25.85\n",
            " 25.58 24.59 24.7  24.7  23.99 23.54 22.89 22.91 22.66 24.93 23.44 23.77\n",
            " 23.44 23.32 23.27 23.62 23.17 23.5  23.58 23.58 23.63 23.62 24.62 27.\n",
            " 25.48 24.68 25.14 25.8  25.99 26.17 25.97 26.23 26.6  26.81 26.84 26.\n",
            " 26.   25.83 25.94 25.25 25.24 25.01 25.17 24.77 24.75 24.92 25.79 24.9\n",
            " 24.87 24.59 24.16 24.22 26.3  26.56 25.99 25.7  26.94 26.68 27.   27.72\n",
            " 27.4  27.3  27.22 26.93 27.2  26.38 26.16 26.98 26.97 26.45 25.5  25.38\n",
            " 25.14 24.74 24.81 23.26 23.06 22.29 22.33 22.46 21.1  20.33 20.48 20.61\n",
            " 20.3  20.65 21.42 21.2  20.84 20.55 20.73 20.85 20.93 20.64 20.66 20.58\n",
            " 20.4  21.81 21.   20.8  20.92 20.6  20.68 20.74 20.69 20.61 20.68 20.68\n",
            " 20.71 20.64 20.69 20.8  20.66 20.77 20.91 20.67 20.68 20.54 20.61 20.98\n",
            " 20.9  20.79 20.72 20.52 20.53 20.5  20.34 20.2  20.22 20.26 20.72 20.51\n",
            " 20.6  20.71 21.57 21.29 21.27 21.54 21.13 21.18 21.07 21.45 21.49 21.2\n",
            " 21.27 21.01 20.53 20.58 20.58 20.79 20.8  20.6  20.7  21.02 20.94 20.64]\n",
            "[-0.18065023 -0.1769175  -0.21237849 -0.18998207 -0.18624934 -0.22171033\n",
            " -0.22171033 -0.22171033 -0.24783949 -0.22917581 -0.21984397 -0.20491302\n",
            " -0.15825381 -0.12652555 -0.09666366 -0.13585739 -0.16571929 -0.16945202\n",
            " -0.16945202 -0.20491302 -0.21237849 -0.20118028 -0.20864576 -0.19931391\n",
            " -0.21051212 -0.18998207 -0.16945202 -0.17878386 -0.18998207 -0.21051212\n",
            " -0.2179776  -0.16945202 -0.16385292 -0.14518924 -0.13212466 -0.15638744\n",
            " -0.17505113 -0.19371481 -0.18624934 -0.18624934 -0.21051212 -0.21424486\n",
            " -0.23290854 -0.23477491 -0.29263233 -0.24783949 -0.21051212 -0.2179776\n",
            " -0.1769175  -0.19558118 -0.17878386 -0.19744755 -0.18998207 -0.1769175\n",
            " -0.14332287 -0.13959013 -0.11906008 -0.15638744 -0.12652555 -0.16385292\n",
            " -0.19744755 -0.21611123 -0.20677939 -0.1825166  -0.03693988 -0.05000445\n",
            " -0.04627172 -0.01454346  0.10303774  0.05451217  0.10863685  0.15902879\n",
            "  0.25048083  0.20755436  0.3643293   0.20008889  0.29900641  0.31393735\n",
            "  0.25048083  0.17769247  0.22061894  0.29527367  0.23741626  0.2112871\n",
            "  0.25607994  0.26167904  0.12730053  0.16276153  0.26727815  0.38859208\n",
            "  0.42778582  0.66294822  0.85145141  0.74880116  0.72453837  0.6050908\n",
            "  0.57896165  0.51737149  0.50803965  0.51363876  0.63868543  0.59202622\n",
            "  0.34006651  0.37366114  0.50430692  0.60322443  0.66668095  0.62562085\n",
            "  0.5285697   0.49497507  0.49684144  0.51737149  0.47257866  0.4875096\n",
            "  0.45764771  0.43898403  0.33820014  0.34193288  0.38672572  0.38485935\n",
            "  0.39605756  0.45018224  0.42778582  0.4520486   0.38299298  0.46697955\n",
            "  0.44831587  0.4520486   0.34566561  0.34939835  0.28967457  0.29714004\n",
            "  0.34939835  0.31207099  0.29527367  0.34939835  0.35126472  0.39979029\n",
            "  0.42591945  0.52110423  0.47071229  0.52110423  0.56216433  0.50430692\n",
            "  0.45391497  0.48564323  0.56029796  0.72640474  0.64801727  0.62935359\n",
            "  0.6050908   0.57896165  0.62935359  0.64801727  0.80105947  0.74133568\n",
            "  0.75066753  0.70400832  0.66294822  0.73760295  0.80665857  0.72080563\n",
            "  0.77119758  0.84585231  0.82345589  0.75999937  0.81225768  0.7170729\n",
            "  0.72640474  0.79359399  0.78426215  0.63868543  0.5994917   0.60882354\n",
            "  0.64428453  0.69467648  0.66668095  0.81225768  0.79172763  0.71147379\n",
            "  0.65175001  0.71147379  0.69094374  0.70960742  0.77306394  0.87198146\n",
            "  1.01195908  0.94290345  0.74693479  0.74693479  0.84585231  0.83092136\n",
            "  0.87758057  0.86638236  0.97463172  1.0698165   0.99142903  0.96529987\n",
            "  0.92797251  0.9578344   0.85891688  0.75253389  0.78986126  0.71520653\n",
            "  0.59762533  0.73200384  0.75253389  0.71893926  0.57522891  0.62375448\n",
            "  0.77866305  0.72827111  0.72080563  0.62562085  0.84585231  0.78239579\n",
            "  0.54350065  0.78426215  0.86264962  0.88691241  0.78426215  0.81412405\n",
            "  0.81225768  0.8813133   0.93357161  0.77679668  0.81225768  0.89811062\n",
            "  0.94476982  0.71893926  0.79732673  0.79359399  0.69654285  0.71520653\n",
            "  0.79546036  0.82905499  0.76559847  0.74506842  0.79359399  0.8813133\n",
            "  0.97463172  0.85518415  0.84585231  0.85891688  0.82345589  0.722672\n",
            "  0.77493031  0.73387021  0.66481459  0.53043607  0.49497507  0.54163428\n",
            "  0.5285697   0.60322443  0.64428453  0.72453837  0.722672    0.60695717\n",
            "  0.62188812  0.63681906  0.59575896  0.58269438  0.53043607  0.49870781\n",
            "  0.57522891  0.51363876  0.51737149  0.5285697   0.54350065  0.5229706\n",
            "  0.51177239  0.47631139  0.46697955  0.42032034  0.44458313  0.50803965\n",
            "  0.53790154  0.58456075  0.58269438  0.54723339  0.59202622  0.61628901\n",
            "  0.59389259  0.59762533  0.53790154  0.56029796  0.63308633  0.62002175\n",
            "  0.62375448  0.61815538  0.61068991  0.62002175  0.5994917   0.61815538\n",
            "  0.69654285  0.70400832  0.72080563  0.75626663  0.73200384  0.71334016\n",
            "  0.69840921  0.66294822  0.6816119   0.6816119   0.80665857  0.77493031\n",
            "  0.77306394  0.75066753  0.77493031  0.78612852  0.77493031  0.73013747\n",
            "  0.8813133   1.16313491  1.47295204  1.64279155  1.61106329  1.43189194\n",
            "  1.38523273  1.71744628  1.71557991  1.78276917  1.8163638   2.00300062\n",
            "  1.83689385  2.21390023  2.62823399  2.17284013  1.76223912  1.76410549\n",
            "  1.5812014   1.56813682  1.47855114  1.45055562  1.48788298  1.42069373\n",
            "  1.40762915  1.32177621  1.26205243  1.25645332  1.24525511  1.31431074\n",
            "  1.37216815  1.3870991   1.31990984  1.41322825  1.26765153  1.27325064\n",
            "  1.35537084  1.40576278  1.7398427   1.97873783  2.15044371  2.1691074\n",
            "  2.02539704  1.933945    2.32028322  2.74581518  3.21427362  2.89325828\n",
            "  2.84286633  2.65809588  2.67862593  2.67862593  2.54611378  2.46212721\n",
            "  2.34081327  2.34454601  2.2978868   2.7215524   2.44346353  2.50505368\n",
            "  2.44346353  2.42106711  2.41173527  2.47705816  2.39307159  2.45466174\n",
            "  2.46959268  2.46959268  2.47892453  2.47705816  2.66369498  3.10789063\n",
            "  2.82420265  2.67489319  2.76074613  2.88392644  2.91938743  2.95298206\n",
            "  2.9156547   2.96418027  3.0332359   3.07242963  3.07802873  2.9212538\n",
            "  2.9212538   2.88952554  2.91005559  2.78127618  2.77940981  2.73648334\n",
            "  2.76634524  2.69169051  2.68795777  2.71968603  2.88206007  2.71595329\n",
            "  2.71035419  2.65809588  2.57784204  2.58904025  2.97724485  3.02577042\n",
            "  2.91938743  2.86526275  3.09669242  3.04816684  3.10789063  3.24226914\n",
            "  3.18254536  3.16388167  3.14895073  3.09482605  3.14521799  2.99217579\n",
            "  2.95111569  3.10415789  3.10229152  3.00524037  2.82793539  2.80553897\n",
            "  2.76074613  2.6860914   2.69915598  2.4098689   2.37254153  2.22883118\n",
            "  2.23629665  2.26055944  2.00673336  1.863023    1.89101853  1.91528131\n",
            "  1.8574239   1.92274679  2.06645714  2.02539704  1.95820778  1.9040831\n",
            "  1.93767773  1.96007415  1.9750051   1.92088042  1.92461315  1.90968221\n",
            "  1.87608758  2.1392455   1.98806968  1.95074231  1.97313873  1.91341495\n",
            "  1.92834589  1.9395441   1.93021226  1.91528131  1.92834589  1.92834589\n",
            "  1.933945    1.92088042  1.93021226  1.95074231  1.92461315  1.94514321\n",
            "  1.97127236  1.92647952  1.92834589  1.90221674  1.91528131  1.98433694\n",
            "  1.96940599  1.94887594  1.93581136  1.898484    1.90035037  1.89475126\n",
            "  1.86488937  1.83876022  1.84249295  1.84995842  1.93581136  1.89661763\n",
            "  1.91341495  1.933945    2.09445267  2.04219435  2.03846162  2.08885356\n",
            "  2.01233246  2.0216643   2.00113425  2.07205625  2.07952172  2.02539704\n",
            "  2.03846162  1.98993604  1.90035037  1.90968221  1.90968221  1.94887594\n",
            "  1.95074231  1.91341495  1.93207863  1.99180241  1.97687147  1.92088042]\n",
            "X_train (4648, 20, 6)\n",
            "y_train (4648,)\n",
            "X_test (516, 20, 6)\n",
            "y_test (516,)\n"
          ],
          "name": "stdout"
        }
      ]
    },
    {
      "cell_type": "code",
      "metadata": {
        "id": "FIIi_bzbBUdp",
        "colab_type": "code",
        "colab": {
          "base_uri": "https://localhost:8080/",
          "height": 510
        },
        "outputId": "165ee012-e7f9-404a-9c5b-855eea593f1d"
      },
      "source": [
        "model = build_model([X_train.shape[2], window, 100, 1])"
      ],
      "execution_count": 9,
      "outputs": [
        {
          "output_type": "stream",
          "text": [
            "Model: \"sequential\"\n",
            "_________________________________________________________________\n",
            "Layer (type)                 Output Shape              Param #   \n",
            "=================================================================\n",
            "lstm (LSTM)                  (None, 20, 512)           1062912   \n",
            "_________________________________________________________________\n",
            "dropout (Dropout)            (None, 20, 512)           0         \n",
            "_________________________________________________________________\n",
            "lstm_1 (LSTM)                (None, 20, 256)           787456    \n",
            "_________________________________________________________________\n",
            "dropout_1 (Dropout)          (None, 20, 256)           0         \n",
            "_________________________________________________________________\n",
            "lstm_2 (LSTM)                (None, 20, 128)           197120    \n",
            "_________________________________________________________________\n",
            "dropout_2 (Dropout)          (None, 20, 128)           0         \n",
            "_________________________________________________________________\n",
            "lstm_3 (LSTM)                (None, 20, 64)            49408     \n",
            "_________________________________________________________________\n",
            "dropout_3 (Dropout)          (None, 20, 64)            0         \n",
            "_________________________________________________________________\n",
            "lstm_4 (LSTM)                (None, 32)                12416     \n",
            "_________________________________________________________________\n",
            "dense (Dense)                (None, 1)                 33        \n",
            "=================================================================\n",
            "Total params: 2,109,345\n",
            "Trainable params: 2,109,345\n",
            "Non-trainable params: 0\n",
            "_________________________________________________________________\n",
            "Compilation Time :  0.014346599578857422\n"
          ],
          "name": "stdout"
        }
      ]
    },
    {
      "cell_type": "markdown",
      "metadata": {
        "id": "CDvJll2VBUdr",
        "colab_type": "text"
      },
      "source": [
        "## Training the Network\n",
        "\n",
        "You can play with the hyperparameters here. The training process can take a significant time if you are using a average GPU or CPU(worse!)."
      ]
    },
    {
      "cell_type": "code",
      "metadata": {
        "id": "PfB-fgI_BUds",
        "colab_type": "code",
        "colab": {
          "base_uri": "https://localhost:8080/",
          "height": 34
        },
        "outputId": "3e5a1acc-9df3-4f95-f082-3e276d7d8375"
      },
      "source": [
        "model.fit(\n",
        "    X_train,\n",
        "    y_train,\n",
        "    batch_size=768,\n",
        "    epochs=200,\n",
        "    validation_split=0.1,\n",
        "    verbose=0)"
      ],
      "execution_count": 10,
      "outputs": [
        {
          "output_type": "execute_result",
          "data": {
            "text/plain": [
              "<tensorflow.python.keras.callbacks.History at 0x7f680d40d780>"
            ]
          },
          "metadata": {
            "tags": []
          },
          "execution_count": 10
        }
      ]
    },
    {
      "cell_type": "code",
      "metadata": {
        "id": "1j73jgmmBUdv",
        "colab_type": "code",
        "colab": {
          "base_uri": "https://localhost:8080/",
          "height": 51
        },
        "outputId": "7ed91fbb-c28a-4a3e-c1c1-367a2525cff4"
      },
      "source": [
        "trainScore = model.evaluate(X_train, y_train, verbose=0)\n",
        "print('Train Score: %.2f MSE (%.2f RMSE)' % (trainScore[0], math.sqrt(trainScore[0])))\n",
        "\n",
        "testScore = model.evaluate(X_test, y_test, verbose=0)\n",
        "print('Test Score: %.2f MSE (%.2f RMSE)' % (testScore[0], math.sqrt(testScore[0])))"
      ],
      "execution_count": 11,
      "outputs": [
        {
          "output_type": "stream",
          "text": [
            "Train Score: 0.01 MSE (0.08 RMSE)\n",
            "Test Score: 0.03 MSE (0.17 RMSE)\n"
          ],
          "name": "stdout"
        }
      ]
    },
    {
      "cell_type": "markdown",
      "metadata": {
        "id": "j-awbWzPBUdx",
        "colab_type": "text"
      },
      "source": [
        "## Visualize the Prediction"
      ]
    },
    {
      "cell_type": "code",
      "metadata": {
        "id": "dZfWoXLJBUdy",
        "colab_type": "code",
        "colab": {}
      },
      "source": [
        "diff = []\n",
        "ratio = []\n",
        "pred = model.predict(X_test)\n",
        "for u in range(len(y_test)):\n",
        "    pr = pred[u][0]\n",
        "    ratio.append((y_test[u] / pr) - 1)\n",
        "    diff.append(abs(y_test[u] - pr))"
      ],
      "execution_count": 12,
      "outputs": []
    },
    {
      "cell_type": "code",
      "metadata": {
        "id": "mZhqCOJrBUd0",
        "colab_type": "code",
        "colab": {}
      },
      "source": [
        "# TODO: Scale it back"
      ],
      "execution_count": 13,
      "outputs": []
    },
    {
      "cell_type": "code",
      "metadata": {
        "id": "5FPS2nypBUd3",
        "colab_type": "code",
        "colab": {
          "base_uri": "https://localhost:8080/",
          "height": 265
        },
        "outputId": "f09a06ed-eb6c-47a3-a80e-b4faa22e9258"
      },
      "source": [
        "# if using within a jupyter notebook\n",
        "%matplotlib inline \n",
        "\n",
        "import matplotlib\n",
        "import matplotlib.pyplot as plt2\n",
        "\n",
        "\n",
        "plt2.plot(pred, color='red', label='Prediction')\n",
        "plt2.plot(y_test, color='blue', label='Ground Truth')\n",
        "plt2.legend(loc='upper left')\n",
        "plt2.show()"
      ],
      "execution_count": 14,
      "outputs": [
        {
          "output_type": "display_data",
          "data": {
            "image/png": "[encoded data removed]",
            "text/plain": [
              "<Figure size 432x288 with 1 Axes>"
            ]
          },
          "metadata": {
            "tags": [],
            "needs_background": "light"
          }
        }
      ]
    },
    {
      "cell_type": "code",
      "metadata": {
        "id": "bhVNa0yaTzgR",
        "colab_type": "code",
        "colab": {
          "base_uri": "https://localhost:8080/",
          "height": 1000
        },
        "outputId": "83ba3972-9983-44d5-ce5d-2fa4a7515a6b"
      },
      "source": [
        "\n",
        "row = round(0.9 * result_for_inverse_transform.shape[0])\n",
        "# print (result_for_inverse_transform[int(row) :, -1][ : ,-1])\n",
        "import copy\n",
        "\n",
        "predictions_for_inverse_transform = copy.deepcopy(result_for_inverse_transform)\n",
        "\n",
        "#print (pred)\n",
        "for i in range(len(pred)):\n",
        "  predictions_for_inverse_transform[int(row) :, -1][ i ,-1] = pred[i]\n",
        "\n",
        "# print (predictions_for_inverse_transform[int(row) :, -1][ : ,-1])\n",
        "\n",
        "a,b,c =  recover_scaler(train_orig, result_orig, train_for_inverse_transform, result_for_inverse_transform, predictions_for_inverse_transform)\n",
        "recovered_stock_true_price = b[int(row) :, -1][ : ,-1]\n",
        "recovered_stock_pred_price = c[int(row) :, -1][ : ,-1]\n",
        "# print (result_orig[int(row) :, -1][ : ,-1])\n",
        "print (\"b\")\n",
        "print (b[int(row) :, -1][ : ,-1])\n",
        "print (\"c\")\n",
        "print (c[int(row) :, -1][ : ,-1])\n",
        "\n",
        "plt2.plot(recovered_stock_pred_price, color='red', label='Prediction')\n",
        "plt2.plot(recovered_stock_true_price, color='blue', label='Ground Truth')\n",
        "plt2.legend(loc='upper left')\n",
        "plt2.show()"
      ],
      "execution_count": 15,
      "outputs": [
        {
          "output_type": "stream",
          "text": [
            "b\n",
            "[ 9.38  9.4   9.21  9.33  9.35  9.16  9.16  9.16  9.02  9.12  9.17  9.25\n",
            "  9.5   9.67  9.83  9.62  9.46  9.44  9.44  9.25  9.21  9.27  9.23  9.28\n",
            "  9.22  9.33  9.44  9.39  9.33  9.22  9.18  9.44  9.47  9.57  9.64  9.51\n",
            "  9.41  9.31  9.35  9.35  9.22  9.2   9.1   9.09  8.78  9.02  9.22  9.18\n",
            "  9.4   9.3   9.39  9.29  9.33  9.4   9.58  9.6   9.71  9.51  9.67  9.47\n",
            "  9.29  9.19  9.24  9.37 10.15 10.08 10.1  10.27 10.9  10.64 10.93 11.2\n",
            " 11.69 11.46 12.3  11.42 11.95 12.03 11.69 11.3  11.53 11.93 11.62 11.48\n",
            " 11.72 11.75 11.03 11.22 11.78 12.43 12.64 13.9  14.91 14.36 14.23 13.59\n",
            " 13.45 13.12 13.07 13.1  13.77 13.52 12.17 12.35 13.05 13.58 13.92 13.7\n",
            " 13.18 13.   13.01 13.12 12.88 12.96 12.8  12.7  12.16 12.18 12.42 12.41\n",
            " 12.47 12.76 12.64 12.77 12.4  12.85 12.75 12.77 12.2  12.22 11.9  11.94\n",
            " 12.22 12.02 11.93 12.22 12.23 12.49 12.63 13.14 12.87 13.14 13.36 13.05\n",
            " 12.78 12.95 13.35 14.24 13.82 13.72 13.59 13.45 13.72 13.82 14.64 14.32\n",
            " 14.37 14.12 13.9  14.3  14.67 14.21 14.48 14.88 14.76 14.42 14.7  14.19\n",
            " 14.24 14.6  14.55 13.77 13.56 13.61 13.8  14.07 13.92 14.7  14.59 14.16\n",
            " 13.84 14.16 14.05 14.15 14.49 15.02 15.77 15.4  14.35 14.35 14.88 14.8\n",
            " 15.05 14.99 15.57 16.08 15.66 15.52 15.32 15.48 14.95 14.38 14.58 14.18\n",
            " 13.55 14.27 14.38 14.2  13.43 13.69 14.52 14.25 14.21 13.7  14.88 14.54\n",
            " 13.26 14.55 14.97 15.1  14.55 14.71 14.7  15.07 15.35 14.51 14.7  15.16\n",
            " 15.41 14.2  14.62 14.6  14.08 14.18 14.61 14.79 14.45 14.34 14.6  15.07\n",
            " 15.57 14.93 14.88 14.95 14.76 14.22 14.5  14.28 13.91 13.19 13.   13.25\n",
            " 13.18 13.58 13.8  14.23 14.22 13.6  13.68 13.76 13.54 13.47 13.19 13.02\n",
            " 13.43 13.1  13.12 13.18 13.26 13.15 13.09 12.9  12.85 12.6  12.73 13.07\n",
            " 13.23 13.48 13.47 13.28 13.52 13.65 13.53 13.55 13.23 13.35 13.74 13.67\n",
            " 13.69 13.66 13.62 13.67 13.56 13.66 14.08 14.12 14.21 14.4  14.27 14.17\n",
            " 14.09 13.9  14.   14.   14.67 14.5  14.49 14.37 14.5  14.56 14.5  14.26\n",
            " 15.07 16.58 18.24 19.15 18.98 18.02 17.77 19.55 19.54 19.9  20.08 21.08\n",
            " 20.19 22.21 24.43 21.99 19.79 19.8  18.82 18.75 18.27 18.12 18.32 17.96\n",
            " 17.89 17.43 17.11 17.08 17.02 17.39 17.7  17.78 17.42 17.92 17.14 17.17\n",
            " 17.61 17.88 19.67 20.95 21.87 21.97 21.2  20.71 22.78 25.06 27.57 25.85\n",
            " 25.58 24.59 24.7  24.7  23.99 23.54 22.89 22.91 22.66 24.93 23.44 23.77\n",
            " 23.44 23.32 23.27 23.62 23.17 23.5  23.58 23.58 23.63 23.62 24.62 27.\n",
            " 25.48 24.68 25.14 25.8  25.99 26.17 25.97 26.23 26.6  26.81 26.84 26.\n",
            " 26.   25.83 25.94 25.25 25.24 25.01 25.17 24.77 24.75 24.92 25.79 24.9\n",
            " 24.87 24.59 24.16 24.22 26.3  26.56 25.99 25.7  26.94 26.68 27.   27.72\n",
            " 27.4  27.3  27.22 26.93 27.2  26.38 26.16 26.98 26.97 26.45 25.5  25.38\n",
            " 25.14 24.74 24.81 23.26 23.06 22.29 22.33 22.46 21.1  20.33 20.48 20.61\n",
            " 20.3  20.65 21.42 21.2  20.84 20.55 20.73 20.85 20.93 20.64 20.66 20.58\n",
            " 20.4  21.81 21.   20.8  20.92 20.6  20.68 20.74 20.69 20.61 20.68 20.68\n",
            " 20.71 20.64 20.69 20.8  20.66 20.77 20.91 20.67 20.68 20.54 20.61 20.98\n",
            " 20.9  20.79 20.72 20.52 20.53 20.5  20.34 20.2  20.22 20.26 20.72 20.51\n",
            " 20.6  20.71 21.57 21.29 21.27 21.54 21.13 21.18 21.07 21.45 21.49 21.2\n",
            " 21.27 21.01 20.53 20.58 20.58 20.79 20.8  20.6  20.7  21.02 20.94 20.64]\n",
            "c\n",
            "[ 9.36427981  9.38133572  9.39564607  9.34053032  9.2746948   9.2723213\n",
            "  9.24078194  9.17091687  9.16581658  9.13349279  9.0818513   9.1228721\n",
            "  9.20865256  9.42209465  9.64784924  9.77497518  9.69565381  9.51203136\n",
            "  9.4593612   9.41721017  9.3942828   9.30513611  9.25907593  9.23874306\n",
            "  9.25037804  9.2505085   9.33746014  9.38961677  9.40130931  9.32723498\n",
            "  9.27983803  9.18490786  9.45105979  9.53328057  9.5872348   9.60457806\n",
            "  9.5375157   9.43348612  9.33905766  9.32380839  9.35861473  9.29165426\n",
            "  9.19565191  9.1301252   9.07808594  8.98976895  8.94350846  9.07737856\n",
            "  9.17154346  9.33331307  9.38038067  9.36082967  9.29021018  9.36850241\n",
            "  9.45864192  9.57633499  9.68426845  9.66561693  9.60561774  9.59975354\n",
            "  9.59953342  9.40793     9.23666856  9.17884838  9.28792395  9.97018435\n",
            " 10.51825386 10.33409808 10.21997383 10.53132773 10.77407488 10.83957563\n",
            " 11.10964729 11.40626496 11.39668922 11.72860713 11.69562921 11.82607248\n",
            " 11.92225143 11.74441011 11.31398126 11.17695818 11.38430821 11.60152595\n",
            " 11.31378589 11.38106749 11.45998502 11.01913652 10.93821152 11.24889487\n",
            " 11.7911597  12.60767675 12.84099295 13.88766739 14.37904106 14.16370987\n",
            " 14.01075225 13.85225849 13.62144656 13.41089909 13.16402838 13.05261396\n",
            " 13.0584158  12.58505988 12.26279906 12.25193006 12.52771578 12.83757498\n",
            " 13.00128551 12.6229515  12.51300007 12.36673227 12.43482018 12.43455894\n",
            " 12.35733681 12.5581701  12.4657082  12.09710306 11.98890093 11.95100931\n",
            " 11.951367   11.92819635 12.23115527 12.31634866 12.3971256  12.15040547\n",
            " 12.41943461 12.490582   12.48677473 12.2933848  12.04191672 11.7673069\n",
            " 11.82551663 11.95598656 11.92029886 11.85795914 11.99594302 12.09613523\n",
            " 12.222064   12.40433551 12.76546424 12.74453072 12.74770901 13.2525516\n",
            " 12.90401753 12.75259476 12.78718115 13.00009254 13.46958914 13.93128038\n",
            " 14.31095156 14.18312738 13.92984612 13.80947073 13.69381167 13.66059295\n",
            " 13.8431174  13.94072869 13.9330787  13.83320058 13.71144044 13.59642202\n",
            " 13.62290604 13.7251171  13.77072705 13.79614281 13.79599399 13.77461432\n",
            " 13.78565306 13.86209546 13.75706349 13.77047093 13.7249852  13.60187704\n",
            " 13.45372996 13.35987404 13.21089534 13.2001386  13.23903909 13.504016\n",
            " 13.95358843 14.07424102 14.01893972 13.86411096 13.76440465 13.71868899\n",
            " 13.83049655 14.10588689 14.56340503 14.58963644 14.64077869 14.58957863\n",
            " 14.52977753 14.43230068 14.30549048 14.29125014 14.54949204 14.85454597\n",
            " 15.1271534  15.36146074 15.31645246 15.12501719 14.84764808 14.59104003\n",
            " 14.32752036 14.05132587 13.8433154  13.88223441 13.92141306 13.73448078\n",
            " 13.51680708 13.65101657 13.86410617 13.71674663 13.51919686 13.66944151\n",
            " 14.07476446 13.47011768 13.6316936  13.83680394 14.30106189 14.60484348\n",
            " 14.70304527 14.68180006 14.61489667 14.52052402 14.42100135 14.25994663\n",
            " 14.15879937 14.22051856 14.36453054 14.35000694 14.26850967 14.08836958\n",
            " 13.79074305 13.67291616 13.80724031 13.85534671 13.8048962  13.97667189\n",
            " 14.32706751 14.99432098 15.06488777 14.51242693 14.67527518 13.964349\n",
            " 13.88248734 14.1510986  13.92273713 13.82887419 12.87377351 13.4076499\n",
            " 13.41707043 13.19492087 13.33982675 13.39104214 13.6415558  13.71590895\n",
            " 13.61868983 13.21269239 13.55180464 13.1976875  13.14481782 13.01687962\n",
            " 12.82079939 13.17855167 12.95229208 12.91307144 13.08770733 13.13267856\n",
            " 12.93693031 13.05000477 12.75556706 12.76267701 12.45657717 12.69688164\n",
            " 13.3555684  13.03954632 13.46123911 13.36363548 13.19966179 13.39203695\n",
            " 13.59184333 13.43003875 13.44881562 13.2956552  13.21856928 13.61762763\n",
            " 13.6463903  13.42704314 13.65120372 13.50017919 13.55555075 13.45381459\n",
            " 13.53539616 14.00257818 14.11850103 14.01319824 14.43408911 13.99068516\n",
            " 14.06769028 14.01831217 13.75486755 13.86120764 14.08267856 14.79731061\n",
            " 14.30785631 14.46196044 14.35952966 14.31841281 14.45525225 14.38706374\n",
            " 14.32257026 15.10198386 16.36094422 17.88582777 19.59387161 19.35472722\n",
            " 19.69554103 19.69044657 20.05835503 20.48771761 20.66410424 20.71824818\n",
            " 20.82195896 20.8160942  20.98784242 21.92152879 22.06835978 20.84177726\n",
            " 20.63089191 21.17926205 20.70757064 20.54680654 20.29975667 20.14994412\n",
            " 20.02384928 19.90882288 19.58396629 19.21330685 19.00047275 18.83483902\n",
            " 18.62516085 18.59195107 18.70469787 18.49994042 18.2068022  17.94468804\n",
            " 18.05310812 17.8830902  17.80908452 18.96127813 20.89285852 21.41116843\n",
            " 22.23947503 21.63698522 21.93122589 22.61428936 24.09655793 25.81236545\n",
            " 26.30098239 27.04917648 27.28514258 27.33286033 27.31929767 27.11840898\n",
            " 26.6936286  26.16719924 25.39722468 24.55136724 24.20478065 24.20281338\n",
            " 24.50317046 24.4386313  24.1674907  24.16249333 23.99774104 23.85469257\n",
            " 23.59548333 23.76246093 23.4103762  23.62437406 23.03467405 23.6616244\n",
            " 25.48133815 25.11164766 25.0312324  26.41011337 25.36186368 26.92440444\n",
            " 26.70214917 26.24706392 27.43688152 26.88400519 26.93136524 26.7785558\n",
            " 25.36325482 25.48326454 24.53687589 24.4656097  24.08008398 24.45121543\n",
            " 24.79707771 24.9089897  24.07665531 24.56496183 24.82483152 25.34009088\n",
            " 25.18105133 25.08267773 25.24614363 24.526374   24.81427597 26.23438015\n",
            " 27.76456574 25.33599028 27.25537808 27.1141934  27.13345985 27.95996908\n",
            " 28.671991   28.90951814 29.29203037 28.20139883 27.36623745 26.211823\n",
            " 24.8317029  25.33023666 25.20333128 25.18852567 25.58091001 25.41740962\n",
            " 26.41675865 24.60469553 24.5453543  24.7729263  23.72472516 24.54822089\n",
            " 23.36527723 23.87499631 23.09445599 21.39336977 22.05524424 21.70201875\n",
            " 21.95793729 22.15485824 21.78302292 22.78957164 21.03269357 21.89845299\n",
            " 20.9604808  21.01128293 21.11526581 21.17549231 20.63507043 21.11371626\n",
            " 20.63223578 20.3275092  22.65295767 18.62135789 21.36728047 21.02619265\n",
            " 19.0428827  21.38522093 20.1150398  20.9172833  21.32075204 20.83417518\n",
            " 20.7104698  20.73067071 20.52932277 20.49871323 21.14010576 19.95870908\n",
            " 21.12546239 20.80810505 20.65561114 21.63937405 20.71532282 21.05167707\n",
            " 21.49824813 20.88876367 21.14899934 20.84669671 20.54130394 20.66657035\n",
            " 20.49972305 20.31748507 20.32650257 20.45676699 20.25027605 21.34127549\n",
            " 20.02486102 21.11821288 20.90388352 22.28061137 20.53200796 22.1701084\n",
            " 22.35523469 20.46332157 22.23941499 21.06105481 22.04319791 21.85678652\n",
            " 21.45533231 21.61385066 20.86022615 20.3819067  20.50800026 20.48977493\n",
            " 20.68695521 20.72602399 20.59728803 21.25530589 21.84907713 20.32265873]\n"
          ],
          "name": "stdout"
        },
        {
          "output_type": "display_data",
          "data": {
            "image/png": "[encoded data removed]",
            "text/plain": [
              "<Figure size 432x288 with 1 Axes>"
            ]
          },
          "metadata": {
            "tags": [],
            "needs_background": "light"
          }
        }
      ]
    },
    {
      "cell_type": "markdown",
      "metadata": {
        "id": "zA--mqu1KwbE",
        "colab_type": "text"
      },
      "source": [
        "turtle-agent"
      ]
    },
    {
      "cell_type": "code",
      "metadata": {
        "id": "QauVYHlrKvLX",
        "colab_type": "code",
        "colab": {
          "base_uri": "https://localhost:8080/",
          "height": 71
        },
        "outputId": "5184ce2c-a929-487c-926b-653f13a6f23e"
      },
      "source": [
        "import pandas as pd\n",
        "import matplotlib.pyplot as plt\n",
        "import seaborn as sns\n",
        "sns.set()"
      ],
      "execution_count": 16,
      "outputs": [
        {
          "output_type": "stream",
          "text": [
            "/usr/local/lib/python3.6/dist-packages/statsmodels/tools/_testing.py:19: FutureWarning: pandas.util.testing is deprecated. Use the functions in the public API at pandas.testing instead.\n",
            "  import pandas.util.testing as tm\n"
          ],
          "name": "stderr"
        }
      ]
    },
    {
      "cell_type": "code",
      "metadata": {
        "id": "ybKyg9bPLV-U",
        "colab_type": "code",
        "colab": {
          "base_uri": "https://localhost:8080/",
          "height": 255
        },
        "outputId": "1c630d39-6a62-4995-cbb4-072b3fc027a3"
      },
      "source": [
        "from pandas import DataFrame\n",
        "df = DataFrame (recovered_stock_true_price,columns=['Close'])\n",
        "print (df)"
      ],
      "execution_count": 17,
      "outputs": [
        {
          "output_type": "stream",
          "text": [
            "     Close\n",
            "0     9.38\n",
            "1     9.40\n",
            "2     9.21\n",
            "3     9.33\n",
            "4     9.35\n",
            "..     ...\n",
            "511  20.60\n",
            "512  20.70\n",
            "513  21.02\n",
            "514  20.94\n",
            "515  20.64\n",
            "\n",
            "[516 rows x 1 columns]\n"
          ],
          "name": "stdout"
        }
      ]
    },
    {
      "cell_type": "code",
      "metadata": {
        "id": "kychUFCjK9Pu",
        "colab_type": "code",
        "colab": {
          "base_uri": "https://localhost:8080/",
          "height": 419
        },
        "outputId": "de6385fc-f92d-4ac4-9757-aa9ae3d8bc05"
      },
      "source": [
        "short_window = int(0.025 * len(df))\n",
        "long_window = int(0.05 * len(df))\n",
        "\n",
        "signals = pd.DataFrame(index=df.index)\n",
        "signals['signal'] = 0.0\n",
        "\n",
        "signals['short_ma'] = df['Close'].rolling(window=short_window, min_periods=1, center=False).mean()\n",
        "signals['long_ma'] = df['Close'].rolling(window=long_window, min_periods=1, center=False).mean()\n",
        "\n",
        "signals['signal'][short_window:] = np.where(signals['short_ma'][short_window:] \n",
        "                                            > signals['long_ma'][short_window:], 1.0, 0.0)   \n",
        "signals['positions'] = signals['signal'].diff()\n",
        "\n",
        "signals"
      ],
      "execution_count": 18,
      "outputs": [
        {
          "output_type": "execute_result",
          "data": {
            "text/html": [
              "<div>\n",
              "<style scoped>\n",
              "    .dataframe tbody tr th:only-of-type {\n",
              "        vertical-align: middle;\n",
              "    }\n",
              "\n",
              "    .dataframe tbody tr th {\n",
              "        vertical-align: top;\n",
              "    }\n",
              "\n",
              "    .dataframe thead th {\n",
              "        text-align: right;\n",
              "    }\n",
              "</style>\n",
              "<table border=\"1\" class=\"dataframe\">\n",
              "  <thead>\n",
              "    <tr style=\"text-align: right;\">\n",
              "      <th></th>\n",
              "      <th>signal</th>\n",
              "      <th>short_ma</th>\n",
              "      <th>long_ma</th>\n",
              "      <th>positions</th>\n",
              "    </tr>\n",
              "  </thead>\n",
              "  <tbody>\n",
              "    <tr>\n",
              "      <th>0</th>\n",
              "      <td>0.0</td>\n",
              "      <td>9.380000</td>\n",
              "      <td>9.3800</td>\n",
              "      <td>NaN</td>\n",
              "    </tr>\n",
              "    <tr>\n",
              "      <th>1</th>\n",
              "      <td>0.0</td>\n",
              "      <td>9.390000</td>\n",
              "      <td>9.3900</td>\n",
              "      <td>0.0</td>\n",
              "    </tr>\n",
              "    <tr>\n",
              "      <th>2</th>\n",
              "      <td>0.0</td>\n",
              "      <td>9.330000</td>\n",
              "      <td>9.3300</td>\n",
              "      <td>0.0</td>\n",
              "    </tr>\n",
              "    <tr>\n",
              "      <th>3</th>\n",
              "      <td>0.0</td>\n",
              "      <td>9.330000</td>\n",
              "      <td>9.3300</td>\n",
              "      <td>0.0</td>\n",
              "    </tr>\n",
              "    <tr>\n",
              "      <th>4</th>\n",
              "      <td>0.0</td>\n",
              "      <td>9.334000</td>\n",
              "      <td>9.3340</td>\n",
              "      <td>0.0</td>\n",
              "    </tr>\n",
              "    <tr>\n",
              "      <th>...</th>\n",
              "      <td>...</td>\n",
              "      <td>...</td>\n",
              "      <td>...</td>\n",
              "      <td>...</td>\n",
              "    </tr>\n",
              "    <tr>\n",
              "      <th>511</th>\n",
              "      <td>1.0</td>\n",
              "      <td>20.947500</td>\n",
              "      <td>20.9028</td>\n",
              "      <td>0.0</td>\n",
              "    </tr>\n",
              "    <tr>\n",
              "      <th>512</th>\n",
              "      <td>0.0</td>\n",
              "      <td>20.916667</td>\n",
              "      <td>20.9228</td>\n",
              "      <td>-1.0</td>\n",
              "    </tr>\n",
              "    <tr>\n",
              "      <th>513</th>\n",
              "      <td>0.0</td>\n",
              "      <td>20.880833</td>\n",
              "      <td>20.9548</td>\n",
              "      <td>0.0</td>\n",
              "    </tr>\n",
              "    <tr>\n",
              "      <th>514</th>\n",
              "      <td>0.0</td>\n",
              "      <td>20.835000</td>\n",
              "      <td>20.9820</td>\n",
              "      <td>0.0</td>\n",
              "    </tr>\n",
              "    <tr>\n",
              "      <th>515</th>\n",
              "      <td>0.0</td>\n",
              "      <td>20.788333</td>\n",
              "      <td>20.9788</td>\n",
              "      <td>0.0</td>\n",
              "    </tr>\n",
              "  </tbody>\n",
              "</table>\n",
              "<p>516 rows × 4 columns</p>\n",
              "</div>"
            ],
            "text/plain": [
              "     signal   short_ma  long_ma  positions\n",
              "0       0.0   9.380000   9.3800        NaN\n",
              "1       0.0   9.390000   9.3900        0.0\n",
              "2       0.0   9.330000   9.3300        0.0\n",
              "3       0.0   9.330000   9.3300        0.0\n",
              "4       0.0   9.334000   9.3340        0.0\n",
              "..      ...        ...      ...        ...\n",
              "511     1.0  20.947500  20.9028        0.0\n",
              "512     0.0  20.916667  20.9228       -1.0\n",
              "513     0.0  20.880833  20.9548        0.0\n",
              "514     0.0  20.835000  20.9820        0.0\n",
              "515     0.0  20.788333  20.9788        0.0\n",
              "\n",
              "[516 rows x 4 columns]"
            ]
          },
          "metadata": {
            "tags": []
          },
          "execution_count": 18
        }
      ]
    },
    {
      "cell_type": "code",
      "metadata": {
        "id": "dUMCX8ezMNOq",
        "colab_type": "code",
        "colab": {}
      },
      "source": [
        "def buy_stock(\n",
        "    real_movement,\n",
        "    signal,\n",
        "    initial_money = 10000,\n",
        "    max_buy = 10,\n",
        "    max_sell = 10,\n",
        "):\n",
        "    \"\"\"\n",
        "    real_movement = actual movement in the real world\n",
        "    delay = how much interval you want to delay to change our decision from buy to sell, vice versa\n",
        "    initial_state = 1 is buy, 0 is sell\n",
        "    initial_money = 1000, ignore what kind of currency\n",
        "    max_buy = max quantity for share to buy\n",
        "    max_sell = max quantity for share to sell\n",
        "    \"\"\"\n",
        "    starting_money = initial_money\n",
        "    states_sell = []\n",
        "    states_buy = []\n",
        "    current_inventory = 0\n",
        "\n",
        "    def buy(i, initial_money, current_inventory):\n",
        "        shares = initial_money // real_movement[i]\n",
        "        if shares < 1:\n",
        "            print(\n",
        "                'day %d: total balances %f, not enough money to buy a unit price %f'\n",
        "                % (i, initial_money, real_movement[i])\n",
        "            )\n",
        "        else:\n",
        "            if shares > max_buy:\n",
        "                buy_units = max_buy\n",
        "            else:\n",
        "                buy_units = shares\n",
        "            initial_money -= buy_units * real_movement[i]\n",
        "            current_inventory += buy_units\n",
        "            print(\n",
        "                'day %d: buy %d units at price %f, total balance %f'\n",
        "                % (i, buy_units, buy_units * real_movement[i], initial_money)\n",
        "            )\n",
        "            states_buy.append(0)\n",
        "        return initial_money, current_inventory\n",
        "\n",
        "    for i in range(real_movement.shape[0] - int(0.025 * len(df))):\n",
        "        state = signal[i]\n",
        "        if state == 1:\n",
        "            initial_money, current_inventory = buy(\n",
        "                i, initial_money, current_inventory\n",
        "            )\n",
        "            states_buy.append(i)\n",
        "        elif state == -1:\n",
        "            if current_inventory == 0:\n",
        "                    print('day %d: cannot sell anything, inventory 0' % (i))\n",
        "            else:\n",
        "                if current_inventory > max_sell:\n",
        "                    sell_units = max_sell\n",
        "                else:\n",
        "                    sell_units = current_inventory\n",
        "                current_inventory -= sell_units\n",
        "                total_sell = sell_units * real_movement[i]\n",
        "                initial_money += total_sell\n",
        "                try:\n",
        "                    invest = (\n",
        "                        (real_movement[i] - real_movement[states_buy[-1]])\n",
        "                        / real_movement[states_buy[-1]]\n",
        "                    ) * 100\n",
        "                except:\n",
        "                    invest = 0\n",
        "                print(\n",
        "                    'day %d, sell %d units at price %f, investment %f %%, total balance %f,'\n",
        "                    % (i, sell_units, total_sell, invest, initial_money)\n",
        "                )\n",
        "            states_sell.append(i)\n",
        "    invest = ((initial_money - starting_money) / starting_money) * 100\n",
        "    total_gains = initial_money - starting_money\n",
        "    return states_buy, states_sell, total_gains, invest"
      ],
      "execution_count": 19,
      "outputs": []
    },
    {
      "cell_type": "code",
      "metadata": {
        "id": "FZuDjpLnMOxi",
        "colab_type": "code",
        "colab": {
          "base_uri": "https://localhost:8080/",
          "height": 510
        },
        "outputId": "aea90a55-0ab9-402a-eace-18d282cfac92"
      },
      "source": [
        "states_buy, states_sell, total_gains, invest = buy_stock(df.Close, signals['positions'])"
      ],
      "execution_count": 20,
      "outputs": [
        {
          "output_type": "stream",
          "text": [
            "day 15: buy 10 units at price 96.200000, total balance 9903.800000\n",
            "day 27, sell 10 units at price 93.900000, investment -2.390852 %, total balance 9997.700000,\n",
            "day 37: buy 10 units at price 93.100000, total balance 9904.600000\n",
            "day 44, sell 10 units at price 87.800000, investment -5.692803 %, total balance 9992.400000,\n",
            "day 56: buy 10 units at price 97.100000, total balance 9895.300000\n",
            "day 111, sell 10 units at price 131.200000, investment 35.118435 %, total balance 10026.500000,\n",
            "day 142: buy 10 units at price 133.600000, total balance 9892.900000\n",
            "day 175, sell 10 units at price 140.700000, investment 5.314371 %, total balance 10033.600000,\n",
            "day 186: buy 10 units at price 157.700000, total balance 9875.900000\n",
            "day 207, sell 10 units at price 142.000000, investment -9.955612 %, total balance 10017.900000,\n",
            "day 222: buy 10 units at price 147.000000, total balance 9870.900000\n",
            "day 237, sell 10 units at price 143.400000, investment -2.448980 %, total balance 10014.300000,\n",
            "day 244: buy 10 units at price 147.600000, total balance 9866.700000\n",
            "day 247, sell 10 units at price 142.800000, investment -3.252033 %, total balance 10009.500000,\n",
            "day 248: buy 10 units at price 139.100000, total balance 9870.400000\n",
            "day 249, sell 10 units at price 131.900000, investment -5.176132 %, total balance 10002.300000,\n",
            "day 284: buy 10 units at price 132.300000, total balance 9870.000000\n",
            "day 337, sell 10 units at price 174.300000, investment 31.746032 %, total balance 10044.300000,\n",
            "day 352: buy 10 units at price 218.700000, total balance 9825.600000\n",
            "day 375, sell 10 units at price 236.200000, investment 8.001829 %, total balance 10061.800000,\n",
            "day 384: buy 10 units at price 254.800000, total balance 9807.000000\n",
            "day 405, sell 10 units at price 249.200000, investment -2.197802 %, total balance 10056.200000,\n",
            "day 418: buy 10 units at price 270.000000, total balance 9786.200000\n",
            "day 434, sell 10 units at price 248.100000, investment -8.111111 %, total balance 10034.300000,\n",
            "day 464: buy 10 units at price 206.900000, total balance 9827.400000\n",
            "day 469, sell 10 units at price 206.400000, investment -0.241663 %, total balance 10033.800000,\n",
            "day 482: buy 10 units at price 207.200000, total balance 9826.600000\n",
            "day 486, sell 10 units at price 203.400000, investment -1.833977 %, total balance 10030.000000,\n",
            "day 497: buy 10 units at price 215.400000, total balance 9814.600000\n"
          ],
          "name": "stdout"
        }
      ]
    },
    {
      "cell_type": "code",
      "metadata": {
        "id": "YfBQB0DVMQw0",
        "colab_type": "code",
        "colab": {
          "base_uri": "https://localhost:8080/",
          "height": 338
        },
        "outputId": "eb03672c-c45a-485d-ad51-89030bf8b1be"
      },
      "source": [
        "close = df['Close']\n",
        "fig = plt.figure(figsize = (15,5))\n",
        "plt.plot(close, color='r', lw=2.)\n",
        "plt.plot(close, '^', markersize=10, color='m', label = 'buying signal', markevery = states_buy)\n",
        "plt.plot(close, 'v', markersize=10, color='k', label = 'selling signal', markevery = states_sell)\n",
        "plt.title('total gains %f, total investment %f%%'%(total_gains, invest))\n",
        "plt.legend()\n",
        "plt.show()"
      ],
      "execution_count": 21,
      "outputs": [
        {
          "output_type": "display_data",
          "data": {
            "image/png": "[encoded data removed]",
            "text/plain": [
              "<Figure size 1080x360 with 1 Axes>"
            ]
          },
          "metadata": {
            "tags": []
          }
        }
      ]
    }
  ]
}