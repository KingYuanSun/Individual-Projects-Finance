{
  "nbformat": 4,
  "nbformat_minor": 0,
  "metadata": {
    "kernelspec": {
      "name": "python3",
      "display_name": "Python 3"
    },
    "language_info": {
      "codemirror_mode": {
        "name": "ipython",
        "version": 3
      },
      "file_extension": ".py",
      "mimetype": "text/x-python",
      "name": "python",
      "nbconvert_exporter": "python",
      "pygments_lexer": "ipython3",
      "version": "3.6.1"
    },
    "colab": {
      "name": "Copy of COLAB - stock-prediction.ipynb",
      "provenance": [],
      "toc_visible": true,
      "include_colab_link": true
    },
    "accelerator": "GPU"
  },
  "cells": [
    {
      "cell_type": "markdown",
      "metadata": {
        "id": "view-in-github",
        "colab_type": "text"
      },
      "source": [
        "<a href=\"https://colab.research.google.com/github/KingYuanSun/Individual-Projects-Finance/blob/master/StockPrediction_basicRNN.ipynb\" target=\"_parent\"><img src=\"https://colab.research.google.com/assets/colab-badge.svg\" alt=\"Open In Colab\"/></a>"
      ]
    },
    {
      "cell_type": "markdown",
      "metadata": {
        "id": "_C1o_GkUBYfJ",
        "colab_type": "text"
      },
      "source": [
        "Adapted by Carlos Toxtli http://www.carlostoxtli.com/#colab-stock-1\n",
        "\n",
        "Credits: https://github.com/Kulbear/stock-prediction"
      ]
    },
    {
      "cell_type": "code",
      "metadata": {
        "id": "Ps7rLFaH5TRI",
        "colab_type": "code",
        "colab": {
          "base_uri": "https://localhost:8080/",
          "height": 122
        },
        "outputId": "8fd3ef9b-5fb3-48b4-90c6-4942111ba881"
      },
      "source": [
        "!git clone https://github.com/Kulbear/stock-prediction\n",
        "%cd stock-prediction"
      ],
      "execution_count": 85,
      "outputs": [
        {
          "output_type": "stream",
          "text": [
            "Cloning into 'stock-prediction'...\n",
            "remote: Enumerating objects: 34, done.\u001b[K\n",
            "remote: Total 34 (delta 0), reused 0 (delta 0), pack-reused 34\u001b[K\n",
            "Unpacking objects: 100% (34/34), done.\n",
            "/content/stock-prediction/stock-prediction/stock-prediction/stock-prediction/stock-prediction/stock-prediction/stock-prediction\n"
          ],
          "name": "stdout"
        }
      ]
    },
    {
      "cell_type": "markdown",
      "metadata": {
        "id": "fuIY308aBUdK",
        "colab_type": "text"
      },
      "source": [
        "# Stock Prediction with Recurrent Neural Network\n",
        "\n",
        "Deep learning is involved a lot in the modern quantitive financial field. There are many different neural networks can be applied to stock price prediction problems. The recurrent neural network, to be specific, the Long Short Term Memory(LSTM) network outperforms others architecture since it can take advantage of predicting time series (or sequentially) involved result with a specific configuration.\n",
        "\n",
        "We will make a really simple LSTM with Keras to predict the stock price in the Chinese stock."
      ]
    },
    {
      "cell_type": "code",
      "metadata": {
        "id": "OpV1YvtYBUdL",
        "colab_type": "code",
        "colab": {}
      },
      "source": [
        "import time\n",
        "import math\n",
        "from keras.models import Sequential\n",
        "from keras.layers.core import Dense, Dropout, Activation\n",
        "from keras.layers.recurrent import LSTM\n",
        "import numpy as np\n",
        "import pandas as pd\n",
        "import sklearn.preprocessing as prep"
      ],
      "execution_count": 86,
      "outputs": []
    },
    {
      "cell_type": "markdown",
      "metadata": {
        "id": "nR4Dzh4fBUdP",
        "colab_type": "text"
      },
      "source": [
        "## Import Data\n",
        "\n",
        "I have introduced how we get this dataset both in README.md and in another notebook."
      ]
    },
    {
      "cell_type": "code",
      "metadata": {
        "id": "VZHc3wx6BUdQ",
        "colab_type": "code",
        "colab": {
          "base_uri": "https://localhost:8080/",
          "height": 204
        },
        "outputId": "6eba5366-7ccd-4865-a2b7-54ef18745081"
      },
      "source": [
        "df = pd.read_csv('000002-from-1995-01-01.csv')\n",
        "df.head()"
      ],
      "execution_count": 87,
      "outputs": [
        {
          "output_type": "execute_result",
          "data": {
            "text/html": [
              "<div>\n",
              "<style scoped>\n",
              "    .dataframe tbody tr th:only-of-type {\n",
              "        vertical-align: middle;\n",
              "    }\n",
              "\n",
              "    .dataframe tbody tr th {\n",
              "        vertical-align: top;\n",
              "    }\n",
              "\n",
              "    .dataframe thead th {\n",
              "        text-align: right;\n",
              "    }\n",
              "</style>\n",
              "<table border=\"1\" class=\"dataframe\">\n",
              "  <thead>\n",
              "    <tr style=\"text-align: right;\">\n",
              "      <th></th>\n",
              "      <th>open</th>\n",
              "      <th>high</th>\n",
              "      <th>low</th>\n",
              "      <th>volume</th>\n",
              "      <th>amount</th>\n",
              "      <th>close</th>\n",
              "    </tr>\n",
              "  </thead>\n",
              "  <tbody>\n",
              "    <tr>\n",
              "      <th>0</th>\n",
              "      <td>20.64</td>\n",
              "      <td>20.64</td>\n",
              "      <td>20.37</td>\n",
              "      <td>16362363.0</td>\n",
              "      <td>3.350027e+08</td>\n",
              "      <td>20.56</td>\n",
              "    </tr>\n",
              "    <tr>\n",
              "      <th>1</th>\n",
              "      <td>20.92</td>\n",
              "      <td>20.92</td>\n",
              "      <td>20.60</td>\n",
              "      <td>21850597.0</td>\n",
              "      <td>4.520071e+08</td>\n",
              "      <td>20.64</td>\n",
              "    </tr>\n",
              "    <tr>\n",
              "      <th>2</th>\n",
              "      <td>21.00</td>\n",
              "      <td>21.15</td>\n",
              "      <td>20.72</td>\n",
              "      <td>26910139.0</td>\n",
              "      <td>5.628396e+08</td>\n",
              "      <td>20.94</td>\n",
              "    </tr>\n",
              "    <tr>\n",
              "      <th>3</th>\n",
              "      <td>20.70</td>\n",
              "      <td>21.57</td>\n",
              "      <td>20.70</td>\n",
              "      <td>64585536.0</td>\n",
              "      <td>1.363421e+09</td>\n",
              "      <td>21.02</td>\n",
              "    </tr>\n",
              "    <tr>\n",
              "      <th>4</th>\n",
              "      <td>20.60</td>\n",
              "      <td>20.70</td>\n",
              "      <td>20.20</td>\n",
              "      <td>45886018.0</td>\n",
              "      <td>9.382043e+08</td>\n",
              "      <td>20.70</td>\n",
              "    </tr>\n",
              "  </tbody>\n",
              "</table>\n",
              "</div>"
            ],
            "text/plain": [
              "    open   high    low      volume        amount  close\n",
              "0  20.64  20.64  20.37  16362363.0  3.350027e+08  20.56\n",
              "1  20.92  20.92  20.60  21850597.0  4.520071e+08  20.64\n",
              "2  21.00  21.15  20.72  26910139.0  5.628396e+08  20.94\n",
              "3  20.70  21.57  20.70  64585536.0  1.363421e+09  21.02\n",
              "4  20.60  20.70  20.20  45886018.0  9.382043e+08  20.70"
            ]
          },
          "metadata": {
            "tags": []
          },
          "execution_count": 87
        }
      ]
    },
    {
      "cell_type": "markdown",
      "metadata": {
        "id": "rzVasIq0BUdU",
        "colab_type": "text"
      },
      "source": [
        "## Preprocess Data\n",
        "\n",
        "We can see from the table above that the scales of our features vary a lot. It will be beneficial to normalize your training data before you feed data into your model. \"Having different features with widely different scales fed to your model will cause the network to weight the features not equally. This can cause a falsely prioritisation of some features over the others in the representation.\" Read [here](http://stackoverflow.com/a/43526354/6670143) for more detailed explanation."
      ]
    },
    {
      "cell_type": "code",
      "metadata": {
        "id": "XaxyI3UaBUdb",
        "colab_type": "code",
        "colab": {}
      },
      "source": [
        "def standard_scaler(X_train, X_test):\n",
        "    train_samples, train_nx, train_ny = X_train.shape\n",
        "    test_samples, test_nx, test_ny = X_test.shape\n",
        "    \n",
        "    X_train = X_train.reshape((train_samples, train_nx * train_ny))\n",
        "    X_test = X_test.reshape((test_samples, test_nx * test_ny))\n",
        "    \n",
        "    preprocessor = prep.StandardScaler().fit(X_train)\n",
        "    X_train = preprocessor.transform(X_train)\n",
        "    X_test = preprocessor.transform(X_test)\n",
        "    \n",
        "    X_train = X_train.reshape((train_samples, train_nx, train_ny))\n",
        "    X_test = X_test.reshape((test_samples, test_nx, test_ny))\n",
        "    \n",
        "    return X_train, X_test"
      ],
      "execution_count": 88,
      "outputs": []
    },
    {
      "cell_type": "markdown",
      "metadata": {
        "id": "J49KcuxkBUdg",
        "colab_type": "text"
      },
      "source": [
        "Split the data to X_train, y_train, X_test, y_test"
      ]
    },
    {
      "cell_type": "code",
      "metadata": {
        "id": "WLM8-3-aBUdg",
        "colab_type": "code",
        "colab": {}
      },
      "source": [
        "def preprocess_data(stock, seq_len):\n",
        "    amount_of_features = len(stock.columns)\n",
        "    data = stock.values\n",
        "    \n",
        "    sequence_length = seq_len + 1\n",
        "    result = []\n",
        "    ## Probably here add another column as the label.\n",
        "    for index in range(len(data) - sequence_length):\n",
        "        result.append(data[index : index + sequence_length])\n",
        "        \n",
        "    result = np.array(result)\n",
        "    row = round(0.9 * result.shape[0])\n",
        "    train = result[: int(row), :]\n",
        "\n",
        "    # print (result)\n",
        "    # print (row)\n",
        "    print (train[:, : -1])\n",
        "    print (train[:, -1][: ,-1]) \n",
        "\n",
        "    print (result[int(row) :, -1][ : ,-1]) \n",
        "\n",
        "    train, result = standard_scaler(train, result)\n",
        "    \n",
        "    X_train = train[:, : -1]\n",
        "    y_train = train[:, -1][: ,-1]\n",
        "    X_test = result[int(row) :, : -1]\n",
        "    y_test = result[int(row) :, -1][ : ,-1]\n",
        "\n",
        "    X_train = np.reshape(X_train, (X_train.shape[0], X_train.shape[1], amount_of_features))\n",
        "    X_test = np.reshape(X_test, (X_test.shape[0], X_test.shape[1], amount_of_features)) \n",
        "\n",
        " \n",
        "\n",
        "    return [X_train, y_train, X_test, y_test]"
      ],
      "execution_count": 89,
      "outputs": []
    },
    {
      "cell_type": "markdown",
      "metadata": {
        "id": "-Ig_EdoKBUdj",
        "colab_type": "text"
      },
      "source": [
        "## Build the LSTM Network\n",
        "\n",
        "Here we will build a simple RNN with 2 LSTM layers.\n",
        "The architecture is:\n",
        "    \n",
        "    LSTM --> Dropout --> LSTM --> Dropout --> Fully-Conneted(Dense)"
      ]
    },
    {
      "cell_type": "code",
      "metadata": {
        "id": "r3iZMtQ1BUdk",
        "colab_type": "code",
        "colab": {}
      },
      "source": [
        "def build_model(layers):\n",
        "\n",
        "    model = Sequential()\n",
        "    model.add(LSTM(512, input_shape=(X_train.shape[1], X_train.shape[2]), return_sequences=True))\n",
        "    model.add(Dropout(0.4))\n",
        "    model.add(LSTM(256, return_sequences=True))\n",
        "    model.add(Dropout(0.3))\n",
        "    model.add(LSTM(128, return_sequences=True))\n",
        "    model.add(Dropout(0.2))\n",
        "    model.add(LSTM(64, return_sequences=True))\n",
        "    model.add(Dropout(0.2))\n",
        "    model.add(LSTM(32))\n",
        "    model.add(Dense(1, activation='linear'))\n",
        "\n",
        "    start = time.time()\n",
        "    model.compile(loss='mean_squared_error', optimizer='adam', metrics=['accuracy'])\n",
        "    model.summary() \n",
        "    print(\"Compilation Time : \", time.time() - start)\n",
        "    return model"
      ],
      "execution_count": 90,
      "outputs": []
    },
    {
      "cell_type": "code",
      "metadata": {
        "id": "LBMidPNzBUdm",
        "colab_type": "code",
        "colab": {
          "base_uri": "https://localhost:8080/",
          "height": 1000
        },
        "outputId": "d28aa3a7-e0c5-4af1-9294-034ca46f4f42"
      },
      "source": [
        "window = 20\n",
        "X_train, y_train, X_test, y_test = preprocess_data(df[:: -1], window)\n",
        "print(\"X_train\", X_train.shape)\n",
        "print(\"y_train\", y_train.shape)\n",
        "print(\"X_test\", X_test.shape)\n",
        "print(\"y_test\", y_test.shape)\n",
        "# print (X_train)\n",
        "# print (y_train)\n",
        "# print (X_test)\n",
        "# print (y_test)"
      ],
      "execution_count": 91,
      "outputs": [
        {
          "output_type": "stream",
          "text": [
            "[[[6.03000000e+00 6.19000000e+00 5.85000000e+00 3.78800000e+05\n",
            "   2.28317000e+06 6.17000000e+00]\n",
            "  [6.20000000e+00 6.31000000e+00 6.06000000e+00 5.44600000e+05\n",
            "   3.38570500e+06 6.26000000e+00]\n",
            "  [6.26000000e+00 6.35000000e+00 6.12000000e+00 5.60400000e+05\n",
            "   3.49940500e+06 6.15000000e+00]\n",
            "  ...\n",
            "  [5.59000000e+00 5.59000000e+00 5.52000000e+00 2.00800000e+05\n",
            "   1.11733400e+06 5.55000000e+00]\n",
            "  [5.55000000e+00 5.62000000e+00 5.50000000e+00 1.50900000e+05\n",
            "   8.41633000e+05 5.57000000e+00]\n",
            "  [5.50000000e+00 5.60000000e+00 5.45000000e+00 1.57300000e+05\n",
            "   8.70136000e+05 5.55000000e+00]]\n",
            "\n",
            " [[6.20000000e+00 6.31000000e+00 6.06000000e+00 5.44600000e+05\n",
            "   3.38570500e+06 6.26000000e+00]\n",
            "  [6.26000000e+00 6.35000000e+00 6.12000000e+00 5.60400000e+05\n",
            "   3.49940500e+06 6.15000000e+00]\n",
            "  [6.08000000e+00 6.18000000e+00 6.02000000e+00 4.62600000e+05\n",
            "   2.82735100e+06 6.18000000e+00]\n",
            "  ...\n",
            "  [5.55000000e+00 5.62000000e+00 5.50000000e+00 1.50900000e+05\n",
            "   8.41633000e+05 5.57000000e+00]\n",
            "  [5.50000000e+00 5.60000000e+00 5.45000000e+00 1.57300000e+05\n",
            "   8.70136000e+05 5.55000000e+00]\n",
            "  [5.60000000e+00 5.61000000e+00 5.52000000e+00 8.88000000e+04\n",
            "   4.94768000e+05 5.56000000e+00]]\n",
            "\n",
            " [[6.26000000e+00 6.35000000e+00 6.12000000e+00 5.60400000e+05\n",
            "   3.49940500e+06 6.15000000e+00]\n",
            "  [6.08000000e+00 6.18000000e+00 6.02000000e+00 4.62600000e+05\n",
            "   2.82735100e+06 6.18000000e+00]\n",
            "  [6.15000000e+00 6.15000000e+00 6.00000000e+00 2.79500000e+05\n",
            "   1.68829000e+06 6.02000000e+00]\n",
            "  ...\n",
            "  [5.50000000e+00 5.60000000e+00 5.45000000e+00 1.57300000e+05\n",
            "   8.70136000e+05 5.55000000e+00]\n",
            "  [5.60000000e+00 5.61000000e+00 5.52000000e+00 8.88000000e+04\n",
            "   4.94768000e+05 5.56000000e+00]\n",
            "  [5.62000000e+00 5.62000000e+00 5.52000000e+00 4.28000000e+04\n",
            "   2.37492000e+05 5.55000000e+00]]\n",
            "\n",
            " ...\n",
            "\n",
            " [[8.85000000e+00 8.93000000e+00 8.67000000e+00 7.31638640e+07\n",
            "   6.43863936e+08 8.70000000e+00]\n",
            "  [8.69000000e+00 8.75000000e+00 8.47000000e+00 7.05071760e+07\n",
            "   6.06426560e+08 8.61000000e+00]\n",
            "  [8.53000000e+00 9.02000000e+00 8.51000000e+00 1.02544984e+08\n",
            "   9.11236800e+08 8.89000000e+00]\n",
            "  ...\n",
            "  [9.52000000e+00 9.54000000e+00 9.30000000e+00 8.77855200e+07\n",
            "   8.25820032e+08 9.44000000e+00]\n",
            "  [9.44000000e+00 9.68000000e+00 9.44000000e+00 7.01998160e+07\n",
            "   6.74648768e+08 9.61000000e+00]\n",
            "  [9.61000000e+00 9.61000000e+00 9.50000000e+00 5.17427680e+07\n",
            "   4.93666048e+08 9.56000000e+00]]\n",
            "\n",
            " [[8.69000000e+00 8.75000000e+00 8.47000000e+00 7.05071760e+07\n",
            "   6.06426560e+08 8.61000000e+00]\n",
            "  [8.53000000e+00 9.02000000e+00 8.51000000e+00 1.02544984e+08\n",
            "   9.11236800e+08 8.89000000e+00]\n",
            "  [8.90000000e+00 8.99000000e+00 8.88000000e+00 5.15900960e+07\n",
            "   4.60833376e+08 8.94000000e+00]\n",
            "  ...\n",
            "  [9.44000000e+00 9.68000000e+00 9.44000000e+00 7.01998160e+07\n",
            "   6.74648768e+08 9.61000000e+00]\n",
            "  [9.61000000e+00 9.61000000e+00 9.50000000e+00 5.17427680e+07\n",
            "   4.93666048e+08 9.56000000e+00]\n",
            "  [9.61000000e+00 9.63000000e+00 9.40000000e+00 5.31308320e+07\n",
            "   5.06251136e+08 9.55000000e+00]]\n",
            "\n",
            " [[8.53000000e+00 9.02000000e+00 8.51000000e+00 1.02544984e+08\n",
            "   9.11236800e+08 8.89000000e+00]\n",
            "  [8.90000000e+00 8.99000000e+00 8.88000000e+00 5.15900960e+07\n",
            "   4.60833376e+08 8.94000000e+00]\n",
            "  [8.90000000e+00 9.21000000e+00 8.88000000e+00 8.75266560e+07\n",
            "   7.98481792e+08 9.18000000e+00]\n",
            "  ...\n",
            "  [9.61000000e+00 9.61000000e+00 9.50000000e+00 5.17427680e+07\n",
            "   4.93666048e+08 9.56000000e+00]\n",
            "  [9.61000000e+00 9.63000000e+00 9.40000000e+00 5.31308320e+07\n",
            "   5.06251136e+08 9.55000000e+00]\n",
            "  [9.54000000e+00 9.57000000e+00 9.35000000e+00 6.26639720e+07\n",
            "   5.91453888e+08 9.36000000e+00]]]\n",
            "[5.56 5.55 5.52 ... 9.55 9.36 9.4 ]\n",
            "[ 9.38  9.4   9.21  9.33  9.35  9.16  9.16  9.16  9.02  9.12  9.17  9.25\n",
            "  9.5   9.67  9.83  9.62  9.46  9.44  9.44  9.25  9.21  9.27  9.23  9.28\n",
            "  9.22  9.33  9.44  9.39  9.33  9.22  9.18  9.44  9.47  9.57  9.64  9.51\n",
            "  9.41  9.31  9.35  9.35  9.22  9.2   9.1   9.09  8.78  9.02  9.22  9.18\n",
            "  9.4   9.3   9.39  9.29  9.33  9.4   9.58  9.6   9.71  9.51  9.67  9.47\n",
            "  9.29  9.19  9.24  9.37 10.15 10.08 10.1  10.27 10.9  10.64 10.93 11.2\n",
            " 11.69 11.46 12.3  11.42 11.95 12.03 11.69 11.3  11.53 11.93 11.62 11.48\n",
            " 11.72 11.75 11.03 11.22 11.78 12.43 12.64 13.9  14.91 14.36 14.23 13.59\n",
            " 13.45 13.12 13.07 13.1  13.77 13.52 12.17 12.35 13.05 13.58 13.92 13.7\n",
            " 13.18 13.   13.01 13.12 12.88 12.96 12.8  12.7  12.16 12.18 12.42 12.41\n",
            " 12.47 12.76 12.64 12.77 12.4  12.85 12.75 12.77 12.2  12.22 11.9  11.94\n",
            " 12.22 12.02 11.93 12.22 12.23 12.49 12.63 13.14 12.87 13.14 13.36 13.05\n",
            " 12.78 12.95 13.35 14.24 13.82 13.72 13.59 13.45 13.72 13.82 14.64 14.32\n",
            " 14.37 14.12 13.9  14.3  14.67 14.21 14.48 14.88 14.76 14.42 14.7  14.19\n",
            " 14.24 14.6  14.55 13.77 13.56 13.61 13.8  14.07 13.92 14.7  14.59 14.16\n",
            " 13.84 14.16 14.05 14.15 14.49 15.02 15.77 15.4  14.35 14.35 14.88 14.8\n",
            " 15.05 14.99 15.57 16.08 15.66 15.52 15.32 15.48 14.95 14.38 14.58 14.18\n",
            " 13.55 14.27 14.38 14.2  13.43 13.69 14.52 14.25 14.21 13.7  14.88 14.54\n",
            " 13.26 14.55 14.97 15.1  14.55 14.71 14.7  15.07 15.35 14.51 14.7  15.16\n",
            " 15.41 14.2  14.62 14.6  14.08 14.18 14.61 14.79 14.45 14.34 14.6  15.07\n",
            " 15.57 14.93 14.88 14.95 14.76 14.22 14.5  14.28 13.91 13.19 13.   13.25\n",
            " 13.18 13.58 13.8  14.23 14.22 13.6  13.68 13.76 13.54 13.47 13.19 13.02\n",
            " 13.43 13.1  13.12 13.18 13.26 13.15 13.09 12.9  12.85 12.6  12.73 13.07\n",
            " 13.23 13.48 13.47 13.28 13.52 13.65 13.53 13.55 13.23 13.35 13.74 13.67\n",
            " 13.69 13.66 13.62 13.67 13.56 13.66 14.08 14.12 14.21 14.4  14.27 14.17\n",
            " 14.09 13.9  14.   14.   14.67 14.5  14.49 14.37 14.5  14.56 14.5  14.26\n",
            " 15.07 16.58 18.24 19.15 18.98 18.02 17.77 19.55 19.54 19.9  20.08 21.08\n",
            " 20.19 22.21 24.43 21.99 19.79 19.8  18.82 18.75 18.27 18.12 18.32 17.96\n",
            " 17.89 17.43 17.11 17.08 17.02 17.39 17.7  17.78 17.42 17.92 17.14 17.17\n",
            " 17.61 17.88 19.67 20.95 21.87 21.97 21.2  20.71 22.78 25.06 27.57 25.85\n",
            " 25.58 24.59 24.7  24.7  23.99 23.54 22.89 22.91 22.66 24.93 23.44 23.77\n",
            " 23.44 23.32 23.27 23.62 23.17 23.5  23.58 23.58 23.63 23.62 24.62 27.\n",
            " 25.48 24.68 25.14 25.8  25.99 26.17 25.97 26.23 26.6  26.81 26.84 26.\n",
            " 26.   25.83 25.94 25.25 25.24 25.01 25.17 24.77 24.75 24.92 25.79 24.9\n",
            " 24.87 24.59 24.16 24.22 26.3  26.56 25.99 25.7  26.94 26.68 27.   27.72\n",
            " 27.4  27.3  27.22 26.93 27.2  26.38 26.16 26.98 26.97 26.45 25.5  25.38\n",
            " 25.14 24.74 24.81 23.26 23.06 22.29 22.33 22.46 21.1  20.33 20.48 20.61\n",
            " 20.3  20.65 21.42 21.2  20.84 20.55 20.73 20.85 20.93 20.64 20.66 20.58\n",
            " 20.4  21.81 21.   20.8  20.92 20.6  20.68 20.74 20.69 20.61 20.68 20.68\n",
            " 20.71 20.64 20.69 20.8  20.66 20.77 20.91 20.67 20.68 20.54 20.61 20.98\n",
            " 20.9  20.79 20.72 20.52 20.53 20.5  20.34 20.2  20.22 20.26 20.72 20.51\n",
            " 20.6  20.71 21.57 21.29 21.27 21.54 21.13 21.18 21.07 21.45 21.49 21.2\n",
            " 21.27 21.01 20.53 20.58 20.58 20.79 20.8  20.6  20.7  21.02 20.94 20.64]\n",
            "X_train (4648, 20, 6)\n",
            "y_train (4648,)\n",
            "X_test (516, 20, 6)\n",
            "y_test (516,)\n"
          ],
          "name": "stdout"
        }
      ]
    },
    {
      "cell_type": "code",
      "metadata": {
        "id": "FIIi_bzbBUdp",
        "colab_type": "code",
        "colab": {
          "base_uri": "https://localhost:8080/",
          "height": 510
        },
        "outputId": "0d5c9de3-b494-4d44-807d-fe8ee1756361"
      },
      "source": [
        "model = build_model([X_train.shape[2], window, 100, 1])"
      ],
      "execution_count": 92,
      "outputs": [
        {
          "output_type": "stream",
          "text": [
            "Model: \"sequential_5\"\n",
            "_________________________________________________________________\n",
            "Layer (type)                 Output Shape              Param #   \n",
            "=================================================================\n",
            "lstm_25 (LSTM)               (None, 20, 512)           1062912   \n",
            "_________________________________________________________________\n",
            "dropout_20 (Dropout)         (None, 20, 512)           0         \n",
            "_________________________________________________________________\n",
            "lstm_26 (LSTM)               (None, 20, 256)           787456    \n",
            "_________________________________________________________________\n",
            "dropout_21 (Dropout)         (None, 20, 256)           0         \n",
            "_________________________________________________________________\n",
            "lstm_27 (LSTM)               (None, 20, 128)           197120    \n",
            "_________________________________________________________________\n",
            "dropout_22 (Dropout)         (None, 20, 128)           0         \n",
            "_________________________________________________________________\n",
            "lstm_28 (LSTM)               (None, 20, 64)            49408     \n",
            "_________________________________________________________________\n",
            "dropout_23 (Dropout)         (None, 20, 64)            0         \n",
            "_________________________________________________________________\n",
            "lstm_29 (LSTM)               (None, 32)                12416     \n",
            "_________________________________________________________________\n",
            "dense_5 (Dense)              (None, 1)                 33        \n",
            "=================================================================\n",
            "Total params: 2,109,345\n",
            "Trainable params: 2,109,345\n",
            "Non-trainable params: 0\n",
            "_________________________________________________________________\n",
            "Compilation Time :  0.01259756088256836\n"
          ],
          "name": "stdout"
        }
      ]
    },
    {
      "cell_type": "markdown",
      "metadata": {
        "id": "CDvJll2VBUdr",
        "colab_type": "text"
      },
      "source": [
        "## Training the Network\n",
        "\n",
        "You can play with the hyperparameters here. The training process can take a significant time if you are using a average GPU or CPU(worse!)."
      ]
    },
    {
      "cell_type": "code",
      "metadata": {
        "id": "PfB-fgI_BUds",
        "colab_type": "code",
        "colab": {
          "base_uri": "https://localhost:8080/",
          "height": 34
        },
        "outputId": "f3b9012a-bfc4-404d-8a63-cbf6a21b9360"
      },
      "source": [
        "model.fit(\n",
        "    X_train,\n",
        "    y_train,\n",
        "    batch_size=768,\n",
        "    epochs=200,\n",
        "    validation_split=0.1,\n",
        "    verbose=0)"
      ],
      "execution_count": 93,
      "outputs": [
        {
          "output_type": "execute_result",
          "data": {
            "text/plain": [
              "<tensorflow.python.keras.callbacks.History at 0x7f63669626d8>"
            ]
          },
          "metadata": {
            "tags": []
          },
          "execution_count": 93
        }
      ]
    },
    {
      "cell_type": "code",
      "metadata": {
        "id": "1j73jgmmBUdv",
        "colab_type": "code",
        "colab": {
          "base_uri": "https://localhost:8080/",
          "height": 51
        },
        "outputId": "3e117ee2-7f05-4f50-bce7-034b2d01986c"
      },
      "source": [
        "trainScore = model.evaluate(X_train, y_train, verbose=0)\n",
        "print('Train Score: %.2f MSE (%.2f RMSE)' % (trainScore[0], math.sqrt(trainScore[0])))\n",
        "\n",
        "testScore = model.evaluate(X_test, y_test, verbose=0)\n",
        "print('Test Score: %.2f MSE (%.2f RMSE)' % (testScore[0], math.sqrt(testScore[0])))"
      ],
      "execution_count": 94,
      "outputs": [
        {
          "output_type": "stream",
          "text": [
            "Train Score: 0.01 MSE (0.08 RMSE)\n",
            "Test Score: 0.02 MSE (0.14 RMSE)\n"
          ],
          "name": "stdout"
        }
      ]
    },
    {
      "cell_type": "markdown",
      "metadata": {
        "id": "j-awbWzPBUdx",
        "colab_type": "text"
      },
      "source": [
        "## Visualize the Prediction"
      ]
    },
    {
      "cell_type": "code",
      "metadata": {
        "id": "dZfWoXLJBUdy",
        "colab_type": "code",
        "colab": {}
      },
      "source": [
        "diff = []\n",
        "ratio = []\n",
        "pred = model.predict(X_test)\n",
        "for u in range(len(y_test)):\n",
        "    pr = pred[u][0]\n",
        "    ratio.append((y_test[u] / pr) - 1)\n",
        "    diff.append(abs(y_test[u] - pr))"
      ],
      "execution_count": 95,
      "outputs": []
    },
    {
      "cell_type": "code",
      "metadata": {
        "id": "mZhqCOJrBUd0",
        "colab_type": "code",
        "colab": {}
      },
      "source": [
        "# TODO: Scale it back"
      ],
      "execution_count": 96,
      "outputs": []
    },
    {
      "cell_type": "code",
      "metadata": {
        "id": "5FPS2nypBUd3",
        "colab_type": "code",
        "colab": {
          "base_uri": "https://localhost:8080/",
          "height": 268
        },
        "outputId": "de0397db-711e-4fd5-9f59-60fe1ef3511a"
      },
      "source": [
        "# if using within a jupyter notebook\n",
        "%matplotlib inline \n",
        "\n",
        "import matplotlib\n",
        "import matplotlib.pyplot as plt2\n",
        "\n",
        "plt2.plot(pred, color='red', label='Prediction')\n",
        "plt2.plot(y_test, color='blue', label='Ground Truth')\n",
        "plt2.legend(loc='upper left')\n",
        "plt2.show()"
      ],
      "execution_count": 97,
      "outputs": [
        {
          "output_type": "display_data",
          "data": {
            "image/png": "[encoded data removed]",
            "text/plain": [
              "<Figure size 432x288 with 1 Axes>"
            ]
          },
          "metadata": {
            "tags": [],
            "needs_background": "light"
          }
        }
      ]
    }
  ]
}