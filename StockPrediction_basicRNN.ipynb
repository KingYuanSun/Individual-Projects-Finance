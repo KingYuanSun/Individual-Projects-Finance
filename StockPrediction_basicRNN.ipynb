{
  "nbformat": 4,
  "nbformat_minor": 0,
  "metadata": {
    "kernelspec": {
      "name": "python3",
      "display_name": "Python 3"
    },
    "language_info": {
      "codemirror_mode": {
        "name": "ipython",
        "version": 3
      },
      "file_extension": ".py",
      "mimetype": "text/x-python",
      "name": "python",
      "nbconvert_exporter": "python",
      "pygments_lexer": "ipython3",
      "version": "3.6.1"
    },
    "colab": {
      "name": "Copy of COLAB - stock-prediction.ipynb",
      "provenance": [],
      "toc_visible": true,
      "include_colab_link": true
    },
    "accelerator": "GPU"
  },
  "cells": [
    {
      "cell_type": "markdown",
      "metadata": {
        "id": "view-in-github",
        "colab_type": "text"
      },
      "source": [
        "<a href=\"https://colab.research.google.com/github/KingYuanSun/Individual-Projects-Finance/blob/master/StockPrediction_basicRNN.ipynb\" target=\"_parent\"><img src=\"https://colab.research.google.com/assets/colab-badge.svg\" alt=\"Open In Colab\"/></a>"
      ]
    },
    {
      "cell_type": "markdown",
      "metadata": {
        "id": "_C1o_GkUBYfJ",
        "colab_type": "text"
      },
      "source": [
        "Adapted by Carlos Toxtli http://www.carlostoxtli.com/#colab-stock-1\n",
        "\n",
        "Credits: https://github.com/Kulbear/stock-prediction"
      ]
    },
    {
      "cell_type": "code",
      "metadata": {
        "id": "Ps7rLFaH5TRI",
        "colab_type": "code",
        "colab": {
          "base_uri": "https://localhost:8080/",
          "height": 102
        },
        "outputId": "9cc33f81-eafa-4f75-eec1-de024876b1f9"
      },
      "source": [
        "!git clone https://github.com/Kulbear/stock-prediction\n",
        "%cd stock-prediction"
      ],
      "execution_count": 34,
      "outputs": [
        {
          "output_type": "stream",
          "text": [
            "Cloning into 'stock-prediction'...\n",
            "remote: Enumerating objects: 34, done.\u001b[K\n",
            "remote: Total 34 (delta 0), reused 0 (delta 0), pack-reused 34\u001b[K\n",
            "Unpacking objects: 100% (34/34), done.\n",
            "/content/stock-prediction/stock-prediction/stock-prediction\n"
          ],
          "name": "stdout"
        }
      ]
    },
    {
      "cell_type": "markdown",
      "metadata": {
        "id": "fuIY308aBUdK",
        "colab_type": "text"
      },
      "source": [
        "# Stock Prediction with Recurrent Neural Network\n",
        "\n",
        "Deep learning is involved a lot in the modern quantitive financial field. There are many different neural networks can be applied to stock price prediction problems. The recurrent neural network, to be specific, the Long Short Term Memory(LSTM) network outperforms others architecture since it can take advantage of predicting time series (or sequentially) involved result with a specific configuration.\n",
        "\n",
        "We will make a really simple LSTM with Keras to predict the stock price in the Chinese stock."
      ]
    },
    {
      "cell_type": "code",
      "metadata": {
        "id": "OpV1YvtYBUdL",
        "colab_type": "code",
        "colab": {}
      },
      "source": [
        "import time\n",
        "import math\n",
        "from keras.models import Sequential\n",
        "from keras.layers.core import Dense, Dropout, Activation\n",
        "from keras.layers.recurrent import LSTM\n",
        "import numpy as np\n",
        "import pandas as pd\n",
        "import sklearn.preprocessing as prep"
      ],
      "execution_count": 35,
      "outputs": []
    },
    {
      "cell_type": "markdown",
      "metadata": {
        "id": "nR4Dzh4fBUdP",
        "colab_type": "text"
      },
      "source": [
        "## Import Data\n",
        "\n",
        "I have introduced how we get this dataset both in README.md and in another notebook."
      ]
    },
    {
      "cell_type": "code",
      "metadata": {
        "id": "VZHc3wx6BUdQ",
        "colab_type": "code",
        "colab": {
          "base_uri": "https://localhost:8080/",
          "height": 204
        },
        "outputId": "4bcbacf0-af51-492d-9fcc-556e40150907"
      },
      "source": [
        "df = pd.read_csv('000002-from-1995-01-01.csv')\n",
        "df.head()"
      ],
      "execution_count": 36,
      "outputs": [
        {
          "output_type": "execute_result",
          "data": {
            "text/html": [
              "<div>\n",
              "<style scoped>\n",
              "    .dataframe tbody tr th:only-of-type {\n",
              "        vertical-align: middle;\n",
              "    }\n",
              "\n",
              "    .dataframe tbody tr th {\n",
              "        vertical-align: top;\n",
              "    }\n",
              "\n",
              "    .dataframe thead th {\n",
              "        text-align: right;\n",
              "    }\n",
              "</style>\n",
              "<table border=\"1\" class=\"dataframe\">\n",
              "  <thead>\n",
              "    <tr style=\"text-align: right;\">\n",
              "      <th></th>\n",
              "      <th>open</th>\n",
              "      <th>high</th>\n",
              "      <th>low</th>\n",
              "      <th>volume</th>\n",
              "      <th>amount</th>\n",
              "      <th>close</th>\n",
              "    </tr>\n",
              "  </thead>\n",
              "  <tbody>\n",
              "    <tr>\n",
              "      <th>0</th>\n",
              "      <td>20.64</td>\n",
              "      <td>20.64</td>\n",
              "      <td>20.37</td>\n",
              "      <td>16362363.0</td>\n",
              "      <td>3.350027e+08</td>\n",
              "      <td>20.56</td>\n",
              "    </tr>\n",
              "    <tr>\n",
              "      <th>1</th>\n",
              "      <td>20.92</td>\n",
              "      <td>20.92</td>\n",
              "      <td>20.60</td>\n",
              "      <td>21850597.0</td>\n",
              "      <td>4.520071e+08</td>\n",
              "      <td>20.64</td>\n",
              "    </tr>\n",
              "    <tr>\n",
              "      <th>2</th>\n",
              "      <td>21.00</td>\n",
              "      <td>21.15</td>\n",
              "      <td>20.72</td>\n",
              "      <td>26910139.0</td>\n",
              "      <td>5.628396e+08</td>\n",
              "      <td>20.94</td>\n",
              "    </tr>\n",
              "    <tr>\n",
              "      <th>3</th>\n",
              "      <td>20.70</td>\n",
              "      <td>21.57</td>\n",
              "      <td>20.70</td>\n",
              "      <td>64585536.0</td>\n",
              "      <td>1.363421e+09</td>\n",
              "      <td>21.02</td>\n",
              "    </tr>\n",
              "    <tr>\n",
              "      <th>4</th>\n",
              "      <td>20.60</td>\n",
              "      <td>20.70</td>\n",
              "      <td>20.20</td>\n",
              "      <td>45886018.0</td>\n",
              "      <td>9.382043e+08</td>\n",
              "      <td>20.70</td>\n",
              "    </tr>\n",
              "  </tbody>\n",
              "</table>\n",
              "</div>"
            ],
            "text/plain": [
              "    open   high    low      volume        amount  close\n",
              "0  20.64  20.64  20.37  16362363.0  3.350027e+08  20.56\n",
              "1  20.92  20.92  20.60  21850597.0  4.520071e+08  20.64\n",
              "2  21.00  21.15  20.72  26910139.0  5.628396e+08  20.94\n",
              "3  20.70  21.57  20.70  64585536.0  1.363421e+09  21.02\n",
              "4  20.60  20.70  20.20  45886018.0  9.382043e+08  20.70"
            ]
          },
          "metadata": {
            "tags": []
          },
          "execution_count": 36
        }
      ]
    },
    {
      "cell_type": "markdown",
      "metadata": {
        "id": "rzVasIq0BUdU",
        "colab_type": "text"
      },
      "source": [
        "## Preprocess Data\n",
        "\n",
        "We can see from the table above that the scales of our features vary a lot. It will be beneficial to normalize your training data before you feed data into your model. \"Having different features with widely different scales fed to your model will cause the network to weight the features not equally. This can cause a falsely prioritisation of some features over the others in the representation.\" Read [here](http://stackoverflow.com/a/43526354/6670143) for more detailed explanation."
      ]
    },
    {
      "cell_type": "code",
      "metadata": {
        "id": "XaxyI3UaBUdb",
        "colab_type": "code",
        "colab": {}
      },
      "source": [
        "def standard_scaler(X_train, X_test):\n",
        "    train_samples, train_nx, train_ny = X_train.shape\n",
        "    test_samples, test_nx, test_ny = X_test.shape\n",
        "    \n",
        "    X_train = X_train.reshape((train_samples, train_nx * train_ny))\n",
        "    X_test = X_test.reshape((test_samples, test_nx * test_ny))\n",
        "    \n",
        "    preprocessor = prep.StandardScaler().fit(X_train)\n",
        "    X_train = preprocessor.transform(X_train)\n",
        "    X_test = preprocessor.transform(X_test)\n",
        "    \n",
        "    X_train = X_train.reshape((train_samples, train_nx, train_ny))\n",
        "    X_test = X_test.reshape((test_samples, test_nx, test_ny))\n",
        "    \n",
        "    return X_train, X_test"
      ],
      "execution_count": 37,
      "outputs": []
    },
    {
      "cell_type": "code",
      "metadata": {
        "id": "KPLR2HDzH7zB",
        "colab_type": "code",
        "colab": {}
      },
      "source": [
        "def recover_scaler(train_orig, test_orig, X_train, X_test, predictions_for_inverse_transform):\n",
        "\n",
        "    train_orig_samples, train_orig_nx, train_orig_ny = train_orig.shape\n",
        "    \n",
        "    train_orig = train_orig.reshape((train_orig_samples, train_orig_nx * train_orig_ny))\n",
        "\n",
        "    preprocessor = prep.StandardScaler().fit(train_orig)\n",
        "\n",
        "\n",
        "    train_samples, train_nx, train_ny = X_train.shape\n",
        "    test_samples, test_nx, test_ny = X_test.shape\n",
        "    predictions_for_inverse_transform_samples, predictions_for_inverse_transform_nx, predictions_for_inverse_transform_ny = predictions_for_inverse_transform.shape\n",
        "    \n",
        "    \n",
        "    X_train = X_train.reshape((train_samples, train_nx * train_ny))\n",
        "    X_test = X_test.reshape((test_samples, test_nx * test_ny))\n",
        "    predictions_for_inverse_transform = predictions_for_inverse_transform.reshape((predictions_for_inverse_transform_samples, predictions_for_inverse_transform_nx * predictions_for_inverse_transform_ny))\n",
        "    \n",
        "    # print (X_test)\n",
        "    # print (predictions_for_inverse_transform)\n",
        "\n",
        "    X_train = preprocessor.inverse_transform(X_train)\n",
        "    X_test = preprocessor.inverse_transform(X_test)\n",
        "    predictions_for_inverse_transform = preprocessor.inverse_transform(predictions_for_inverse_transform)    \n",
        "\n",
        "    X_train = X_train.reshape((train_samples, train_nx, train_ny))\n",
        "    X_test = X_test.reshape((test_samples, test_nx, test_ny))\n",
        "    predictions_for_inverse_transform = predictions_for_inverse_transform.reshape((predictions_for_inverse_transform_samples, predictions_for_inverse_transform_nx, predictions_for_inverse_transform_ny))\n",
        "\n",
        "    return X_train, X_test, predictions_for_inverse_transform"
      ],
      "execution_count": 38,
      "outputs": []
    },
    {
      "cell_type": "markdown",
      "metadata": {
        "id": "J49KcuxkBUdg",
        "colab_type": "text"
      },
      "source": [
        "Split the data to X_train, y_train, X_test, y_test"
      ]
    },
    {
      "cell_type": "code",
      "metadata": {
        "id": "WLM8-3-aBUdg",
        "colab_type": "code",
        "colab": {}
      },
      "source": [
        "def preprocess_data(stock, seq_len):\n",
        "    amount_of_features = len(stock.columns)\n",
        "    data = stock.values\n",
        "    \n",
        "    sequence_length = seq_len + 1\n",
        "    result = []\n",
        "    ## Probably here add another column as the label.\n",
        "    for index in range(len(data) - sequence_length):\n",
        "        result.append(data[index : index + sequence_length])\n",
        "\n",
        "        # print (index)\n",
        "\n",
        "        # print (result)\n",
        "    \n",
        "        \n",
        "    result = np.array(result)\n",
        "    row = round(0.9 * result.shape[0])\n",
        "    train = result[: int(row), :]\n",
        "\n",
        "    print (train)\n",
        "    print (result)\n",
        "    # # print (row)\n",
        "    # print (\"X_train\")\n",
        "    # print (train[:, : -1])\n",
        "    # print (\"y_train\")\n",
        "    # print (train[:, -1][: ,-1]) \n",
        "\n",
        "    # print (\"X_test\")\n",
        "    # print (result[int(row) :, : -1]) \n",
        "    # print (\"y_test\")\n",
        "    print (result[int(row) :, -1][ : ,-1]) \n",
        "\n",
        "    # trainFit = StandardScaler().fit(train)\n",
        "    # resultFit = StandardScaler().fit(result)\n",
        "    # train = trainFit.transform(train)\n",
        "    # result = resultFit.transform(result)\n",
        "\n",
        "    train_standard, result_standard = standard_scaler(train, result)\n",
        "\n",
        "    \n",
        "    X_train = train_standard[:, : -1]\n",
        "    y_train = train_standard[:, -1][: ,-1]\n",
        "    X_test = result_standard[int(row) :, : -1]\n",
        "    y_test = result_standard[int(row) :, -1][ : ,-1]\n",
        "\n",
        "    print (y_test)\n",
        "\n",
        "\n",
        "\n",
        "    X_train = np.reshape(X_train, (X_train.shape[0], X_train.shape[1], amount_of_features))\n",
        "    X_test = np.reshape(X_test, (X_test.shape[0], X_test.shape[1], amount_of_features)) \n",
        "\n",
        " \n",
        "\n",
        "    return [X_train, y_train, X_test, y_test, train, result,train_standard,result_standard]"
      ],
      "execution_count": 39,
      "outputs": []
    },
    {
      "cell_type": "markdown",
      "metadata": {
        "id": "-Ig_EdoKBUdj",
        "colab_type": "text"
      },
      "source": [
        "## Build the LSTM Network\n",
        "\n",
        "Here we will build a simple RNN with 2 LSTM layers.\n",
        "The architecture is:\n",
        "    \n",
        "    LSTM --> Dropout --> LSTM --> Dropout --> Fully-Conneted(Dense)"
      ]
    },
    {
      "cell_type": "code",
      "metadata": {
        "id": "r3iZMtQ1BUdk",
        "colab_type": "code",
        "colab": {}
      },
      "source": [
        "def build_model(layers):\n",
        "\n",
        "    model = Sequential()\n",
        "    model.add(LSTM(512, input_shape=(X_train.shape[1], X_train.shape[2]), return_sequences=True))\n",
        "    model.add(Dropout(0.4))\n",
        "    model.add(LSTM(256, return_sequences=True))\n",
        "    model.add(Dropout(0.3))\n",
        "    model.add(LSTM(128, return_sequences=True))\n",
        "    model.add(Dropout(0.2))\n",
        "    model.add(LSTM(64, return_sequences=True))\n",
        "    model.add(Dropout(0.2))\n",
        "    model.add(LSTM(32))\n",
        "    model.add(Dense(1, activation='linear'))\n",
        "\n",
        "    start = time.time()\n",
        "    model.compile(loss='mean_squared_error', optimizer='adam', metrics=['accuracy'])\n",
        "    model.summary() \n",
        "    print(\"Compilation Time : \", time.time() - start)\n",
        "    return model"
      ],
      "execution_count": 40,
      "outputs": []
    },
    {
      "cell_type": "code",
      "metadata": {
        "id": "LBMidPNzBUdm",
        "colab_type": "code",
        "colab": {
          "base_uri": "https://localhost:8080/",
          "height": 1000
        },
        "outputId": "19e417d0-e41d-40ee-d8b0-d4140e4a1191"
      },
      "source": [
        "window = 20\n",
        "X_train, y_train, X_test, y_test, train_orig, result_orig, train_for_inverse_transform,result_for_inverse_transform = preprocess_data(df[:: -1], window)\n",
        "print(\"X_train\", X_train.shape)\n",
        "print(\"y_train\", y_train.shape)\n",
        "print(\"X_test\", X_test.shape)\n",
        "print(\"y_test\", y_test.shape)\n",
        "# print (X_train)\n",
        "# print (y_train)\n",
        "# print (X_test)\n",
        "# print (y_test)"
      ],
      "execution_count": 41,
      "outputs": [
        {
          "output_type": "stream",
          "text": [
            "[[[6.03000000e+00 6.19000000e+00 5.85000000e+00 3.78800000e+05\n",
            "   2.28317000e+06 6.17000000e+00]\n",
            "  [6.20000000e+00 6.31000000e+00 6.06000000e+00 5.44600000e+05\n",
            "   3.38570500e+06 6.26000000e+00]\n",
            "  [6.26000000e+00 6.35000000e+00 6.12000000e+00 5.60400000e+05\n",
            "   3.49940500e+06 6.15000000e+00]\n",
            "  ...\n",
            "  [5.55000000e+00 5.62000000e+00 5.50000000e+00 1.50900000e+05\n",
            "   8.41633000e+05 5.57000000e+00]\n",
            "  [5.50000000e+00 5.60000000e+00 5.45000000e+00 1.57300000e+05\n",
            "   8.70136000e+05 5.55000000e+00]\n",
            "  [5.60000000e+00 5.61000000e+00 5.52000000e+00 8.88000000e+04\n",
            "   4.94768000e+05 5.56000000e+00]]\n",
            "\n",
            " [[6.20000000e+00 6.31000000e+00 6.06000000e+00 5.44600000e+05\n",
            "   3.38570500e+06 6.26000000e+00]\n",
            "  [6.26000000e+00 6.35000000e+00 6.12000000e+00 5.60400000e+05\n",
            "   3.49940500e+06 6.15000000e+00]\n",
            "  [6.08000000e+00 6.18000000e+00 6.02000000e+00 4.62600000e+05\n",
            "   2.82735100e+06 6.18000000e+00]\n",
            "  ...\n",
            "  [5.50000000e+00 5.60000000e+00 5.45000000e+00 1.57300000e+05\n",
            "   8.70136000e+05 5.55000000e+00]\n",
            "  [5.60000000e+00 5.61000000e+00 5.52000000e+00 8.88000000e+04\n",
            "   4.94768000e+05 5.56000000e+00]\n",
            "  [5.62000000e+00 5.62000000e+00 5.52000000e+00 4.28000000e+04\n",
            "   2.37492000e+05 5.55000000e+00]]\n",
            "\n",
            " [[6.26000000e+00 6.35000000e+00 6.12000000e+00 5.60400000e+05\n",
            "   3.49940500e+06 6.15000000e+00]\n",
            "  [6.08000000e+00 6.18000000e+00 6.02000000e+00 4.62600000e+05\n",
            "   2.82735100e+06 6.18000000e+00]\n",
            "  [6.15000000e+00 6.15000000e+00 6.00000000e+00 2.79500000e+05\n",
            "   1.68829000e+06 6.02000000e+00]\n",
            "  ...\n",
            "  [5.60000000e+00 5.61000000e+00 5.52000000e+00 8.88000000e+04\n",
            "   4.94768000e+05 5.56000000e+00]\n",
            "  [5.62000000e+00 5.62000000e+00 5.52000000e+00 4.28000000e+04\n",
            "   2.37492000e+05 5.55000000e+00]\n",
            "  [5.55000000e+00 5.60000000e+00 5.49000000e+00 9.31000000e+04\n",
            "   5.16998000e+05 5.52000000e+00]]\n",
            "\n",
            " ...\n",
            "\n",
            " [[8.85000000e+00 8.93000000e+00 8.67000000e+00 7.31638640e+07\n",
            "   6.43863936e+08 8.70000000e+00]\n",
            "  [8.69000000e+00 8.75000000e+00 8.47000000e+00 7.05071760e+07\n",
            "   6.06426560e+08 8.61000000e+00]\n",
            "  [8.53000000e+00 9.02000000e+00 8.51000000e+00 1.02544984e+08\n",
            "   9.11236800e+08 8.89000000e+00]\n",
            "  ...\n",
            "  [9.44000000e+00 9.68000000e+00 9.44000000e+00 7.01998160e+07\n",
            "   6.74648768e+08 9.61000000e+00]\n",
            "  [9.61000000e+00 9.61000000e+00 9.50000000e+00 5.17427680e+07\n",
            "   4.93666048e+08 9.56000000e+00]\n",
            "  [9.61000000e+00 9.63000000e+00 9.40000000e+00 5.31308320e+07\n",
            "   5.06251136e+08 9.55000000e+00]]\n",
            "\n",
            " [[8.69000000e+00 8.75000000e+00 8.47000000e+00 7.05071760e+07\n",
            "   6.06426560e+08 8.61000000e+00]\n",
            "  [8.53000000e+00 9.02000000e+00 8.51000000e+00 1.02544984e+08\n",
            "   9.11236800e+08 8.89000000e+00]\n",
            "  [8.90000000e+00 8.99000000e+00 8.88000000e+00 5.15900960e+07\n",
            "   4.60833376e+08 8.94000000e+00]\n",
            "  ...\n",
            "  [9.61000000e+00 9.61000000e+00 9.50000000e+00 5.17427680e+07\n",
            "   4.93666048e+08 9.56000000e+00]\n",
            "  [9.61000000e+00 9.63000000e+00 9.40000000e+00 5.31308320e+07\n",
            "   5.06251136e+08 9.55000000e+00]\n",
            "  [9.54000000e+00 9.57000000e+00 9.35000000e+00 6.26639720e+07\n",
            "   5.91453888e+08 9.36000000e+00]]\n",
            "\n",
            " [[8.53000000e+00 9.02000000e+00 8.51000000e+00 1.02544984e+08\n",
            "   9.11236800e+08 8.89000000e+00]\n",
            "  [8.90000000e+00 8.99000000e+00 8.88000000e+00 5.15900960e+07\n",
            "   4.60833376e+08 8.94000000e+00]\n",
            "  [8.90000000e+00 9.21000000e+00 8.88000000e+00 8.75266560e+07\n",
            "   7.98481792e+08 9.18000000e+00]\n",
            "  ...\n",
            "  [9.61000000e+00 9.63000000e+00 9.40000000e+00 5.31308320e+07\n",
            "   5.06251136e+08 9.55000000e+00]\n",
            "  [9.54000000e+00 9.57000000e+00 9.35000000e+00 6.26639720e+07\n",
            "   5.91453888e+08 9.36000000e+00]\n",
            "  [9.35000000e+00 9.50000000e+00 9.35000000e+00 4.18079000e+07\n",
            "   3.93850784e+08 9.40000000e+00]]]\n",
            "[[[6.03000000e+00 6.19000000e+00 5.85000000e+00 3.78800000e+05\n",
            "   2.28317000e+06 6.17000000e+00]\n",
            "  [6.20000000e+00 6.31000000e+00 6.06000000e+00 5.44600000e+05\n",
            "   3.38570500e+06 6.26000000e+00]\n",
            "  [6.26000000e+00 6.35000000e+00 6.12000000e+00 5.60400000e+05\n",
            "   3.49940500e+06 6.15000000e+00]\n",
            "  ...\n",
            "  [5.55000000e+00 5.62000000e+00 5.50000000e+00 1.50900000e+05\n",
            "   8.41633000e+05 5.57000000e+00]\n",
            "  [5.50000000e+00 5.60000000e+00 5.45000000e+00 1.57300000e+05\n",
            "   8.70136000e+05 5.55000000e+00]\n",
            "  [5.60000000e+00 5.61000000e+00 5.52000000e+00 8.88000000e+04\n",
            "   4.94768000e+05 5.56000000e+00]]\n",
            "\n",
            " [[6.20000000e+00 6.31000000e+00 6.06000000e+00 5.44600000e+05\n",
            "   3.38570500e+06 6.26000000e+00]\n",
            "  [6.26000000e+00 6.35000000e+00 6.12000000e+00 5.60400000e+05\n",
            "   3.49940500e+06 6.15000000e+00]\n",
            "  [6.08000000e+00 6.18000000e+00 6.02000000e+00 4.62600000e+05\n",
            "   2.82735100e+06 6.18000000e+00]\n",
            "  ...\n",
            "  [5.50000000e+00 5.60000000e+00 5.45000000e+00 1.57300000e+05\n",
            "   8.70136000e+05 5.55000000e+00]\n",
            "  [5.60000000e+00 5.61000000e+00 5.52000000e+00 8.88000000e+04\n",
            "   4.94768000e+05 5.56000000e+00]\n",
            "  [5.62000000e+00 5.62000000e+00 5.52000000e+00 4.28000000e+04\n",
            "   2.37492000e+05 5.55000000e+00]]\n",
            "\n",
            " [[6.26000000e+00 6.35000000e+00 6.12000000e+00 5.60400000e+05\n",
            "   3.49940500e+06 6.15000000e+00]\n",
            "  [6.08000000e+00 6.18000000e+00 6.02000000e+00 4.62600000e+05\n",
            "   2.82735100e+06 6.18000000e+00]\n",
            "  [6.15000000e+00 6.15000000e+00 6.00000000e+00 2.79500000e+05\n",
            "   1.68829000e+06 6.02000000e+00]\n",
            "  ...\n",
            "  [5.60000000e+00 5.61000000e+00 5.52000000e+00 8.88000000e+04\n",
            "   4.94768000e+05 5.56000000e+00]\n",
            "  [5.62000000e+00 5.62000000e+00 5.52000000e+00 4.28000000e+04\n",
            "   2.37492000e+05 5.55000000e+00]\n",
            "  [5.55000000e+00 5.60000000e+00 5.49000000e+00 9.31000000e+04\n",
            "   5.16998000e+05 5.52000000e+00]]\n",
            "\n",
            " ...\n",
            "\n",
            " [[2.06500000e+01 2.08800000e+01 2.05100000e+01 4.19235140e+07\n",
            "   8.69278705e+08 2.07100000e+01]\n",
            "  [2.08100000e+01 2.24000000e+01 2.07200000e+01 1.20994029e+08\n",
            "   2.61043416e+09 2.15700000e+01]\n",
            "  [2.13600000e+01 2.15700000e+01 2.10000000e+01 5.06426690e+07\n",
            "   1.07788089e+09 2.12900000e+01]\n",
            "  ...\n",
            "  [2.07200000e+01 2.07500000e+01 2.05100000e+01 2.74599400e+07\n",
            "   5.65963441e+08 2.06000000e+01]\n",
            "  [2.06000000e+01 2.07000000e+01 2.02000000e+01 4.58860180e+07\n",
            "   9.38204314e+08 2.07000000e+01]\n",
            "  [2.07000000e+01 2.15700000e+01 2.07000000e+01 6.45855360e+07\n",
            "   1.36342114e+09 2.10200000e+01]]\n",
            "\n",
            " [[2.08100000e+01 2.24000000e+01 2.07200000e+01 1.20994029e+08\n",
            "   2.61043416e+09 2.15700000e+01]\n",
            "  [2.13600000e+01 2.15700000e+01 2.10000000e+01 5.06426690e+07\n",
            "   1.07788089e+09 2.12900000e+01]\n",
            "  [2.14100000e+01 2.16800000e+01 2.11300000e+01 5.16623920e+07\n",
            "   1.10185384e+09 2.12700000e+01]\n",
            "  ...\n",
            "  [2.06000000e+01 2.07000000e+01 2.02000000e+01 4.58860180e+07\n",
            "   9.38204314e+08 2.07000000e+01]\n",
            "  [2.07000000e+01 2.15700000e+01 2.07000000e+01 6.45855360e+07\n",
            "   1.36342114e+09 2.10200000e+01]\n",
            "  [2.10000000e+01 2.11500000e+01 2.07200000e+01 2.69101390e+07\n",
            "   5.62839617e+08 2.09400000e+01]]\n",
            "\n",
            " [[2.13600000e+01 2.15700000e+01 2.10000000e+01 5.06426690e+07\n",
            "   1.07788089e+09 2.12900000e+01]\n",
            "  [2.14100000e+01 2.16800000e+01 2.11300000e+01 5.16623920e+07\n",
            "   1.10185384e+09 2.12700000e+01]\n",
            "  [2.20000000e+01 2.22800000e+01 2.15000000e+01 7.89146550e+07\n",
            "   1.71909162e+09 2.15400000e+01]\n",
            "  ...\n",
            "  [2.07000000e+01 2.15700000e+01 2.07000000e+01 6.45855360e+07\n",
            "   1.36342114e+09 2.10200000e+01]\n",
            "  [2.10000000e+01 2.11500000e+01 2.07200000e+01 2.69101390e+07\n",
            "   5.62839617e+08 2.09400000e+01]\n",
            "  [2.09200000e+01 2.09200000e+01 2.06000000e+01 2.18505970e+07\n",
            "   4.52007098e+08 2.06400000e+01]]]\n",
            "[ 9.38  9.4   9.21  9.33  9.35  9.16  9.16  9.16  9.02  9.12  9.17  9.25\n",
            "  9.5   9.67  9.83  9.62  9.46  9.44  9.44  9.25  9.21  9.27  9.23  9.28\n",
            "  9.22  9.33  9.44  9.39  9.33  9.22  9.18  9.44  9.47  9.57  9.64  9.51\n",
            "  9.41  9.31  9.35  9.35  9.22  9.2   9.1   9.09  8.78  9.02  9.22  9.18\n",
            "  9.4   9.3   9.39  9.29  9.33  9.4   9.58  9.6   9.71  9.51  9.67  9.47\n",
            "  9.29  9.19  9.24  9.37 10.15 10.08 10.1  10.27 10.9  10.64 10.93 11.2\n",
            " 11.69 11.46 12.3  11.42 11.95 12.03 11.69 11.3  11.53 11.93 11.62 11.48\n",
            " 11.72 11.75 11.03 11.22 11.78 12.43 12.64 13.9  14.91 14.36 14.23 13.59\n",
            " 13.45 13.12 13.07 13.1  13.77 13.52 12.17 12.35 13.05 13.58 13.92 13.7\n",
            " 13.18 13.   13.01 13.12 12.88 12.96 12.8  12.7  12.16 12.18 12.42 12.41\n",
            " 12.47 12.76 12.64 12.77 12.4  12.85 12.75 12.77 12.2  12.22 11.9  11.94\n",
            " 12.22 12.02 11.93 12.22 12.23 12.49 12.63 13.14 12.87 13.14 13.36 13.05\n",
            " 12.78 12.95 13.35 14.24 13.82 13.72 13.59 13.45 13.72 13.82 14.64 14.32\n",
            " 14.37 14.12 13.9  14.3  14.67 14.21 14.48 14.88 14.76 14.42 14.7  14.19\n",
            " 14.24 14.6  14.55 13.77 13.56 13.61 13.8  14.07 13.92 14.7  14.59 14.16\n",
            " 13.84 14.16 14.05 14.15 14.49 15.02 15.77 15.4  14.35 14.35 14.88 14.8\n",
            " 15.05 14.99 15.57 16.08 15.66 15.52 15.32 15.48 14.95 14.38 14.58 14.18\n",
            " 13.55 14.27 14.38 14.2  13.43 13.69 14.52 14.25 14.21 13.7  14.88 14.54\n",
            " 13.26 14.55 14.97 15.1  14.55 14.71 14.7  15.07 15.35 14.51 14.7  15.16\n",
            " 15.41 14.2  14.62 14.6  14.08 14.18 14.61 14.79 14.45 14.34 14.6  15.07\n",
            " 15.57 14.93 14.88 14.95 14.76 14.22 14.5  14.28 13.91 13.19 13.   13.25\n",
            " 13.18 13.58 13.8  14.23 14.22 13.6  13.68 13.76 13.54 13.47 13.19 13.02\n",
            " 13.43 13.1  13.12 13.18 13.26 13.15 13.09 12.9  12.85 12.6  12.73 13.07\n",
            " 13.23 13.48 13.47 13.28 13.52 13.65 13.53 13.55 13.23 13.35 13.74 13.67\n",
            " 13.69 13.66 13.62 13.67 13.56 13.66 14.08 14.12 14.21 14.4  14.27 14.17\n",
            " 14.09 13.9  14.   14.   14.67 14.5  14.49 14.37 14.5  14.56 14.5  14.26\n",
            " 15.07 16.58 18.24 19.15 18.98 18.02 17.77 19.55 19.54 19.9  20.08 21.08\n",
            " 20.19 22.21 24.43 21.99 19.79 19.8  18.82 18.75 18.27 18.12 18.32 17.96\n",
            " 17.89 17.43 17.11 17.08 17.02 17.39 17.7  17.78 17.42 17.92 17.14 17.17\n",
            " 17.61 17.88 19.67 20.95 21.87 21.97 21.2  20.71 22.78 25.06 27.57 25.85\n",
            " 25.58 24.59 24.7  24.7  23.99 23.54 22.89 22.91 22.66 24.93 23.44 23.77\n",
            " 23.44 23.32 23.27 23.62 23.17 23.5  23.58 23.58 23.63 23.62 24.62 27.\n",
            " 25.48 24.68 25.14 25.8  25.99 26.17 25.97 26.23 26.6  26.81 26.84 26.\n",
            " 26.   25.83 25.94 25.25 25.24 25.01 25.17 24.77 24.75 24.92 25.79 24.9\n",
            " 24.87 24.59 24.16 24.22 26.3  26.56 25.99 25.7  26.94 26.68 27.   27.72\n",
            " 27.4  27.3  27.22 26.93 27.2  26.38 26.16 26.98 26.97 26.45 25.5  25.38\n",
            " 25.14 24.74 24.81 23.26 23.06 22.29 22.33 22.46 21.1  20.33 20.48 20.61\n",
            " 20.3  20.65 21.42 21.2  20.84 20.55 20.73 20.85 20.93 20.64 20.66 20.58\n",
            " 20.4  21.81 21.   20.8  20.92 20.6  20.68 20.74 20.69 20.61 20.68 20.68\n",
            " 20.71 20.64 20.69 20.8  20.66 20.77 20.91 20.67 20.68 20.54 20.61 20.98\n",
            " 20.9  20.79 20.72 20.52 20.53 20.5  20.34 20.2  20.22 20.26 20.72 20.51\n",
            " 20.6  20.71 21.57 21.29 21.27 21.54 21.13 21.18 21.07 21.45 21.49 21.2\n",
            " 21.27 21.01 20.53 20.58 20.58 20.79 20.8  20.6  20.7  21.02 20.94 20.64]\n",
            "[-0.18065023 -0.1769175  -0.21237849 -0.18998207 -0.18624934 -0.22171033\n",
            " -0.22171033 -0.22171033 -0.24783949 -0.22917581 -0.21984397 -0.20491302\n",
            " -0.15825381 -0.12652555 -0.09666366 -0.13585739 -0.16571929 -0.16945202\n",
            " -0.16945202 -0.20491302 -0.21237849 -0.20118028 -0.20864576 -0.19931391\n",
            " -0.21051212 -0.18998207 -0.16945202 -0.17878386 -0.18998207 -0.21051212\n",
            " -0.2179776  -0.16945202 -0.16385292 -0.14518924 -0.13212466 -0.15638744\n",
            " -0.17505113 -0.19371481 -0.18624934 -0.18624934 -0.21051212 -0.21424486\n",
            " -0.23290854 -0.23477491 -0.29263233 -0.24783949 -0.21051212 -0.2179776\n",
            " -0.1769175  -0.19558118 -0.17878386 -0.19744755 -0.18998207 -0.1769175\n",
            " -0.14332287 -0.13959013 -0.11906008 -0.15638744 -0.12652555 -0.16385292\n",
            " -0.19744755 -0.21611123 -0.20677939 -0.1825166  -0.03693988 -0.05000445\n",
            " -0.04627172 -0.01454346  0.10303774  0.05451217  0.10863685  0.15902879\n",
            "  0.25048083  0.20755436  0.3643293   0.20008889  0.29900641  0.31393735\n",
            "  0.25048083  0.17769247  0.22061894  0.29527367  0.23741626  0.2112871\n",
            "  0.25607994  0.26167904  0.12730053  0.16276153  0.26727815  0.38859208\n",
            "  0.42778582  0.66294822  0.85145141  0.74880116  0.72453837  0.6050908\n",
            "  0.57896165  0.51737149  0.50803965  0.51363876  0.63868543  0.59202622\n",
            "  0.34006651  0.37366114  0.50430692  0.60322443  0.66668095  0.62562085\n",
            "  0.5285697   0.49497507  0.49684144  0.51737149  0.47257866  0.4875096\n",
            "  0.45764771  0.43898403  0.33820014  0.34193288  0.38672572  0.38485935\n",
            "  0.39605756  0.45018224  0.42778582  0.4520486   0.38299298  0.46697955\n",
            "  0.44831587  0.4520486   0.34566561  0.34939835  0.28967457  0.29714004\n",
            "  0.34939835  0.31207099  0.29527367  0.34939835  0.35126472  0.39979029\n",
            "  0.42591945  0.52110423  0.47071229  0.52110423  0.56216433  0.50430692\n",
            "  0.45391497  0.48564323  0.56029796  0.72640474  0.64801727  0.62935359\n",
            "  0.6050908   0.57896165  0.62935359  0.64801727  0.80105947  0.74133568\n",
            "  0.75066753  0.70400832  0.66294822  0.73760295  0.80665857  0.72080563\n",
            "  0.77119758  0.84585231  0.82345589  0.75999937  0.81225768  0.7170729\n",
            "  0.72640474  0.79359399  0.78426215  0.63868543  0.5994917   0.60882354\n",
            "  0.64428453  0.69467648  0.66668095  0.81225768  0.79172763  0.71147379\n",
            "  0.65175001  0.71147379  0.69094374  0.70960742  0.77306394  0.87198146\n",
            "  1.01195908  0.94290345  0.74693479  0.74693479  0.84585231  0.83092136\n",
            "  0.87758057  0.86638236  0.97463172  1.0698165   0.99142903  0.96529987\n",
            "  0.92797251  0.9578344   0.85891688  0.75253389  0.78986126  0.71520653\n",
            "  0.59762533  0.73200384  0.75253389  0.71893926  0.57522891  0.62375448\n",
            "  0.77866305  0.72827111  0.72080563  0.62562085  0.84585231  0.78239579\n",
            "  0.54350065  0.78426215  0.86264962  0.88691241  0.78426215  0.81412405\n",
            "  0.81225768  0.8813133   0.93357161  0.77679668  0.81225768  0.89811062\n",
            "  0.94476982  0.71893926  0.79732673  0.79359399  0.69654285  0.71520653\n",
            "  0.79546036  0.82905499  0.76559847  0.74506842  0.79359399  0.8813133\n",
            "  0.97463172  0.85518415  0.84585231  0.85891688  0.82345589  0.722672\n",
            "  0.77493031  0.73387021  0.66481459  0.53043607  0.49497507  0.54163428\n",
            "  0.5285697   0.60322443  0.64428453  0.72453837  0.722672    0.60695717\n",
            "  0.62188812  0.63681906  0.59575896  0.58269438  0.53043607  0.49870781\n",
            "  0.57522891  0.51363876  0.51737149  0.5285697   0.54350065  0.5229706\n",
            "  0.51177239  0.47631139  0.46697955  0.42032034  0.44458313  0.50803965\n",
            "  0.53790154  0.58456075  0.58269438  0.54723339  0.59202622  0.61628901\n",
            "  0.59389259  0.59762533  0.53790154  0.56029796  0.63308633  0.62002175\n",
            "  0.62375448  0.61815538  0.61068991  0.62002175  0.5994917   0.61815538\n",
            "  0.69654285  0.70400832  0.72080563  0.75626663  0.73200384  0.71334016\n",
            "  0.69840921  0.66294822  0.6816119   0.6816119   0.80665857  0.77493031\n",
            "  0.77306394  0.75066753  0.77493031  0.78612852  0.77493031  0.73013747\n",
            "  0.8813133   1.16313491  1.47295204  1.64279155  1.61106329  1.43189194\n",
            "  1.38523273  1.71744628  1.71557991  1.78276917  1.8163638   2.00300062\n",
            "  1.83689385  2.21390023  2.62823399  2.17284013  1.76223912  1.76410549\n",
            "  1.5812014   1.56813682  1.47855114  1.45055562  1.48788298  1.42069373\n",
            "  1.40762915  1.32177621  1.26205243  1.25645332  1.24525511  1.31431074\n",
            "  1.37216815  1.3870991   1.31990984  1.41322825  1.26765153  1.27325064\n",
            "  1.35537084  1.40576278  1.7398427   1.97873783  2.15044371  2.1691074\n",
            "  2.02539704  1.933945    2.32028322  2.74581518  3.21427362  2.89325828\n",
            "  2.84286633  2.65809588  2.67862593  2.67862593  2.54611378  2.46212721\n",
            "  2.34081327  2.34454601  2.2978868   2.7215524   2.44346353  2.50505368\n",
            "  2.44346353  2.42106711  2.41173527  2.47705816  2.39307159  2.45466174\n",
            "  2.46959268  2.46959268  2.47892453  2.47705816  2.66369498  3.10789063\n",
            "  2.82420265  2.67489319  2.76074613  2.88392644  2.91938743  2.95298206\n",
            "  2.9156547   2.96418027  3.0332359   3.07242963  3.07802873  2.9212538\n",
            "  2.9212538   2.88952554  2.91005559  2.78127618  2.77940981  2.73648334\n",
            "  2.76634524  2.69169051  2.68795777  2.71968603  2.88206007  2.71595329\n",
            "  2.71035419  2.65809588  2.57784204  2.58904025  2.97724485  3.02577042\n",
            "  2.91938743  2.86526275  3.09669242  3.04816684  3.10789063  3.24226914\n",
            "  3.18254536  3.16388167  3.14895073  3.09482605  3.14521799  2.99217579\n",
            "  2.95111569  3.10415789  3.10229152  3.00524037  2.82793539  2.80553897\n",
            "  2.76074613  2.6860914   2.69915598  2.4098689   2.37254153  2.22883118\n",
            "  2.23629665  2.26055944  2.00673336  1.863023    1.89101853  1.91528131\n",
            "  1.8574239   1.92274679  2.06645714  2.02539704  1.95820778  1.9040831\n",
            "  1.93767773  1.96007415  1.9750051   1.92088042  1.92461315  1.90968221\n",
            "  1.87608758  2.1392455   1.98806968  1.95074231  1.97313873  1.91341495\n",
            "  1.92834589  1.9395441   1.93021226  1.91528131  1.92834589  1.92834589\n",
            "  1.933945    1.92088042  1.93021226  1.95074231  1.92461315  1.94514321\n",
            "  1.97127236  1.92647952  1.92834589  1.90221674  1.91528131  1.98433694\n",
            "  1.96940599  1.94887594  1.93581136  1.898484    1.90035037  1.89475126\n",
            "  1.86488937  1.83876022  1.84249295  1.84995842  1.93581136  1.89661763\n",
            "  1.91341495  1.933945    2.09445267  2.04219435  2.03846162  2.08885356\n",
            "  2.01233246  2.0216643   2.00113425  2.07205625  2.07952172  2.02539704\n",
            "  2.03846162  1.98993604  1.90035037  1.90968221  1.90968221  1.94887594\n",
            "  1.95074231  1.91341495  1.93207863  1.99180241  1.97687147  1.92088042]\n",
            "X_train (4648, 20, 6)\n",
            "y_train (4648,)\n",
            "X_test (516, 20, 6)\n",
            "y_test (516,)\n"
          ],
          "name": "stdout"
        }
      ]
    },
    {
      "cell_type": "code",
      "metadata": {
        "id": "FIIi_bzbBUdp",
        "colab_type": "code",
        "colab": {
          "base_uri": "https://localhost:8080/",
          "height": 510
        },
        "outputId": "abe54c0c-148d-47c7-edea-789651421f87"
      },
      "source": [
        "model = build_model([X_train.shape[2], window, 100, 1])"
      ],
      "execution_count": 42,
      "outputs": [
        {
          "output_type": "stream",
          "text": [
            "Model: \"sequential_2\"\n",
            "_________________________________________________________________\n",
            "Layer (type)                 Output Shape              Param #   \n",
            "=================================================================\n",
            "lstm_10 (LSTM)               (None, 20, 512)           1062912   \n",
            "_________________________________________________________________\n",
            "dropout_8 (Dropout)          (None, 20, 512)           0         \n",
            "_________________________________________________________________\n",
            "lstm_11 (LSTM)               (None, 20, 256)           787456    \n",
            "_________________________________________________________________\n",
            "dropout_9 (Dropout)          (None, 20, 256)           0         \n",
            "_________________________________________________________________\n",
            "lstm_12 (LSTM)               (None, 20, 128)           197120    \n",
            "_________________________________________________________________\n",
            "dropout_10 (Dropout)         (None, 20, 128)           0         \n",
            "_________________________________________________________________\n",
            "lstm_13 (LSTM)               (None, 20, 64)            49408     \n",
            "_________________________________________________________________\n",
            "dropout_11 (Dropout)         (None, 20, 64)            0         \n",
            "_________________________________________________________________\n",
            "lstm_14 (LSTM)               (None, 32)                12416     \n",
            "_________________________________________________________________\n",
            "dense_2 (Dense)              (None, 1)                 33        \n",
            "=================================================================\n",
            "Total params: 2,109,345\n",
            "Trainable params: 2,109,345\n",
            "Non-trainable params: 0\n",
            "_________________________________________________________________\n",
            "Compilation Time :  0.011868000030517578\n"
          ],
          "name": "stdout"
        }
      ]
    },
    {
      "cell_type": "markdown",
      "metadata": {
        "id": "CDvJll2VBUdr",
        "colab_type": "text"
      },
      "source": [
        "## Training the Network\n",
        "\n",
        "You can play with the hyperparameters here. The training process can take a significant time if you are using a average GPU or CPU(worse!)."
      ]
    },
    {
      "cell_type": "code",
      "metadata": {
        "id": "PfB-fgI_BUds",
        "colab_type": "code",
        "colab": {
          "base_uri": "https://localhost:8080/",
          "height": 34
        },
        "outputId": "ec73a3d9-5db4-4664-e87a-5c73f4726e59"
      },
      "source": [
        "model.fit(\n",
        "    X_train,\n",
        "    y_train,\n",
        "    batch_size=768,\n",
        "    epochs=200,\n",
        "    validation_split=0.1,\n",
        "    verbose=0)"
      ],
      "execution_count": 43,
      "outputs": [
        {
          "output_type": "execute_result",
          "data": {
            "text/plain": [
              "<tensorflow.python.keras.callbacks.History at 0x7feac3e52128>"
            ]
          },
          "metadata": {
            "tags": []
          },
          "execution_count": 43
        }
      ]
    },
    {
      "cell_type": "code",
      "metadata": {
        "id": "1j73jgmmBUdv",
        "colab_type": "code",
        "colab": {
          "base_uri": "https://localhost:8080/",
          "height": 51
        },
        "outputId": "e8daa64d-0e1e-4ded-fb92-05b3d2fbb305"
      },
      "source": [
        "trainScore = model.evaluate(X_train, y_train, verbose=0)\n",
        "print('Train Score: %.2f MSE (%.2f RMSE)' % (trainScore[0], math.sqrt(trainScore[0])))\n",
        "\n",
        "testScore = model.evaluate(X_test, y_test, verbose=0)\n",
        "print('Test Score: %.2f MSE (%.2f RMSE)' % (testScore[0], math.sqrt(testScore[0])))"
      ],
      "execution_count": 44,
      "outputs": [
        {
          "output_type": "stream",
          "text": [
            "Train Score: 0.01 MSE (0.08 RMSE)\n",
            "Test Score: 0.03 MSE (0.16 RMSE)\n"
          ],
          "name": "stdout"
        }
      ]
    },
    {
      "cell_type": "markdown",
      "metadata": {
        "id": "j-awbWzPBUdx",
        "colab_type": "text"
      },
      "source": [
        "## Visualize the Prediction"
      ]
    },
    {
      "cell_type": "code",
      "metadata": {
        "id": "dZfWoXLJBUdy",
        "colab_type": "code",
        "colab": {}
      },
      "source": [
        "diff = []\n",
        "ratio = []\n",
        "pred = model.predict(X_test)\n",
        "for u in range(len(y_test)):\n",
        "    pr = pred[u][0]\n",
        "    ratio.append((y_test[u] / pr) - 1)\n",
        "    diff.append(abs(y_test[u] - pr))"
      ],
      "execution_count": 45,
      "outputs": []
    },
    {
      "cell_type": "code",
      "metadata": {
        "id": "mZhqCOJrBUd0",
        "colab_type": "code",
        "colab": {}
      },
      "source": [
        "# TODO: Scale it back"
      ],
      "execution_count": 46,
      "outputs": []
    },
    {
      "cell_type": "code",
      "metadata": {
        "id": "5FPS2nypBUd3",
        "colab_type": "code",
        "colab": {
          "base_uri": "https://localhost:8080/",
          "height": 269
        },
        "outputId": "e24205a4-9396-40b1-80a7-447696c950b9"
      },
      "source": [
        "# if using within a jupyter notebook\n",
        "%matplotlib inline \n",
        "\n",
        "import matplotlib\n",
        "import matplotlib.pyplot as plt2\n",
        "\n",
        "\n",
        "plt2.plot(pred, color='red', label='Prediction')\n",
        "plt2.plot(y_test, color='blue', label='Ground Truth')\n",
        "plt2.legend(loc='upper left')\n",
        "plt2.show()"
      ],
      "execution_count": 47,
      "outputs": [
        {
          "output_type": "display_data",
          "data": {
            "image/png": "[encoded data removed]",
            "text/plain": [
              "<Figure size 432x288 with 1 Axes>"
            ]
          },
          "metadata": {
            "tags": [],
            "needs_background": "light"
          }
        }
      ]
    },
    {
      "cell_type": "code",
      "metadata": {
        "id": "bhVNa0yaTzgR",
        "colab_type": "code",
        "colab": {
          "base_uri": "https://localhost:8080/",
          "height": 1000
        },
        "outputId": "3b7b9660-42ec-4865-8e6e-d4bb9ee33d36"
      },
      "source": [
        "\n",
        "row = round(0.9 * result_for_inverse_transform.shape[0])\n",
        "# print (result_for_inverse_transform[int(row) :, -1][ : ,-1])\n",
        "import copy\n",
        "\n",
        "predictions_for_inverse_transform = copy.deepcopy(result_for_inverse_transform)\n",
        "\n",
        "#print (pred)\n",
        "for i in range(len(pred)):\n",
        "  predictions_for_inverse_transform[int(row) :, -1][ i ,-1] = pred[i]\n",
        "\n",
        "# print (predictions_for_inverse_transform[int(row) :, -1][ : ,-1])\n",
        "\n",
        "a,b,c =  recover_scaler(train_orig, result_orig, train_for_inverse_transform, result_for_inverse_transform, predictions_for_inverse_transform)\n",
        "recovered_stock_true_price = b[int(row) :, -1][ : ,-1]\n",
        "recovered_stock_pred_price = c[int(row) :, -1][ : ,-1]\n",
        "# print (result_orig[int(row) :, -1][ : ,-1])\n",
        "print (\"b\")\n",
        "print (b[int(row) :, -1][ : ,-1])\n",
        "print (\"c\")\n",
        "print (c[int(row) :, -1][ : ,-1])\n",
        "\n",
        "plt2.plot(recovered_stock_pred_price, color='red', label='Prediction')\n",
        "plt2.plot(recovered_stock_true_price, color='blue', label='Ground Truth')\n",
        "plt2.legend(loc='upper left')\n",
        "plt2.show()"
      ],
      "execution_count": 48,
      "outputs": [
        {
          "output_type": "stream",
          "text": [
            "b\n",
            "[ 9.38  9.4   9.21  9.33  9.35  9.16  9.16  9.16  9.02  9.12  9.17  9.25\n",
            "  9.5   9.67  9.83  9.62  9.46  9.44  9.44  9.25  9.21  9.27  9.23  9.28\n",
            "  9.22  9.33  9.44  9.39  9.33  9.22  9.18  9.44  9.47  9.57  9.64  9.51\n",
            "  9.41  9.31  9.35  9.35  9.22  9.2   9.1   9.09  8.78  9.02  9.22  9.18\n",
            "  9.4   9.3   9.39  9.29  9.33  9.4   9.58  9.6   9.71  9.51  9.67  9.47\n",
            "  9.29  9.19  9.24  9.37 10.15 10.08 10.1  10.27 10.9  10.64 10.93 11.2\n",
            " 11.69 11.46 12.3  11.42 11.95 12.03 11.69 11.3  11.53 11.93 11.62 11.48\n",
            " 11.72 11.75 11.03 11.22 11.78 12.43 12.64 13.9  14.91 14.36 14.23 13.59\n",
            " 13.45 13.12 13.07 13.1  13.77 13.52 12.17 12.35 13.05 13.58 13.92 13.7\n",
            " 13.18 13.   13.01 13.12 12.88 12.96 12.8  12.7  12.16 12.18 12.42 12.41\n",
            " 12.47 12.76 12.64 12.77 12.4  12.85 12.75 12.77 12.2  12.22 11.9  11.94\n",
            " 12.22 12.02 11.93 12.22 12.23 12.49 12.63 13.14 12.87 13.14 13.36 13.05\n",
            " 12.78 12.95 13.35 14.24 13.82 13.72 13.59 13.45 13.72 13.82 14.64 14.32\n",
            " 14.37 14.12 13.9  14.3  14.67 14.21 14.48 14.88 14.76 14.42 14.7  14.19\n",
            " 14.24 14.6  14.55 13.77 13.56 13.61 13.8  14.07 13.92 14.7  14.59 14.16\n",
            " 13.84 14.16 14.05 14.15 14.49 15.02 15.77 15.4  14.35 14.35 14.88 14.8\n",
            " 15.05 14.99 15.57 16.08 15.66 15.52 15.32 15.48 14.95 14.38 14.58 14.18\n",
            " 13.55 14.27 14.38 14.2  13.43 13.69 14.52 14.25 14.21 13.7  14.88 14.54\n",
            " 13.26 14.55 14.97 15.1  14.55 14.71 14.7  15.07 15.35 14.51 14.7  15.16\n",
            " 15.41 14.2  14.62 14.6  14.08 14.18 14.61 14.79 14.45 14.34 14.6  15.07\n",
            " 15.57 14.93 14.88 14.95 14.76 14.22 14.5  14.28 13.91 13.19 13.   13.25\n",
            " 13.18 13.58 13.8  14.23 14.22 13.6  13.68 13.76 13.54 13.47 13.19 13.02\n",
            " 13.43 13.1  13.12 13.18 13.26 13.15 13.09 12.9  12.85 12.6  12.73 13.07\n",
            " 13.23 13.48 13.47 13.28 13.52 13.65 13.53 13.55 13.23 13.35 13.74 13.67\n",
            " 13.69 13.66 13.62 13.67 13.56 13.66 14.08 14.12 14.21 14.4  14.27 14.17\n",
            " 14.09 13.9  14.   14.   14.67 14.5  14.49 14.37 14.5  14.56 14.5  14.26\n",
            " 15.07 16.58 18.24 19.15 18.98 18.02 17.77 19.55 19.54 19.9  20.08 21.08\n",
            " 20.19 22.21 24.43 21.99 19.79 19.8  18.82 18.75 18.27 18.12 18.32 17.96\n",
            " 17.89 17.43 17.11 17.08 17.02 17.39 17.7  17.78 17.42 17.92 17.14 17.17\n",
            " 17.61 17.88 19.67 20.95 21.87 21.97 21.2  20.71 22.78 25.06 27.57 25.85\n",
            " 25.58 24.59 24.7  24.7  23.99 23.54 22.89 22.91 22.66 24.93 23.44 23.77\n",
            " 23.44 23.32 23.27 23.62 23.17 23.5  23.58 23.58 23.63 23.62 24.62 27.\n",
            " 25.48 24.68 25.14 25.8  25.99 26.17 25.97 26.23 26.6  26.81 26.84 26.\n",
            " 26.   25.83 25.94 25.25 25.24 25.01 25.17 24.77 24.75 24.92 25.79 24.9\n",
            " 24.87 24.59 24.16 24.22 26.3  26.56 25.99 25.7  26.94 26.68 27.   27.72\n",
            " 27.4  27.3  27.22 26.93 27.2  26.38 26.16 26.98 26.97 26.45 25.5  25.38\n",
            " 25.14 24.74 24.81 23.26 23.06 22.29 22.33 22.46 21.1  20.33 20.48 20.61\n",
            " 20.3  20.65 21.42 21.2  20.84 20.55 20.73 20.85 20.93 20.64 20.66 20.58\n",
            " 20.4  21.81 21.   20.8  20.92 20.6  20.68 20.74 20.69 20.61 20.68 20.68\n",
            " 20.71 20.64 20.69 20.8  20.66 20.77 20.91 20.67 20.68 20.54 20.61 20.98\n",
            " 20.9  20.79 20.72 20.52 20.53 20.5  20.34 20.2  20.22 20.26 20.72 20.51\n",
            " 20.6  20.71 21.57 21.29 21.27 21.54 21.13 21.18 21.07 21.45 21.49 21.2\n",
            " 21.27 21.01 20.53 20.58 20.58 20.79 20.8  20.6  20.7  21.02 20.94 20.64]\n",
            "c\n",
            "[ 9.36509442  9.37216709  9.37515     9.32597246  9.27206389  9.24991033\n",
            "  9.18169006  9.10907552  9.11420287  9.08407741  9.05274292  9.10479703\n",
            "  9.18733326  9.42350806  9.6381151   9.749952    9.642367    9.44911456\n",
            "  9.40773471  9.35558184  9.34821744  9.27950334  9.24607608  9.20932873\n",
            "  9.22137425  9.22152898  9.33029438  9.37682753  9.38627968  9.29577658\n",
            "  9.24442841  9.14277999  9.43541866  9.48664578  9.5683959   9.57694465\n",
            "  9.48969393  9.38192734  9.29692125  9.29532739  9.33790421  9.26835531\n",
            "  9.18339928  9.11090003  9.05419258  8.96877587  8.94770774  9.08390096\n",
            "  9.14285807  9.31021428  9.33608361  9.31965636  9.23939408  9.30820134\n",
            "  9.40298125  9.55636083  9.67678828  9.64652525  9.561942    9.55020737\n",
            "  9.54695404  9.36844756  9.22574767  9.16510568  9.27005176 10.04830317\n",
            " 10.48418206 10.36157759 10.25591351 10.4857145  10.70343974 10.82670352\n",
            " 11.08127192 11.37023753 11.45649065 11.70282874 11.79833129 11.91854285\n",
            " 11.97256942 11.86298414 11.56486371 11.3631513  11.4542227  11.65807084\n",
            " 11.58727244 11.54073961 11.55943544 11.33897889 11.12043133 11.19450032\n",
            " 11.61816301 12.26633727 12.74838318 13.28377111 13.78740029 14.05602559\n",
            " 14.10005279 13.98610902 13.78966807 13.5523054  13.31665546 13.15109423\n",
            " 13.09690207 12.97619391 12.76005425 12.56823223 12.5172281  12.6368367\n",
            " 12.83928309 12.88956275 12.82918312 12.66358963 12.61399308 12.64695903\n",
            " 12.63181378 12.67636457 12.68039955 12.51129053 12.27764985 12.084521\n",
            " 12.02915343 12.06966159 12.32977606 12.4905234  12.54420985 12.35832779\n",
            " 12.47892865 12.57460078 12.64535456 12.50178856 12.27132697 11.91728696\n",
            " 11.88214296 11.98829718 12.06945783 12.03870426 12.18913478 12.28391621\n",
            " 12.40035531 12.55386766 12.85478538 12.91313611 12.9030842  13.23649026\n",
            " 13.20498268 13.0097478  12.86721893 12.94089917 13.22945696 13.53940127\n",
            " 13.84647996 14.02849758 14.05796029 13.97582143 13.8292868  13.68458915\n",
            " 13.6055877  13.587767   13.6162119  13.6488248  13.66532493 13.63142406\n",
            " 13.61438867 13.60935233 13.62627179 13.66994578 13.7336827  13.81300223\n",
            " 13.88021125 13.92283709 13.88330459 13.84469632 13.82942157 13.81642387\n",
            " 13.77111444 13.69952122 13.56918941 13.45996358 13.40943929 13.4544597\n",
            " 13.61746252 13.82331187 13.97702063 14.01431568 13.9791677  13.92441027\n",
            " 13.89565207 13.96316385 14.14868742 14.33763231 14.52177784 14.58580474\n",
            " 14.56995194 14.49266323 14.39963478 14.35029149 14.43089709 14.57727938\n",
            " 14.80144762 15.01503734 15.09530154 15.07707206 14.99321663 14.88099422\n",
            " 14.73949593 14.60157322 14.42882603 14.2874689  14.1807871  14.0688684\n",
            " 13.89856082 13.80297108 13.8398762  13.90076345 13.88639186 13.85797059\n",
            " 13.91336099 13.93699408 13.93673443 13.93851935 13.99642313 14.1068322\n",
            " 14.21841173 14.28863169 14.31760163 14.28702946 14.23561989 14.15806675\n",
            " 14.10192872 14.09801271 14.15981494 14.21974347 14.24718685 14.24005423\n",
            " 14.1468744  14.07484621 14.10987348 14.24133327 14.30150261 14.37358988\n",
            " 14.60365673 15.02431767 14.98832178 14.50349087 14.52497656 14.25728283\n",
            " 14.11250438 14.40461011 14.26356212 14.2310329  13.6129212  13.8257141\n",
            " 13.83836849 13.62999683 13.59460613 13.62515658 13.84673129 13.98006415\n",
            " 13.92198599 13.58707526 13.6589888  13.51947343 13.46519696 13.36531724\n",
            " 13.19734962 13.45317554 13.2450945  13.12125691 13.13466787 13.22982007\n",
            " 13.08743747 13.117651   12.89143293 12.86586372 12.59371617 12.76669139\n",
            " 13.28727451 13.26882531 13.58118368 13.51447542 13.37075341 13.5190177\n",
            " 13.69490708 13.64365241 13.67454267 13.49546158 13.48149845 13.8080285\n",
            " 13.88936288 13.72744493 13.8276852  13.7111693  13.80106897 13.70709169\n",
            " 13.79122209 14.18847796 14.39487022 14.312572   14.55731321 14.27949444\n",
            " 14.25627046 14.19059405 14.00647983 14.06455287 14.27197858 15.01857586\n",
            " 14.72398901 14.76521668 14.56076998 14.55603001 14.67845794 14.63520583\n",
            " 14.61125786 15.35547366 16.48622022 17.68887744 18.98562818 19.31856334\n",
            " 19.29686208 19.12460032 18.95742088 18.93604792 19.08643341 19.32461269\n",
            " 19.60196551 19.85552461 20.19397834 21.11582022 21.8042643  21.33373984\n",
            " 20.88624326 20.71093479 20.62451617 20.5090912  20.33295687 20.12556852\n",
            " 19.93871385 19.79620702 19.62353647 19.42628786 19.27464473 19.10237019\n",
            " 18.94370877 18.84632646 18.83281491 18.71100143 18.45771379 18.0936364\n",
            " 17.99949497 17.98146828 18.11562764 18.95417872 20.48336598 21.43113364\n",
            " 21.87642598 21.56920007 21.28647048 21.21110496 21.78077078 23.21781646\n",
            " 24.59054781 25.14473225 25.2467453  24.95803598 24.56767385 24.16933661\n",
            " 23.79274535 23.50353911 23.28336863 23.1089499  23.27473181 23.63116113\n",
            " 23.98815764 23.75400679 23.44072578 23.4153723  23.76126524 23.75852895\n",
            " 24.1588756  24.18099715 24.12401409 24.17765407 23.51989809 24.32715748\n",
            " 25.59927969 24.842017   24.50000622 24.97397852 24.97697541 25.73641741\n",
            " 26.09294893 25.44236198 26.11074376 26.14032304 26.29490941 26.35199977\n",
            " 25.36196716 25.26980577 24.49947736 24.8454214  24.12236363 24.96763344\n",
            " 24.64642077 25.3575408  24.47152683 25.15888764 25.22797195 26.35575547\n",
            " 25.33106955 25.9173128  25.37364813 25.14011811 25.04681724 26.2212595\n",
            " 27.43757518 26.54571944 26.52077985 26.81284119 26.54509988 26.61938085\n",
            " 27.38941672 27.58369208 28.14166287 28.00099684 27.36206531 26.89483155\n",
            " 25.706727   25.4498772  25.7619408  25.1024641  26.17753761 25.11173069\n",
            " 26.36688458 25.33278261 25.4620436  25.49901418 25.02106392 24.90081404\n",
            " 24.56439848 24.40504084 24.006489   23.37751517 22.91110408 22.54386245\n",
            " 22.33449023 22.12381501 21.98081509 22.16696844 21.95457506 21.81325114\n",
            " 21.60399644 21.46086238 21.34693969 21.45012161 21.04001015 21.05405504\n",
            " 20.82572168 20.71568753 22.46049756 20.20694698 21.33088219 20.92416938\n",
            " 20.3473671  20.94176748 21.01258784 21.23823282 21.35233818 21.38351682\n",
            " 21.20224587 21.05355939 20.83528975 20.62579873 20.88866083 20.35626835\n",
            " 20.71450079 20.87482289 20.8439617  21.10938189 20.9805827  21.15133068\n",
            " 21.5200682  21.40641761 21.36307895 21.16758236 20.89550922 20.76877183\n",
            " 20.65514423 20.52654879 20.42619642 20.56299881 20.53597315 21.14406712\n",
            " 20.73128324 20.97898972 21.02421644 22.0817653  21.34345482 21.86858629\n",
            " 22.23737235 21.39513775 21.76647232 21.49659384 22.08726854 22.0918814\n",
            " 22.03831935 21.9345894  21.39728131 20.77670222 20.47608646 20.47503767\n",
            " 20.53433674 20.54090537 20.58802782 21.00557338 21.78335761 21.06992923]\n"
          ],
          "name": "stdout"
        },
        {
          "output_type": "display_data",
          "data": {
            "image/png": "[encoded data removed]",
            "text/plain": [
              "<Figure size 432x288 with 1 Axes>"
            ]
          },
          "metadata": {
            "tags": [],
            "needs_background": "light"
          }
        }
      ]
    }
  ]
}